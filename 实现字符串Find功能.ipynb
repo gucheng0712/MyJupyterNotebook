{
 "cells": [
  {
   "cell_type": "code",
   "execution_count": 5,
   "metadata": {},
   "outputs": [
    {
     "name": "stdout",
     "output_type": "stream",
     "text": [
      "tmp = \"c++pyt\", substr = \"python\"index=0\n",
      "not find\n",
      "tmp = \"++pyth\", substr = \"python\"index=1\n",
      "not find\n",
      "tmp = \"+pytho\", substr = \"python\"index=2\n",
      "not find\n",
      "tmp = \"python\", substr = \"python\"index=3\n",
      "findpython in c++pythonjava index = 3\n",
      "3\n"
     ]
    }
   ],
   "source": [
    "#实现字符串find 的功能\n",
    "def myfind(data,substr):\n",
    "    # define the index\n",
    "    index = 0\n",
    "    # get the length of substr\n",
    "    lens = len(substr)\n",
    "    while True:\n",
    "        # if the left string's length < substr, return -1\n",
    "        if (len(data)-index)< lens:\n",
    "            return -1\n",
    "        #slice to get the content in the data\n",
    "        tmp = data[index:index+lens]\n",
    "\n",
    "        # add the print msg, and confirm the comare contents\n",
    "        print('tmp = \"{}\", substr = \"{}\"index={}'.format(tmp,substr,index))\n",
    "\n",
    "        if tmp == substr:\n",
    "            print('find{} in {} index = {}'.format(substr,data,index))\n",
    "            return index\n",
    "        else:\n",
    "            print(\"not find\")\n",
    "\n",
    "        index+=1\n",
    "        \n",
    "s ='c++pythonjava'\n",
    "substr = 'python'\n",
    "index = myfind(s,substr)\n",
    "print(index)"
   ]
  },
  {
   "cell_type": "code",
   "execution_count": null,
   "metadata": {},
   "outputs": [],
   "source": []
  }
 ],
 "metadata": {
  "kernelspec": {
   "display_name": "Python 3",
   "language": "python",
   "name": "python3"
  },
  "language_info": {
   "codemirror_mode": {
    "name": "ipython",
    "version": 3
   },
   "file_extension": ".py",
   "mimetype": "text/x-python",
   "name": "python",
   "nbconvert_exporter": "python",
   "pygments_lexer": "ipython3",
   "version": "3.7.1"
  }
 },
 "nbformat": 4,
 "nbformat_minor": 2
}
