{
 "cells": [
  {
   "cell_type": "code",
   "execution_count": 4,
   "metadata": {
    "scrolled": true
   },
   "outputs": [
    {
     "name": "stdout",
     "output_type": "stream",
     "text": [
      "40\n",
      "0.3219642409732999\n",
      "4.182369822791674\n",
      "b\n",
      "[1, 3, 4]\n"
     ]
    }
   ],
   "source": [
    "import random\n",
    "print(random.randint(10,100))\n",
    "print(random.random())\n",
    "print(random.uniform(1,10.8))\n",
    "print(random.choice('abcdefg'))\n",
    "print(random.sample([1,2,3,4],3)) # choice three randomly in the list"
   ]
  },
  {
   "cell_type": "code",
   "execution_count": 6,
   "metadata": {},
   "outputs": [
    {
     "name": "stdout",
     "output_type": "stream",
     "text": [
      "1\n",
      "2\n",
      "3\n",
      "4\n"
     ]
    }
   ],
   "source": [
    "i = 1\n",
    "while i<5:\n",
    "    print(i)\n",
    "    i+=1"
   ]
  },
  {
   "cell_type": "code",
   "execution_count": 7,
   "metadata": {},
   "outputs": [
    {
     "name": "stdout",
     "output_type": "stream",
     "text": [
      "Enter: l\n",
      "Enter: q\n"
     ]
    }
   ],
   "source": [
    "i_data = \"\"\n",
    "while i_data!=\"q\":\n",
    "    i_data = input(\"Enter: \")"
   ]
  },
  {
   "cell_type": "code",
   "execution_count": 12,
   "metadata": {},
   "outputs": [
    {
     "name": "stdout",
     "output_type": "stream",
     "text": [
      "Enter: 50\n",
      "Too Small\n",
      "Enter: 75\n",
      "Too Small\n",
      "Enter: 85\n",
      "Too Small\n",
      "Enter: 95\n",
      "Too Big\n",
      "Enter: 90\n",
      "Too Big\n",
      "Enter: 88\n",
      "Too Small\n",
      "Enter: 86\n",
      "Too Small\n",
      "Enter: 87\n",
      "Too Small\n",
      "Enter: 88\n",
      "Too Small\n",
      "Enter: 89\n",
      "You are correct\n"
     ]
    }
   ],
   "source": [
    "import random\n",
    "num = random.randint(1,100)\n",
    "while True:\n",
    "    value = input(\"Enter: \")\n",
    "    value = int(value)\n",
    "    if value > num:\n",
    "        print(\"Too Big\")\n",
    "    elif value < num:\n",
    "        print(\"Too Small\")\n",
    "    else:\n",
    "        print(\"You are correct\")\n",
    "        break"
   ]
  },
  {
   "cell_type": "code",
   "execution_count": 10,
   "metadata": {},
   "outputs": [
    {
     "name": "stdout",
     "output_type": "stream",
     "text": [
      "aaa\n"
     ]
    }
   ],
   "source": []
  },
  {
   "cell_type": "code",
   "execution_count": null,
   "metadata": {},
   "outputs": [],
   "source": []
  },
  {
   "cell_type": "code",
   "execution_count": null,
   "metadata": {},
   "outputs": [],
   "source": []
  },
  {
   "cell_type": "code",
   "execution_count": null,
   "metadata": {},
   "outputs": [],
   "source": []
  },
  {
   "cell_type": "code",
   "execution_count": null,
   "metadata": {},
   "outputs": [],
   "source": []
  },
  {
   "cell_type": "code",
   "execution_count": null,
   "metadata": {},
   "outputs": [],
   "source": []
  },
  {
   "cell_type": "code",
   "execution_count": null,
   "metadata": {},
   "outputs": [],
   "source": []
  },
  {
   "cell_type": "code",
   "execution_count": null,
   "metadata": {},
   "outputs": [],
   "source": []
  }
 ],
 "metadata": {
  "kernelspec": {
   "display_name": "Python 3",
   "language": "python",
   "name": "python3"
  },
  "language_info": {
   "codemirror_mode": {
    "name": "ipython",
    "version": 3
   },
   "file_extension": ".py",
   "mimetype": "text/x-python",
   "name": "python",
   "nbconvert_exporter": "python",
   "pygments_lexer": "ipython3",
   "version": "3.7.1"
  }
 },
 "nbformat": 4,
 "nbformat_minor": 2
}
