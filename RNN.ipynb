{
 "cells": [
  {
   "cell_type": "markdown",
   "metadata": {},
   "source": [
    "# Manual Creation of RNN"
   ]
  },
  {
   "cell_type": "code",
   "execution_count": 2,
   "metadata": {},
   "outputs": [],
   "source": [
    "import numpy as np\n",
    "import tensorflow as tf\n",
    "import matplotlib.pyplot as plt"
   ]
  },
  {
   "cell_type": "code",
   "execution_count": 6,
   "metadata": {},
   "outputs": [],
   "source": [
    "# Constants\n",
    "num_inputs = 2\n",
    "num_neurons = 3\n",
    "\n",
    "#Placeholders\n",
    "x0 = tf.placeholder(tf.float32,[None,num_inputs])\n",
    "x1 = tf.placeholder(tf.float32,[None,num_inputs])\n",
    "\n",
    "#Variables\n",
    "wx = tf.Variable(tf.random_normal(shape = [num_inputs,num_neurons]))\n",
    "wy = tf.Variable(tf.random_normal(shape = [num_neurons,num_neurons]))\n",
    "b = tf.Variable(tf.zeros([1,num_neurons]))\n",
    "\n",
    "#Graphs\n",
    "y0 = tf.tanh(tf.matmul(x0,wx)+b)\n",
    "y1 = tf.tanh(tf.matmul(y0,wy)+tf.matmul(x1,wx)+b)\n",
    "\n",
    "#Create Data\n",
    "x0_batch = np.array([[0,1],[2,3],[4,5]]) #TimeStamp 0\n",
    "x1_batch = np.array([[100,101],[102,103],[104,105]]) #TimeStamp 1\n",
    "\n",
    "#Session\n",
    "with tf.Session() as sess:\n",
    "    sess.run(tf.global_variables_initializer())\n",
    "    y0_output_vals, y1_output_vals = sess.run([y0,y1],feed_dict={x0:x0_batch,x1:x1_batch})"
   ]
  },
  {
   "cell_type": "code",
   "execution_count": 8,
   "metadata": {},
   "outputs": [
    {
     "data": {
      "text/plain": [
       "array([[-0.42413312,  0.29969823, -0.6478569 ],\n",
       "       [-0.52885765, -0.28294292, -0.99619794],\n",
       "       [-0.61962414, -0.71186   , -0.99996614]], dtype=float32)"
      ]
     },
     "execution_count": 8,
     "metadata": {},
     "output_type": "execute_result"
    }
   ],
   "source": [
    "y0_output_vals"
   ]
  },
  {
   "cell_type": "code",
   "execution_count": 9,
   "metadata": {},
   "outputs": [
    {
     "data": {
      "text/plain": [
       "array([[-0.9999998, -1.       , -1.       ],\n",
       "       [-1.0000001, -1.       , -1.       ],\n",
       "       [-1.       , -1.       , -1.       ]], dtype=float32)"
      ]
     },
     "execution_count": 9,
     "metadata": {},
     "output_type": "execute_result"
    }
   ],
   "source": [
    "y1_output_vals"
   ]
  },
  {
   "cell_type": "markdown",
   "metadata": {},
   "source": [
    "# CNN in TensorFlow"
   ]
  },
  {
   "cell_type": "code",
   "execution_count": 10,
   "metadata": {},
   "outputs": [],
   "source": [
    "import numpy as np\n",
    "import tensorflow as tf\n",
    "import matplotlib.pyplot as plt"
   ]
  },
  {
   "cell_type": "code",
   "execution_count": null,
   "metadata": {},
   "outputs": [],
   "source": [
    "class TimeSeriesData():\n",
    "    \n",
    "    def__init__(self,num_points, xmin,xmax):\n",
    "        self.xmin = xmin\n",
    "        self.xmax = xmax\n",
    "        self.num_points = num_points\n",
    "        self.resolution - (xmax-xmin)/num_points\n",
    "        self.x_data = np.linspace(xmin,xmax,num_points)\n",
    "        self.y_true = np.sin(self.x_data)\n",
    "    \n",
    "    def re_true(self,x_series):\n",
    "        return np.sin(x_series)\n",
    "    \n",
    "    def next_batch(self,batch_size,steps,return_batch_time_steps=false):\n",
    "        \n",
    "        # Grab a random starting point for each batch\n",
    "        rand_start = np.random.rand(batch_size,1)\n",
    "        \n",
    "        # Convert to be on time series\n",
    "        timestep_start = rand_start*(self.xmax-self.xmin-(steps*self.resolution))\n",
    "        \n",
    "        # Create batch time series on the x axis\n",
    "        \n",
    "        # Create the y data for the time series x axis from precious step\n",
    "        \n",
    "        # Formating for RNN"
   ]
  }
 ],
 "metadata": {
  "kernelspec": {
   "display_name": "Python 3",
   "language": "python",
   "name": "python3"
  },
  "language_info": {
   "codemirror_mode": {
    "name": "ipython",
    "version": 3
   },
   "file_extension": ".py",
   "mimetype": "text/x-python",
   "name": "python",
   "nbconvert_exporter": "python",
   "pygments_lexer": "ipython3",
   "version": "3.7.2"
  }
 },
 "nbformat": 4,
 "nbformat_minor": 2
}
