{
 "cells": [
  {
   "cell_type": "code",
   "execution_count": 3,
   "metadata": {},
   "outputs": [
    {
     "name": "stdout",
     "output_type": "stream",
     "text": [
      "Brady new student companies ridiculous in the story and don't want to see the coast because of the shade and community is a team to look at the way :) [W] Paypal\n",
      "\n"
     ]
    }
   ],
   "source": [
    "from textgenrnn import textgenrnn\n",
    "textgen = textgenrnn()\n",
    "textgen.generate()"
   ]
  },
  {
   "cell_type": "code",
   "execution_count": 8,
   "metadata": {},
   "outputs": [
    {
     "name": "stderr",
     "output_type": "stream",
     "text": [
      "100%|██████████| 4/4 [00:00<00:00,  4.43it/s]\n"
     ]
    }
   ],
   "source": [
    "\n",
    "textgen_2 = textgenrnn('anime_fantasy_titles_e10.hdf5')\n",
    "tg = textgen_2.generate(4,temperature = 0.5,return_as_list = True)"
   ]
  },
  {
   "cell_type": "code",
   "execution_count": 9,
   "metadata": {},
   "outputs": [
    {
     "name": "stdout",
     "output_type": "stream",
     "text": [
      "['Sorcerous', 'Soul No Bad Man', 'Noragami Princess', 'Arcana Shin Warriors']\n"
     ]
    }
   ],
   "source": [
    "print(tg)"
   ]
  },
  {
   "cell_type": "code",
   "execution_count": 2,
   "metadata": {},
   "outputs": [
    {
     "name": "stdout",
     "output_type": "stream",
     "text": [
      "0    1\n",
      "1    2\n",
      "2    3\n",
      "3    4\n",
      "4    5\n",
      "5    6\n",
      "6    7\n",
      "7    8\n",
      "8    9\n",
      "dtype: int64\n"
     ]
    }
   ],
   "source": [
    "import numpy as np\n",
    "import pandas as pd\n",
    "\n",
    "s = pd.Series([1,2,3,4,5,6,7,8,9])\n",
    "print(s)"
   ]
  },
  {
   "cell_type": "code",
   "execution_count": 4,
   "metadata": {},
   "outputs": [
    {
     "name": "stdout",
     "output_type": "stream",
     "text": [
      "          A         B         C         D\n",
      "1 -2.315348  1.392054 -0.950395 -2.070989\n",
      "2  0.115958 -0.990373 -1.167045  0.531390\n",
      "3 -0.455274  1.329302  0.185498  0.361722\n",
      "4  0.587648 -0.183769 -0.023643 -1.316621\n",
      "5  1.146775 -1.012106  1.187327  1.054557\n"
     ]
    }
   ],
   "source": [
    "df = pd.DataFrame(np.random.randn(9,4),index=s,columns = list('ABCD'))\n",
    "print(df.head())"
   ]
  },
  {
   "cell_type": "code",
   "execution_count": 10,
   "metadata": {},
   "outputs": [
    {
     "name": "stdout",
     "output_type": "stream",
     "text": [
      "1   -2.315348\n",
      "2    0.115958\n",
      "3   -0.455274\n",
      "4    0.587648\n",
      "5    1.146775\n",
      "6   -0.895658\n",
      "7    2.079653\n",
      "8   -0.779443\n",
      "9    0.055471\n",
      "Name: A, dtype: float64\n"
     ]
    }
   ],
   "source": [
    "print(df['A'])"
   ]
  },
  {
   "cell_type": "code",
   "execution_count": 16,
   "metadata": {},
   "outputs": [
    {
     "name": "stdout",
     "output_type": "stream",
     "text": [
      "   #                   Name Type 1  Type 2  Total  HP  Attack  Defense  \\\n",
      "0  1              Bulbasaur  Grass  Poison    318  45      49       49   \n",
      "1  2                Ivysaur  Grass  Poison    405  60      62       63   \n",
      "2  3               Venusaur  Grass  Poison    525  80      82       83   \n",
      "3  3  VenusaurMega Venusaur  Grass  Poison    625  80     100      123   \n",
      "4  4             Charmander   Fire     NaN    309  39      52       43   \n",
      "\n",
      "   Sp. Atk  Sp. Def  Speed  Generation  Legendary  \n",
      "0       65       65     45           1      False  \n",
      "1       80       80     60           1      False  \n",
      "2      100      100     80           1      False  \n",
      "3      122      120     80           1      False  \n",
      "4       60       50     65           1      False  \n"
     ]
    }
   ],
   "source": [
    "import os\n",
    "cd = os.getcwd()\n",
    "data_set = pd.read_csv(cd+'/Pokemon.csv')\n",
    "print(data_set.head())"
   ]
  },
  {
   "cell_type": "code",
   "execution_count": 23,
   "metadata": {},
   "outputs": [],
   "source": [
    "# for index,row in data_set.iterrows():\n",
    "#     print(row['Name'])\n",
    "with open('PokemonNames.txt','w') as filehandle:\n",
    "    for index, row in data_set.iterrows():\n",
    "        filehandle.write('%s\\n'% row['Name'])\n",
    "        "
   ]
  },
  {
   "cell_type": "code",
   "execution_count": 25,
   "metadata": {},
   "outputs": [
    {
     "name": "stdout",
     "output_type": "stream",
     "text": [
      "799 texts collected.\n",
      "Training on 7,863 character sequences.\n",
      "WARNING:tensorflow:From /Library/Frameworks/Python.framework/Versions/3.7/lib/python3.7/site-packages/tensorflow/python/ops/math_ops.py:3066: to_int32 (from tensorflow.python.ops.math_ops) is deprecated and will be removed in a future version.\n",
      "Instructions for updating:\n",
      "Use tf.cast instead.\n",
      "WARNING:tensorflow:From /Library/Frameworks/Python.framework/Versions/3.7/lib/python3.7/site-packages/tensorflow/python/ops/math_grad.py:102: div (from tensorflow.python.ops.math_ops) is deprecated and will be removed in a future version.\n",
      "Instructions for updating:\n",
      "Deprecated in favor of operator or tf.math.divide.\n",
      "Epoch 1/10\n",
      "61/61 [==============================] - 9s 141ms/step - loss: 2.7667\n",
      "####################\n",
      "Temperature: 0.2\n",
      "####################\n",
      "Share\n",
      "\n",
      "Shinto\n",
      "\n",
      "Staria\n",
      "\n",
      "####################\n",
      "Temperature: 0.5\n",
      "####################\n",
      "Dogalita Meatle\n",
      "\n",
      "Bleat\n",
      "\n",
      "Tatro\n",
      "\n",
      "####################\n",
      "Temperature: 1.0\n",
      "####################\n",
      "Cloudor\n",
      "\n",
      "Traedorow\n",
      "\n",
      "Glawichal\n",
      "\n",
      "Epoch 2/10\n",
      "61/61 [==============================] - 8s 127ms/step - loss: 2.1319\n",
      "####################\n",
      "Temperature: 0.2\n",
      "####################\n",
      "Starbun\n",
      "\n",
      "Pigars\n",
      "\n",
      "Mewtwo\n",
      "\n",
      "####################\n",
      "Temperature: 0.5\n",
      "####################\n",
      "Magropphoon\n",
      "\n",
      "Corodor\n",
      "\n",
      "Mant\n",
      "\n",
      "####################\n",
      "Temperature: 1.0\n",
      "####################\n",
      "Farmotich\n",
      "\n",
      "Rotom\n",
      "\n",
      "Celebil\n",
      "\n",
      "Epoch 3/10\n",
      "61/61 [==============================] - 8s 124ms/step - loss: 1.8520\n",
      "####################\n",
      "Temperature: 0.2\n",
      "####################\n",
      "Clain\n",
      "\n",
      "Panet\n",
      "\n",
      "Swalbile\n",
      "\n",
      "####################\n",
      "Temperature: 0.5\n",
      "####################\n",
      "Tranna\n",
      "\n",
      "Mewtwo\n",
      "\n",
      "Piscal\n",
      "\n",
      "####################\n",
      "Temperature: 1.0\n",
      "####################\n",
      "Piona\n",
      "\n",
      "Venusytath\n",
      "\n",
      "Hands\n",
      "\n",
      "Epoch 4/10\n",
      "61/61 [==============================] - 8s 126ms/step - loss: 1.6312\n",
      "####################\n",
      "Temperature: 0.2\n",
      "####################\n",
      "Goldeen\n",
      "\n",
      "Shirpedor\n",
      "\n",
      "Manital\n",
      "\n",
      "####################\n",
      "Temperature: 0.5\n",
      "####################\n",
      "Groudon\n",
      "\n",
      "Maylup\n",
      "\n",
      "FloattanAenny\n",
      "\n",
      "####################\n",
      "Temperature: 1.0\n",
      "####################\n",
      "Bloba\n",
      "\n",
      "Totrogant\n",
      "\n",
      "Lavdos\n",
      "\n",
      "Epoch 5/10\n",
      "61/61 [==============================] - 8s 125ms/step - loss: 1.4658\n",
      "####################\n",
      "Temperature: 0.2\n",
      "####################\n",
      "Starly\n",
      "\n",
      "Sharill\n",
      "\n",
      "Sharill\n",
      "\n",
      "####################\n",
      "Temperature: 0.5\n",
      "####################\n",
      "Serper\n",
      "\n",
      "Vippotus\n",
      "\n",
      "Selfernat\n",
      "\n",
      "####################\n",
      "Temperature: 1.0\n",
      "####################\n",
      "Abomannee\n",
      "\n",
      "Kyuuff\n",
      "\n",
      "Flenchel\n",
      "\n",
      "Epoch 6/10\n",
      "61/61 [==============================] - 8s 128ms/step - loss: 1.3409\n",
      "####################\n",
      "Temperature: 0.2\n",
      "####################\n",
      "SharpedoMega Size\n",
      "\n",
      "SharpedoMega Size\n",
      "\n",
      "Magneton\n",
      "\n",
      "####################\n",
      "Temperature: 0.5\n",
      "####################\n",
      "Sharring\n",
      "\n",
      "Golem\n",
      "\n",
      "Pidgeottoo\n",
      "\n",
      "####################\n",
      "Temperature: 1.0\n",
      "####################\n",
      "Cokitos\n",
      "\n",
      "Blearow\n",
      "\n",
      "Staell Clinkin\n",
      "\n",
      "Epoch 7/10\n",
      "61/61 [==============================] - 8s 126ms/step - loss: 1.2444\n",
      "####################\n",
      "Temperature: 0.2\n",
      "####################\n",
      "Suncar\n",
      "\n",
      "SharpedoMega Scizor\n",
      "\n",
      "Swalot\n",
      "\n",
      "####################\n",
      "Temperature: 0.5\n",
      "####################\n",
      "Pelipper\n",
      "\n",
      "Bantrong\n",
      "\n",
      "Haudit\n",
      "\n",
      "####################\n",
      "Temperature: 1.0\n",
      "####################\n",
      "Phanenkaby\n",
      "\n",
      "Despord\n",
      "\n",
      "Ifo-imingro\n",
      "\n",
      "Epoch 8/10\n",
      "61/61 [==============================] - 8s 126ms/step - loss: 1.1695\n",
      "####################\n",
      "Temperature: 0.2\n",
      "####################\n",
      "Stary\n",
      "\n",
      "Sharpedo\n",
      "\n",
      "CharizardMega Gardevoir\n",
      "\n",
      "####################\n",
      "Temperature: 0.5\n",
      "####################\n",
      "Scrapia\n",
      "\n",
      "Sandile\n",
      "\n",
      "Gorull\n",
      "\n",
      "####################\n",
      "Temperature: 1.0\n",
      "####################\n",
      "Coffineen\n",
      "\n",
      "ArzenebMega Seal\n",
      "\n",
      "Giadoswarder\n",
      "\n",
      "Epoch 9/10\n",
      "61/61 [==============================] - 8s 129ms/step - loss: 1.1107\n",
      "####################\n",
      "Temperature: 0.2\n",
      "####################\n",
      "Manette\n",
      "\n",
      "Manette\n",
      "\n",
      "Sharpedo\n",
      "\n",
      "####################\n",
      "Temperature: 0.5\n",
      "####################\n",
      "Skiplash\n",
      "\n",
      "Fletchin\n",
      "\n",
      "Donaldon\n",
      "\n",
      "####################\n",
      "Temperature: 1.0\n",
      "####################\n",
      "Duzoga\n",
      "\n",
      "Mudki\n",
      "\n",
      "Combusk\n",
      "\n",
      "Epoch 10/10\n",
      "61/61 [==============================] - 8s 127ms/step - loss: 1.0644\n",
      "####################\n",
      "Temperature: 0.2\n",
      "####################\n",
      "Staravarava\n",
      "\n",
      "Sharpedo\n",
      "\n",
      "Staravia\n",
      "\n",
      "####################\n",
      "Temperature: 0.5\n",
      "####################\n",
      "Krickette\n",
      "\n",
      "Slowbro\n",
      "\n",
      "Spearow\n",
      "\n",
      "####################\n",
      "Temperature: 1.0\n",
      "####################\n",
      "Casedom\n",
      "\n",
      "Trith\n",
      "\n",
      "Skiploom\n",
      "\n"
     ]
    }
   ],
   "source": [
    "from textgenrnn import textgenrnn\n",
    "textgen = textgenrnn()\n",
    "textgen.train_from_file('PokemonNames.txt',num_epochs = 10)\n",
    "textgen.save('Pokemons_10e.hdf5')"
   ]
  },
  {
   "cell_type": "code",
   "execution_count": 28,
   "metadata": {},
   "outputs": [
    {
     "name": "stderr",
     "output_type": "stream",
     "text": [
      "100%|██████████| 4/4 [00:00<00:00,  7.48it/s]\n"
     ]
    }
   ],
   "source": [
    "textgen_pokemon = textgenrnn('Pokemons_10e.hdf5')\n",
    "tg = textgen_pokemon.generate(4,temperature = 0.5,return_as_list = True)"
   ]
  },
  {
   "cell_type": "code",
   "execution_count": 29,
   "metadata": {},
   "outputs": [
    {
     "name": "stdout",
     "output_type": "stream",
     "text": [
      "['Scrable', 'Lapdop', 'Dewox', 'Alakazam']\n"
     ]
    }
   ],
   "source": [
    "print(tg)"
   ]
  },
  {
   "cell_type": "code",
   "execution_count": null,
   "metadata": {},
   "outputs": [],
   "source": []
  }
 ],
 "metadata": {
  "kernelspec": {
   "display_name": "Python 3",
   "language": "python",
   "name": "python3"
  },
  "language_info": {
   "codemirror_mode": {
    "name": "ipython",
    "version": 3
   },
   "file_extension": ".py",
   "mimetype": "text/x-python",
   "name": "python",
   "nbconvert_exporter": "python",
   "pygments_lexer": "ipython3",
   "version": "3.7.1"
  }
 },
 "nbformat": 4,
 "nbformat_minor": 2
}
