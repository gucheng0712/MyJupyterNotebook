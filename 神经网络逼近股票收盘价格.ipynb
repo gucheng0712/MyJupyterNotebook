{
 "cells": [
  {
   "cell_type": "code",
   "execution_count": 2,
   "metadata": {},
   "outputs": [
    {
     "data": {
      "image/png": "[encoded data removed]",
      "text/plain": [
       "<Figure size 432x288 with 1 Axes>"
      ]
     },
     "metadata": {
      "needs_background": "light"
     },
     "output_type": "display_data"
    }
   ],
   "source": [
    "import tensorflow as tf\n",
    "import matplotlib.pyplot as plt\n",
    "import numpy as np\n",
    "\n",
    "date = np.linspace(1,15,15)\n",
    "endPrice = np.array([2511.90,2538.26,2510.68,2591.66,2732.98,\n",
    "                     2701.69,2701.29,2678.67,2726.50,2681.50,2739.17,2715.07,2823.58,2864.90,2919.08])\n",
    "beginPrice = np.array([2438.71,2500.88,2534.95,2512.52,2594.04,\n",
    "                       2743.26,2697.47,2695.24,2678.23,2722.13,2674.93,2744.13,2717.46,2832.73,2877.40])\n",
    "\n",
    "# print(date)\n",
    "# plt.figure()\n",
    "\n",
    "lx = []\n",
    "ly= []\n",
    "\n",
    "for i in range(0,15):\n",
    "    # 1 柱状图\n",
    "    dateOne = np.zeros([2])\n",
    "    dateOne[0] = i;\n",
    "    dateOne[1] = i;\n",
    "    priceOne = np.zeros([2])\n",
    "    priceOne[0] = beginPrice[i]\n",
    "    priceOne[1] = endPrice[i]\n",
    "    lx.append(i)\n",
    "    ly.append(priceOne[1])\n",
    "    if endPrice[i]>beginPrice[i]:\n",
    "        plt.plot(dateOne,priceOne,'r',lw=2)\n",
    "        \n",
    "    else:\n",
    "        plt.plot(dateOne,priceOne,'g',lw=2)\n",
    "plt.plot(lx,ly,'y')\n",
    "#plt.show()\n",
    "\n",
    "'''\n",
    "Input Layer = A(15x1 matrix), Hidden Layer = B(15x10 matrix) layers, Output Layer = C(15x1 matrix)\n",
    "A(15x1)*w1(1x10)+b1(1x10) = B(15x10)\n",
    "B(15x10)*w2(10x1)+b2(15x1) = C(15x1)\n",
    "'''\n",
    "dateNormal = np.zeros([15,1])\n",
    "priceNormal = np.zeros([15,1])\n",
    "\n",
    "# Normalize data for training\n",
    "for i in range(0,15):\n",
    "    dateNormal[i,0] = i/14.0\n",
    "    priceNormal[i,0] = endPrice[i]/3000.0;\n",
    "    \n",
    "x = tf.placeholder(tf.float32,[None,1])#[None,1]表示n行1列\n",
    "y = tf.placeholder(tf.float32,[None,1])\n",
    "\n",
    "# B\n",
    "w1 = tf.Variable(tf.random_uniform([1,10],0,1))#1行10列的范围在(0,1)的随机数\n",
    "b1 = tf.Variable(tf.zeros([1,10]))\n",
    "wb1 = tf.matmul(x,w1)+b1\n",
    "layer1 = tf.nn.relu(wb1) # Renforcement function\n",
    "\n",
    "# C\n",
    "w2 = tf.Variable(tf.random_uniform([10,1],0,1))\n",
    "b2 = tf.Variable(tf.zeros([15,1]))\n",
    "wb2 = tf.matmul(layer1,w2)+b2\n",
    "layer2 =tf.nn.relu(wb2)\n",
    "\n",
    "# y 是真实值, layer2是计算出来的预测值\n",
    "loss = tf.reduce_mean(tf.square(y-layer2)) \n",
    "\n",
    "#通过 梯度下降法(gradient descent)减少误差(loss)\n",
    "train_step = tf.train.GradientDescentOptimizer(0.1).minimize(loss)\n",
    "\n",
    "trainTimes = 2000\n",
    "\n",
    "with tf.Session() as sess:\n",
    "    sess.run(tf.global_variables_initializer())\n",
    "    for i in range(0,trainTimes): \n",
    "        sess.run(train_step,feed_dict={x:dateNormal,y:priceNormal})\n",
    "    predict = sess.run(layer2,feed_dict={x:dateNormal})\n",
    "    predPrice = np.zeros([15,1])\n",
    "    for i in range(0,15):\n",
    "        predPrice[i,0] = (predict*3000)[i,0]\n",
    "    plt.plot(lx,predPrice,'b',lw=1)\n",
    "    "
   ]
  },
  {
   "cell_type": "code",
   "execution_count": null,
   "metadata": {},
   "outputs": [],
   "source": []
  }
 ],
 "metadata": {
  "kernelspec": {
   "display_name": "Python 3",
   "language": "python",
   "name": "python3"
  },
  "language_info": {
   "codemirror_mode": {
    "name": "ipython",
    "version": 3
   },
   "file_extension": ".py",
   "mimetype": "text/x-python",
   "name": "python",
   "nbconvert_exporter": "python",
   "pygments_lexer": "ipython3",
   "version": "3.7.1"
  }
 },
 "nbformat": 4,
 "nbformat_minor": 2
}
