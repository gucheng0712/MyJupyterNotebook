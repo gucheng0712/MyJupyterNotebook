{
 "cells": [
  {
   "cell_type": "code",
   "execution_count": null,
   "metadata": {},
   "outputs": [],
   "source": [
    "public delegate bool CallBack(int hwnd, int lParam);  \n",
    "  \n",
    "public class EnumReportApp  \n",
    "{  \n",
    "    public static extern int EnumWindows(Action<int> x, int y);   \n",
    "  \n",
    "    public static void Main()   \n",
    "    {  \n",
    "        CallBack myCallBack = new CallBack(EnumReportApp.Report);  \n",
    "        EnumWindows(myCallBack, 0);  \n",
    "    }  \n",
    "  \n",
    "    public static bool Report(int hwnd, int lParam)  \n",
    "    {   \n",
    "        Console.Write(\"Window handle is \");  \n",
    "        Console.WriteLine(hwnd);  \n",
    "        return true;  \n",
    "    }  \n",
    "}  "
   ]
  }
 ],
 "metadata": {
  "kernelspec": {
   "display_name": "C#",
   "language": "csharp",
   "name": "icsharpkernel"
  },
  "language": "csharp",
  "language_info": {
   "codemirror_mode": "",
   "file_extension": ".cs",
   "mimetype": "text/x-csharp",
   "name": "csharp",
   "nbconvert_exporter": "",
   "pygments_lexer": "",
   "version": "6.0.0.0"
  }
 },
 "nbformat": 4,
 "nbformat_minor": 2
}
