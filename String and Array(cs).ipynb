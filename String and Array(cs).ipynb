{
 "cells": [
  {
   "cell_type": "code",
   "execution_count": 3,
   "metadata": {},
   "outputs": [
    {
     "data": {
      "text/html": [
       "True"
      ],
      "text/plain": [
       "True"
      ]
     },
     "metadata": {},
     "output_type": "display_data"
    },
    {
     "data": {
      "text/html": [
       "False"
      ],
      "text/plain": [
       "False"
      ]
     },
     "metadata": {},
     "output_type": "display_data"
    },
    {
     "data": {
      "text/html": [
       "False"
      ],
      "text/plain": [
       "False"
      ]
     },
     "metadata": {},
     "output_type": "display_data"
    }
   ],
   "source": [
    "// Unique String\n",
    "bool IsUnique(string s)\n",
    "{\n",
    "    bool isUnique;\n",
    "    char[] cs = s.ToCharArray();\n",
    "    List<char> cl = new List<char>();\n",
    "    foreach(char c in cs)\n",
    "    {\n",
    "        if(cl.Contains(c))\n",
    "        {\n",
    "            return false;\n",
    "        }\n",
    "        else\n",
    "        {\n",
    "            cl.Add(c);\n",
    "        }\n",
    "    }\n",
    "    return true;\n",
    "}\n",
    "Console.WriteLine(IsUnique(\"asdf\"));\n",
    "Console.WriteLine(IsUnique(\"aassvas\"));\n",
    "Console.WriteLine(IsUnique(\"aas\"));"
   ]
  },
  {
   "cell_type": "code",
   "execution_count": 12,
   "metadata": {},
   "outputs": [
    {
     "data": {
      "text/html": [
       "True"
      ],
      "text/plain": [
       "True"
      ]
     },
     "metadata": {},
     "output_type": "display_data"
    }
   ],
   "source": [
    "// Check Permutation\n",
    "bool IsPermutation(string a, string b){\n",
    "    if(a.Length!=b.Length) return false;\n",
    "    return SortString(a).Equals(SortString(b));\n",
    "}\n",
    "\n",
    "string SortString(string s){\n",
    "    char[] cs = s.ToCharArray();\n",
    "    Array.Sort(cs);\n",
    "    return new string(cs);\n",
    "}\n",
    "\n",
    "Console.WriteLine(IsPermutation(\"dog\",\"god\"));"
   ]
  },
  {
   "cell_type": "code",
   "execution_count": 54,
   "metadata": {},
   "outputs": [
    {
     "data": {
      "text/html": [
       "<font style=\"color:Black\">sdjia20%sdsss20%dsdinve20%asd\r\n",
       "</font>"
      ],
      "text/plain": [
       "sdjia20%sdsss20%dsdinve20%asd\r\n"
      ]
     },
     "metadata": {},
     "output_type": "display_data"
    }
   ],
   "source": [
    "// Replace space to 20%\n",
    "string URLify(string s)\n",
    "{\n",
    "    int spaceCount=0;\n",
    "    for(int i = 0;i<s.Length;i++){\n",
    "        if(s[i]==' ') spaceCount++;\n",
    "    }\n",
    "   int index = s.Length+spaceCount*2;\n",
    "    char[] chars = new char[index];\n",
    "    for(int i =s.Length-1;i>=0;i--){\n",
    "        if(s[i]==' '){\n",
    "            chars[index-1] = '%';\n",
    "            chars[index-2] = '0';\n",
    "            chars[index-3] = '2';\n",
    "            index-=3;\n",
    "        }else{\n",
    "            chars[index-1] = s[i];\n",
    "            index--;\n",
    "        }\n",
    "    }\n",
    "    return new string(chars);\n",
    "}\n",
    "\n",
    "URLify( \"sdjia sdsss dsdinve asd\");\n"
   ]
  },
  {
   "cell_type": "code",
   "execution_count": 68,
   "metadata": {},
   "outputs": [
    {
     "data": {
      "text/html": [
       "True"
      ],
      "text/plain": [
       "True"
      ]
     },
     "metadata": {},
     "output_type": "display_data"
    },
    {
     "data": {
      "text/html": [
       "True"
      ],
      "text/plain": [
       "True"
      ]
     },
     "metadata": {},
     "output_type": "display_data"
    },
    {
     "data": {
      "text/html": [
       "False"
      ],
      "text/plain": [
       "False"
      ]
     },
     "metadata": {},
     "output_type": "display_data"
    }
   ],
   "source": [
    "bool IsPalindromePermutation(string s)\n",
    "{\n",
    "    int oddCount=0;\n",
    "    int[] table = new int[(int)'z'-(int)'a'+ 1];\n",
    "    for(int i =0;i<s.Length;i++)\n",
    "    {\n",
    "        int x = ((int)s[i] >= (int)'a' && (int)s[i] <= (int)'z') ? (int)s[i] - (int)'a': -1;\n",
    "        if((int)s[i]!=-1){\n",
    "            table[x]++;\n",
    "            if(table[x]%2==1)\n",
    "                oddCount++;\n",
    "            else\n",
    "                oddCount--;\n",
    "        }\n",
    "    }\n",
    "    return oddCount<=1;\n",
    "}\n",
    "\n",
    "Console.WriteLine(IsPalindromePermutation(\"tootassa\"));\n",
    "\n",
    "Console.WriteLine(IsPalindromePermutation(\"totassa\"));\n",
    "\n",
    "Console.WriteLine(IsPalindromePermutation(\"totassssadasdaa\"));\n"
   ]
  },
  {
   "cell_type": "code",
   "execution_count": 73,
   "metadata": {},
   "outputs": [
    {
     "data": {
      "text/html": [
       "True"
      ],
      "text/plain": [
       "True"
      ]
     },
     "metadata": {},
     "output_type": "display_data"
    },
    {
     "data": {
      "text/html": [
       "True"
      ],
      "text/plain": [
       "True"
      ]
     },
     "metadata": {},
     "output_type": "display_data"
    },
    {
     "data": {
      "text/html": [
       "True"
      ],
      "text/plain": [
       "True"
      ]
     },
     "metadata": {},
     "output_type": "display_data"
    },
    {
     "data": {
      "text/html": [
       "False"
      ],
      "text/plain": [
       "False"
      ]
     },
     "metadata": {},
     "output_type": "display_data"
    }
   ],
   "source": [
    "\n",
    "\n",
    "bool IsOneAway(string a, string b)\n",
    "{\n",
    "    if(Math.Abs(a.Length-b.Length)>1)return false;\n",
    "    int differentCount = 0;\n",
    "    \n",
    "    string low = a.Length>b.Length? b: a;\n",
    "    string high = (a.Length>b.Length)? a:b;\n",
    "    \n",
    "    int highIndex=0;int lowIndex = 0;\n",
    "    while(highIndex<high.Length&&lowIndex<low.Length){\n",
    "        if(low[lowIndex]!=high[highIndex]){\n",
    "            differentCount++;\n",
    "            if(differentCount>1){\n",
    "                return false;\n",
    "            }\n",
    "            if(a.Length==b.Length) lowIndex++;\n",
    "        }else\n",
    "        {\n",
    "            lowIndex++;\n",
    "        }\n",
    "        highIndex++;\n",
    "    }\n",
    "    return true;\n",
    "}\n",
    "\n",
    "Console.WriteLine(IsOneAway(\"pale\",\"ple\"));\n",
    "Console.WriteLine(IsOneAway(\"pales\",\"pale\"));\n",
    "Console.WriteLine(IsOneAway(\"pale\",\"bale\"));\n",
    "Console.WriteLine(IsOneAway(\"pale\",\"bae\"));"
   ]
  },
  {
   "cell_type": "code",
   "execution_count": 75,
   "metadata": {},
   "outputs": [
    {
     "data": {
      "text/html": [
       "a5b3c2d3a1e3f1g3"
      ],
      "text/plain": [
       "a5b3c2d3a1e3f1g3"
      ]
     },
     "metadata": {},
     "output_type": "display_data"
    }
   ],
   "source": [
    "string CompressString(string s)\n",
    "{\n",
    "    StringBuilder sb = new StringBuilder();\n",
    "    int count = 0;\n",
    "    for(int i = 0; i<s.Length;i++)\n",
    "    {\n",
    "        count++;\n",
    "        if(i+1>=s.Length||s[i]!=s[i+1])\n",
    "        {\n",
    "            sb.Append(s[i]);\n",
    "            sb.Append(count);\n",
    "            count=0;\n",
    "        }\n",
    "    }\n",
    "    return sb.Length<s.Length?sb.ToString():s;\n",
    "}\n",
    "Console.WriteLine(CompressString(\"aaaaabbbccdddaeeefggg\"));"
   ]
  },
  {
   "cell_type": "code",
   "execution_count": 86,
   "metadata": {},
   "outputs": [
    {
     "data": {
      "text/html": [
       "[3, 3, 2, 1, ]"
      ],
      "text/plain": [
       "[3, 3, 2, 1, ]"
      ]
     },
     "metadata": {},
     "output_type": "display_data"
    },
    {
     "data": {
      "text/html": [
       "[8, 2, 3, 3, ]"
      ],
      "text/plain": [
       "[8, 2, 3, 3, ]"
      ]
     },
     "metadata": {},
     "output_type": "display_data"
    },
    {
     "data": {
      "text/html": [
       "[2, 4, 3, 2, ]"
      ],
      "text/plain": [
       "[2, 4, 3, 2, ]"
      ]
     },
     "metadata": {},
     "output_type": "display_data"
    },
    {
     "data": {
      "text/html": [
       "[7, 6, 1, 1, ]"
      ],
      "text/plain": [
       "[7, 6, 1, 1, ]"
      ]
     },
     "metadata": {},
     "output_type": "display_data"
    }
   ],
   "source": [
    "int[,] Rotate(int[,] matrix){\n",
    "    if(matrix.Length==0|| matrix.GetLength(0)!=matrix.GetLength(1))\n",
    "        return matrix;\n",
    "    int n = matrix.GetLength(0);\n",
    "    for(int layer = 0; layer<n/2;layer++){\n",
    "        int first = layer;\n",
    "        int last = n-1-layer;\n",
    "        for(int i = first;i<last;i++){\n",
    "            int offset = i-first;\n",
    "            int top = matrix[first,i];\n",
    "            \n",
    "            // top = left\n",
    "            matrix[first,i]= matrix[last-offset,first];\n",
    "            // left = bottom\n",
    "            matrix[last-offset,first] = matrix[last, last-offset];\n",
    "            // bottom = right\n",
    "            matrix[last, last-offset] = matrix[i,last];\n",
    "            // right = top\n",
    "            matrix[i,last] = top;\n",
    "            \n",
    "        }\n",
    "    }\n",
    "    return matrix;\n",
    "}\n",
    "int[,] m = new int[,]\n",
    "{\n",
    "    {1,3,2,1},\n",
    "    {2,3,3,1},\n",
    "    {3,2,4,6},\n",
    "    {3,8,2,7}\n",
    "};\n",
    "\n",
    "int [,] rm = Rotate(m);\n",
    "for(int y = 0; y < rm.GetLength(0); y++){\n",
    "    Console.WriteLine(\"[\" + rm[y,0]+\", \"+rm[y,1]+\", \"+rm[y,2]+\", \"+rm[y,3]+\", \"+\"]\");\n",
    "}"
   ]
  },
  {
   "cell_type": "code",
   "execution_count": 90,
   "metadata": {},
   "outputs": [
    {
     "data": {
      "text/html": [
       "[0, 3, 2, 0, ]"
      ],
      "text/plain": [
       "[0, 3, 2, 0, ]"
      ]
     },
     "metadata": {},
     "output_type": "display_data"
    },
    {
     "data": {
      "text/html": [
       "[0, 3, 0, 1, ]"
      ],
      "text/plain": [
       "[0, 3, 0, 1, ]"
      ]
     },
     "metadata": {},
     "output_type": "display_data"
    },
    {
     "data": {
      "text/html": [
       "[3, 2, 4, 6, ]"
      ],
      "text/plain": [
       "[3, 2, 4, 6, ]"
      ]
     },
     "metadata": {},
     "output_type": "display_data"
    },
    {
     "data": {
      "text/html": [
       "[3, 8, 2, 7, ]"
      ],
      "text/plain": [
       "[3, 8, 2, 7, ]"
      ]
     },
     "metadata": {},
     "output_type": "display_data"
    }
   ],
   "source": [
    "public void setZeros(int[,] rm)\n",
    "{\n",
    "    \n",
    "    // Store the row and column index with value 0\n",
    "    for (int i = 0; i < rm.GetLength(0); i++)\n",
    "    {\n",
    "      for (int j = 0; j < rm.GetLength(1); j++)\n",
    "      {\n",
    "        if (rm[i,j] == 0)\n",
    "        {\n",
    "            rm[i,0]=0;\n",
    "            rm[0,j]=0;\n",
    "        }\n",
    "      }\n",
    "      Console.WriteLine(\"[\" + rm[i,0]+\", \"+rm[i,1]+\", \"+rm[i,2]+\", \"+rm[i,3]+\", \"+\"]\");\n",
    "    }\n",
    "    \n",
    "}\n",
    "\n",
    "int[,] m = new int[,]\n",
    "{\n",
    "    {1,3,2,0},\n",
    "    {2,3,0,1},\n",
    "    {3,2,4,6},\n",
    "    {3,8,2,7}\n",
    "};\n",
    "setZeros(m)"
   ]
  },
  {
   "cell_type": "code",
   "execution_count": null,
   "metadata": {},
   "outputs": [],
   "source": []
  },
  {
   "cell_type": "code",
   "execution_count": null,
   "metadata": {},
   "outputs": [],
   "source": []
  }
 ],
 "metadata": {
  "kernelspec": {
   "display_name": "C#",
   "language": "csharp",
   "name": "kernel-spec"
  },
  "language_info": {
   "file_extension": ".cs",
   "mimetype": "text/x-csharp",
   "name": "C#",
   "pygments_lexer": "c#",
   "version": "4.0.30319"
  }
 },
 "nbformat": 4,
 "nbformat_minor": 2
}
