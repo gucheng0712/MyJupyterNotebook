{
 "cells": [
  {
   "cell_type": "markdown",
   "metadata": {},
   "source": [
    "# Minist Basic Approach- (Softmax)\n"
   ]
  },
  {
   "cell_type": "code",
   "execution_count": null,
   "metadata": {},
   "outputs": [],
   "source": [
    "import tensorflow as tf\n",
    "import matplotlib.pyplot as plt\n",
    "from tensorflow.examples.tutorials.mnist import input_data\n",
    "\n",
    "mnist = input_data.read_data_sets('MNIST_DATA/',one_hot= True)"
   ]
  },
  {
   "cell_type": "code",
   "execution_count": 3,
   "metadata": {},
   "outputs": [
    {
     "data": {
      "text/plain": [
       "array([[0., 0., 0., ..., 0., 0., 0.],\n",
       "       [0., 0., 0., ..., 0., 0., 0.],\n",
       "       [0., 0., 0., ..., 0., 0., 0.],\n",
       "       ...,\n",
       "       [0., 0., 0., ..., 0., 0., 0.],\n",
       "       [0., 0., 0., ..., 0., 0., 0.],\n",
       "       [0., 0., 0., ..., 0., 0., 0.]], dtype=float32)"
      ]
     },
     "execution_count": 3,
     "metadata": {},
     "output_type": "execute_result"
    }
   ],
   "source": [
    "mnist.train.images"
   ]
  },
  {
   "cell_type": "code",
   "execution_count": 5,
   "metadata": {},
   "outputs": [
    {
     "data": {
      "text/plain": [
       "55000"
      ]
     },
     "execution_count": 5,
     "metadata": {},
     "output_type": "execute_result"
    }
   ],
   "source": [
    "mnist.train.num_examples"
   ]
  },
  {
   "cell_type": "code",
   "execution_count": 7,
   "metadata": {},
   "outputs": [
    {
     "data": {
      "text/plain": [
       "10000"
      ]
     },
     "execution_count": 7,
     "metadata": {},
     "output_type": "execute_result"
    }
   ],
   "source": [
    "mnist.test.num_examples"
   ]
  },
  {
   "cell_type": "code",
   "execution_count": 20,
   "metadata": {},
   "outputs": [
    {
     "data": {
      "text/plain": [
       "<matplotlib.image.AxesImage at 0x24c4f25cda0>"
      ]
     },
     "execution_count": 20,
     "metadata": {},
     "output_type": "execute_result"
    },
    {
     "data": {
      "image/png": "[encoded data removed]",
      "text/plain": [
       "<Figure size 432x288 with 1 Axes>"
      ]
     },
     "metadata": {
      "needs_background": "light"
     },
     "output_type": "display_data"
    }
   ],
   "source": [
    "single_image = mnist.train.images[1].reshape(28,28)\n",
    "plt.imshow(single_image,cmap = 'gist_gray')"
   ]
  },
  {
   "cell_type": "code",
   "execution_count": 25,
   "metadata": {},
   "outputs": [],
   "source": [
    "# Create Place Holders\n",
    "x = tf.placeholder(tf.float32,shape=[None,784])\n",
    "y_true = tf.placeholder(tf.float32,[None,10])"
   ]
  },
  {
   "cell_type": "code",
   "execution_count": 27,
   "metadata": {},
   "outputs": [],
   "source": [
    "# Create Variable ops\n",
    "w = tf.Variable(tf.zeros([784,10]))\n",
    "b = tf.Variable(tf.zeros([10]))"
   ]
  },
  {
   "cell_type": "code",
   "execution_count": 28,
   "metadata": {},
   "outputs": [],
   "source": [
    "# Create Graph Ops\n",
    "y = tf.matmul(x,w)+b"
   ]
  },
  {
   "cell_type": "code",
   "execution_count": 42,
   "metadata": {},
   "outputs": [],
   "source": [
    "# Create Loss function (softmax cross entropy loss function)\n",
    "loss = tf.reduce_mean(tf.nn.softmax_cross_entropy_with_logits_v2(labels = y_true,logits=y)) "
   ]
  },
  {
   "cell_type": "code",
   "execution_count": 43,
   "metadata": {},
   "outputs": [],
   "source": [
    "# Create Optimizer and train function\n",
    "optimizer = tf.train.GradientDescentOptimizer(learning_rate=0.5)\n",
    "train = optimizer.minimize(loss)"
   ]
  },
  {
   "cell_type": "code",
   "execution_count": 45,
   "metadata": {
    "scrolled": true
   },
   "outputs": [
    {
     "name": "stdout",
     "output_type": "stream",
     "text": [
      "0.9193\n"
     ]
    }
   ],
   "source": [
    "# Create Session\n",
    "with tf.Session() as sess:\n",
    "    sess.run(tf.global_variables_initializer())\n",
    "    \n",
    "    for step in range(1000):\n",
    "        batch_x,batch_y = mnist.train.next_batch(100)\n",
    "        sess.run(train,feed_dict={x:batch_x,y_true:batch_y})\n",
    "    \n",
    "    # Evaluate the model\n",
    "    pred = tf.equal(tf.argmax(y,1),tf.argmax(y_true,1))\n",
    "    \n",
    "    # convert[True,False,True,...] to [1,0,1,...]\n",
    "    acc = tf.reduce_mean(tf.cast(pred,tf.float32))\n",
    "    print(sess.run(acc,feed_dict={x:mnist.test.images, y_true:mnist.test.labels}))"
   ]
  },
  {
   "cell_type": "markdown",
   "metadata": {},
   "source": [
    "# CNN Theory\n",
    "\n",
    "Convolution Neural Network has a major advantage for image processing, where pixels nearby to each other are much more correlated to each other for image Detection.\n",
    "\n",
    "Each CNN layer looks at an increasingly larger part of the image\n",
    "Having units only connected to nearby units also aids in invariance.\n",
    "CNN also helps with regularization, limiting the search of weights to the size of the convolution\n",
    "\n",
    "..."
   ]
  },
  {
   "cell_type": "markdown",
   "metadata": {},
   "source": [
    "# Minist CNN"
   ]
  },
  {
   "cell_type": "code",
   "execution_count": null,
   "metadata": {},
   "outputs": [],
   "source": [
    "import tensorflow as tf\n",
    "import matplotlib.pyplot as plt\n",
    "from tensorflow.examples.tutorials.mnist import input_data\n",
    "\n",
    "mnist = input_data.read_data_sets('MNIST_DATA/',one_hot= True)"
   ]
  },
  {
   "cell_type": "code",
   "execution_count": 50,
   "metadata": {},
   "outputs": [],
   "source": [
    "\"\"\"HELPER FUNCTIONS\"\"\"\n",
    "\n",
    "# Init Weights\n",
    "def init_weights(shape):\n",
    "    init_random_dist = tf.truncated_normal(shape,stddev = 0.1)\n",
    "    return tf.Variable(init_random_dist)\n",
    "\n",
    "# Init Bias\n",
    "def init_bias(shape):\n",
    "    init_bias_vals = tf.constant(0.1, shape=shape)\n",
    "    return tf.Variable(init_bias_vals)\n",
    "\n",
    "# Convolution 2D\n",
    "def conv2d(x,w):\n",
    "    \"\"\" x --> [batch, Height,Weight,Channels]\"\"\"\n",
    "    \"\"\" w --> [filter Height, filter Weight, Channels IN, Channels OUT]\"\"\"\n",
    "    return tf.nn.conv2d(x,w,strides=[1,1,1,1],padding='SAME')\n",
    "\n",
    "# Pooling\n",
    "def max_pool_2by2(x):\n",
    "    # x-->[batch, h, w, c]\n",
    "    return tf.nn.max_pool(x,ksize=[1,2,2,1],strides=[1,2,2,1],padding='SAME')"
   ]
  },
  {
   "cell_type": "code",
   "execution_count": 58,
   "metadata": {},
   "outputs": [],
   "source": [
    "# Convolutional Layer\n",
    "def convolutional_layer(input_x,shape):\n",
    "    w = init_weights(shape)\n",
    "    b = init_bias([shape[3]])\n",
    "    return tf.nn.relu(conv2d(input_x,w)+b)\n",
    "\n",
    "# Normal Layer (Full Connected)\n",
    "def normal_full_layer(input_layer,size):\n",
    "    input_size = int(input_layer.get_shape()[1])\n",
    "    w = init_weights([input_size,size])\n",
    "    b = init_bias([size])\n",
    "    return tf.matmul(input_layer,w)+b"
   ]
  },
  {
   "cell_type": "code",
   "execution_count": 61,
   "metadata": {},
   "outputs": [
    {
     "name": "stdout",
     "output_type": "stream",
     "text": [
      "OnStep: 0\n",
      "Accuracy: \n",
      "0.1254\n",
      "\n",
      "\n",
      "OnStep: 100\n",
      "Accuracy: \n",
      "0.9428\n",
      "\n",
      "\n",
      "OnStep: 200\n",
      "Accuracy: \n",
      "0.9601\n",
      "\n",
      "\n",
      "OnStep: 300\n",
      "Accuracy: \n",
      "0.9656\n",
      "\n",
      "\n",
      "OnStep: 400\n",
      "Accuracy: \n",
      "0.9734\n",
      "\n",
      "\n",
      "OnStep: 500\n",
      "Accuracy: \n",
      "0.9757\n",
      "\n",
      "\n",
      "OnStep: 600\n",
      "Accuracy: \n",
      "0.9796\n",
      "\n",
      "\n",
      "OnStep: 700\n",
      "Accuracy: \n",
      "0.9818\n",
      "\n",
      "\n",
      "OnStep: 800\n",
      "Accuracy: \n",
      "0.9846\n",
      "\n",
      "\n",
      "OnStep: 900\n",
      "Accuracy: \n",
      "0.9851\n",
      "\n",
      "\n",
      "OnStep: 1000\n",
      "Accuracy: \n",
      "0.9788\n",
      "\n",
      "\n",
      "OnStep: 1100\n",
      "Accuracy: \n",
      "0.9843\n",
      "\n",
      "\n",
      "OnStep: 1200\n",
      "Accuracy: \n",
      "0.9861\n",
      "\n",
      "\n",
      "OnStep: 1300\n",
      "Accuracy: \n",
      "0.9865\n",
      "\n",
      "\n",
      "OnStep: 1400\n",
      "Accuracy: \n",
      "0.9879\n",
      "\n",
      "\n",
      "OnStep: 1500\n",
      "Accuracy: \n",
      "0.9871\n",
      "\n",
      "\n",
      "OnStep: 1600\n",
      "Accuracy: \n",
      "0.9855\n",
      "\n",
      "\n",
      "OnStep: 1700\n",
      "Accuracy: \n",
      "0.9856\n",
      "\n",
      "\n",
      "OnStep: 1800\n",
      "Accuracy: \n",
      "0.985\n",
      "\n",
      "\n",
      "OnStep: 1900\n",
      "Accuracy: \n",
      "0.9903\n",
      "\n",
      "\n",
      "OnStep: 2000\n",
      "Accuracy: \n",
      "0.9874\n",
      "\n",
      "\n",
      "OnStep: 2100\n",
      "Accuracy: \n",
      "0.9872\n",
      "\n",
      "\n",
      "OnStep: 2200\n",
      "Accuracy: \n",
      "0.9897\n",
      "\n",
      "\n",
      "OnStep: 2300\n",
      "Accuracy: \n",
      "0.987\n",
      "\n",
      "\n",
      "OnStep: 2400\n",
      "Accuracy: \n",
      "0.9901\n",
      "\n",
      "\n",
      "OnStep: 2500\n",
      "Accuracy: \n",
      "0.9874\n",
      "\n",
      "\n",
      "OnStep: 2600\n",
      "Accuracy: \n",
      "0.9879\n",
      "\n",
      "\n",
      "OnStep: 2700\n",
      "Accuracy: \n",
      "0.9877\n",
      "\n",
      "\n",
      "OnStep: 2800\n",
      "Accuracy: \n",
      "0.9903\n",
      "\n",
      "\n",
      "OnStep: 2900\n",
      "Accuracy: \n",
      "0.9892\n",
      "\n",
      "\n",
      "OnStep: 3000\n",
      "Accuracy: \n",
      "0.9881\n",
      "\n",
      "\n",
      "OnStep: 3100\n",
      "Accuracy: \n",
      "0.9891\n",
      "\n",
      "\n",
      "OnStep: 3200\n",
      "Accuracy: \n",
      "0.9887\n",
      "\n",
      "\n",
      "OnStep: 3300\n",
      "Accuracy: \n",
      "0.9882\n",
      "\n",
      "\n",
      "OnStep: 3400\n",
      "Accuracy: \n",
      "0.9907\n",
      "\n",
      "\n",
      "OnStep: 3500\n",
      "Accuracy: \n",
      "0.9906\n",
      "\n",
      "\n",
      "OnStep: 3600\n",
      "Accuracy: \n",
      "0.9897\n",
      "\n",
      "\n",
      "OnStep: 3700\n",
      "Accuracy: \n",
      "0.9878\n",
      "\n",
      "\n",
      "OnStep: 3800\n",
      "Accuracy: \n",
      "0.9902\n",
      "\n",
      "\n",
      "OnStep: 3900\n",
      "Accuracy: \n",
      "0.9914\n",
      "\n",
      "\n",
      "OnStep: 4000\n",
      "Accuracy: \n",
      "0.9907\n",
      "\n",
      "\n",
      "OnStep: 4100\n",
      "Accuracy: \n",
      "0.9903\n",
      "\n",
      "\n",
      "OnStep: 4200\n",
      "Accuracy: \n",
      "0.9899\n",
      "\n",
      "\n",
      "OnStep: 4300\n",
      "Accuracy: \n",
      "0.9902\n",
      "\n",
      "\n",
      "OnStep: 4400\n",
      "Accuracy: \n",
      "0.9897\n",
      "\n",
      "\n",
      "OnStep: 4500\n",
      "Accuracy: \n",
      "0.9918\n",
      "\n",
      "\n",
      "OnStep: 4600\n",
      "Accuracy: \n",
      "0.9919\n",
      "\n",
      "\n",
      "OnStep: 4700\n",
      "Accuracy: \n",
      "0.9906\n",
      "\n",
      "\n",
      "OnStep: 4800\n",
      "Accuracy: \n",
      "0.9901\n",
      "\n",
      "\n",
      "OnStep: 4900\n",
      "Accuracy: \n",
      "0.9878\n",
      "\n",
      "\n"
     ]
    }
   ],
   "source": [
    "# Placeholders\n",
    "x = tf.placeholder(tf.float32,shape=[None,784])\n",
    "y_true = tf.placeholder(tf.float32, shape = [None,10])\n",
    "\n",
    "# Layers\n",
    "x_image = tf.reshape(x,[-1,28,28,1])\n",
    "conv_1 = convolutional_layer(x_image,shape=[5,5,1,32])\n",
    "conv_1_pooling = max_pool_2by2(conv_1)\n",
    "conv_2 = convolutional_layer(conv_1_pooling,shape=[5,5,32,64])\n",
    "conv_2_pooling = max_pool_2by2(conv_2)\n",
    "conv_2_flat = tf.reshape(conv_2_pooling,[-1,7*7*64])\n",
    "full_layer_one = tf.nn.relu(normal_full_layer(conv_2_flat,1024))\n",
    "\n",
    "# Dropout\n",
    "hold_prob = tf.placeholder(tf.float32)\n",
    "full_one_dropout = tf.nn.dropout(full_layer_one,keep_prob=hold_prob)\n",
    "\n",
    "# Predict\n",
    "y_pred = normal_full_layer(full_one_dropout,10)\n",
    "\n",
    "# Loss Function\n",
    "loss = tf.reduce_mean(tf.nn.softmax_cross_entropy_with_logits_v2(labels = y_true, logits=y_pred))\n",
    "\n",
    "# Optimizer\n",
    "optimizer = tf.train.AdamOptimizer(learning_rate=0.001)\n",
    "train=optimizer.minimize(loss)\n",
    "\n",
    "# Session\n",
    "steps = 5000\n",
    "with tf.Session() as sess:\n",
    "    sess.run(tf.global_variables_initializer())\n",
    "    for i in range(steps):\n",
    "        batch_x,batch_y = mnist.train.next_batch(50)\n",
    "        sess.run(train, feed_dict={x:batch_x,y_true:batch_y,hold_prob:0.5})\n",
    "        \n",
    "        if i%100 ==0:\n",
    "            print(\"OnStep: {}\".format(i))\n",
    "            print(\"Accuracy: \")\n",
    "            matches = tf.equal(tf.argmax(y_pred,1),tf.argmax(y_true,1))\n",
    "            acc = tf.reduce_mean(tf.cast(matches,tf.float32))\n",
    "            print(sess.run(acc,feed_dict={x:mnist.test.images,y_true:mnist.test.labels,hold_prob:1.0}))\n",
    "            print('\\n')\n"
   ]
  },
  {
   "cell_type": "code",
   "execution_count": null,
   "metadata": {},
   "outputs": [],
   "source": []
  }
 ],
 "metadata": {
  "kernelspec": {
   "display_name": "Python 3",
   "language": "python",
   "name": "python3"
  },
  "language_info": {
   "codemirror_mode": {
    "name": "ipython",
    "version": 3
   },
   "file_extension": ".py",
   "mimetype": "text/x-python",
   "name": "python",
   "nbconvert_exporter": "python",
   "pygments_lexer": "ipython3",
   "version": "3.7.2"
  }
 },
 "nbformat": 4,
 "nbformat_minor": 2
}
