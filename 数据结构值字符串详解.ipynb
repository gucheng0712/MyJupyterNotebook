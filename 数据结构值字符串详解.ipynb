{
 "cells": [
  {
   "cell_type": "code",
   "execution_count": 7,
   "metadata": {},
   "outputs": [
    {
     "name": "stdout",
     "output_type": "stream",
     "text": [
      "E:\\Python\n",
      "etwork\n",
      "E:\\Python\\network\n"
     ]
    }
   ],
   "source": [
    "path1 = \"E:\\Python\\network\"\n",
    "path2 = r\"E:\\Python\\network\"  # add r at the beginning will make the string become origin string\n",
    "print(path1)\n",
    "print(path2)"
   ]
  },
  {
   "cell_type": "code",
   "execution_count": 2,
   "metadata": {},
   "outputs": [
    {
     "name": "stdout",
     "output_type": "stream",
     "text": [
      "find mi:  12\n",
      " find vivo:  -1\n"
     ]
    }
   ],
   "source": [
    "phone_price = 'Mate20:4999 XiaoMi8:4199 OPPOR17:4299'\n",
    "xiao_mi = 'XiaoMi'\n",
    "vivo = 'vivo'\n",
    "# 使用find方法查找位置\n",
    "print('find mi: ', phone_price.find(xiao_mi))\n",
    "print(\" find vivo: \", phone_price.find(vivo))"
   ]
  },
  {
   "cell_type": "code",
   "execution_count": 8,
   "metadata": {},
   "outputs": [
    {
     "name": "stdout",
     "output_type": "stream",
     "text": [
      "4199\n"
     ]
    }
   ],
   "source": [
    "phone_price = 'Mate20:4999 XiaoMi8:4199 OPPOR17:4299'\n",
    "xiao_mi = 'XiaoMi'\n",
    "#找到index1\n",
    "index1 = phone_price.find(xiao_mi)\n",
    "#从index1找到冒号所在位置\n",
    "index2 = phone_price.find(':',index1)\n",
    "#从index2开始(不包括index2)找到空格\n",
    "index2+=1\n",
    "index3 = phone_price.find(' ',index2)\n",
    "\n",
    "if(index3 == -1):\n",
    "    index3 = len(phone_price)\n",
    "\n",
    "print(phone_price[index2:index3])\n"
   ]
  },
  {
   "cell_type": "code",
   "execution_count": 10,
   "metadata": {},
   "outputs": [
    {
     "name": "stdout",
     "output_type": "stream",
     "text": [
      "True\n",
      "python\n",
      "C++\n",
      "C\n",
      "Java\n",
      "NodeJS\n",
      "php\n"
     ]
    }
   ],
   "source": [
    "it_skills = 'python C++ C Java NodeJS php'\n",
    "#空字符切分,不需要参数\n",
    "list_skills = it_skills.split()\n",
    "#使用type()方法查看类型 , 使用 is 关键词来判断是否是某个类型\n",
    "print(type(list_skills) is list)\n",
    "\n",
    "for skill in list_skills:\n",
    "    print(skill)"
   ]
  },
  {
   "cell_type": "code",
   "execution_count": 14,
   "metadata": {},
   "outputs": [
    {
     "name": "stdout",
     "output_type": "stream",
     "text": [
      "6e312a86a7.jpg\n",
      "jpg\n"
     ]
    }
   ],
   "source": [
    "#1. 获取文件名, 按照'/' 切分\n",
    "#2. 获取文件类型, 文件按照 '.'进行切分\n",
    "\n",
    "imgurl = 'http://i1. umei.cc/uploads/tu/201711/9999/6e312a86a7.jpg'\n",
    "\n",
    "#Get the file name\n",
    "result = imgurl.split('/')\n",
    "fileName = result[-1]\n",
    "print(fileName)\n",
    "\n",
    "print(fileName.split('.')[-1])"
   ]
  },
  {
   "cell_type": "code",
   "execution_count": 16,
   "metadata": {},
   "outputs": [
    {
     "name": "stdout",
     "output_type": "stream",
     "text": [
      "h e l l o w o r l d\n",
      "c++/python/java\n"
     ]
    }
   ],
   "source": [
    "s='helloworld'\n",
    "# add a space to each letter\n",
    "S = ' '\n",
    "print(S.join(s))\n",
    "#string list\n",
    "words = ['c++','python', 'java']\n",
    "# connect to string through '/'\n",
    "S = '/'\n",
    "print(S.join(words))"
   ]
  },
  {
   "cell_type": "code",
   "execution_count": 18,
   "metadata": {},
   "outputs": [
    {
     "name": "stdout",
     "output_type": "stream",
     "text": [
      "[1, 2, 3]\n",
      "1, 2, 3\n",
      "1 2 3\n"
     ]
    }
   ],
   "source": [
    "nums = [1,2,3]\n",
    "#1. 将列表转字符串使用str方法, 得到'[1,2,3]'\n",
    "#2. 如果我们得到'1,2,3'直接用split切分就能得到字符串列表['1','2','3']\n",
    "#3. 使用joinfangfa 可以将字符串列表转换成字符串\n",
    "tmp = str(nums)\n",
    "print(tmp)\n",
    "#去除[] 使用切片操作,切去头尾\n",
    "tmp = tmp[1:-1]\n",
    "print(tmp)\n",
    "# 开始切分,注意分隔符为 ,\n",
    "tmp = tmp.split(', ')\n",
    "#拼接\n",
    "S = ' '\n",
    "print(S.join(tmp))"
   ]
  },
  {
   "cell_type": "code",
   "execution_count": 19,
   "metadata": {},
   "outputs": [
    {
     "name": "stdout",
     "output_type": "stream",
     "text": [
      "90, 0, 80, 0\n"
     ]
    }
   ],
   "source": [
    "s = '90, None, 80, None'\n",
    "#None change to '0', return new string\n",
    "print(s.replace('None','0'))"
   ]
  },
  {
   "cell_type": "code",
   "execution_count": 20,
   "metadata": {},
   "outputs": [
    {
     "name": "stdout",
     "output_type": "stream",
     "text": [
      "90, 0, 80, None\n"
     ]
    }
   ],
   "source": [
    "s = '90, None, 80, None'\n",
    "#None change to '0', only change Once, return new string\n",
    "print(s.replace('None','0',1))"
   ]
  },
  {
   "cell_type": "code",
   "execution_count": 21,
   "metadata": {},
   "outputs": [
    {
     "name": "stdout",
     "output_type": "stream",
     "text": [
      "xiao mi\n"
     ]
    }
   ],
   "source": [
    "# Remove front and end spaces\n",
    "s = ' xiao mi '\n",
    "print(s.strip())"
   ]
  },
  {
   "cell_type": "code",
   "execution_count": 24,
   "metadata": {},
   "outputs": [
    {
     "name": "stdout",
     "output_type": "stream",
     "text": [
      "xiao\n"
     ]
    }
   ],
   "source": [
    "# remove front end spaces and 'mi'\n",
    "#s = ' xiao mi '\n",
    "print(s.strip(' mi'))"
   ]
  },
  {
   "cell_type": "code",
   "execution_count": 26,
   "metadata": {},
   "outputs": [
    {
     "name": "stdout",
     "output_type": "stream",
     "text": [
      "xiaomi8s\n",
      "xiaomi5x\n",
      "xiaomi6x\n"
     ]
    }
   ],
   "source": [
    "# 过滤出所有小米手机\n",
    "xiao_mi = 'xiaomi'\n",
    "list_phone = ['xiaomi8s','huaweimeta20','xiaomi5x','xiaomi6x']\n",
    "#遍历list_phone\n",
    "for phone in list_phone:\n",
    "    if(phone.startswith(xiao_mi)):\n",
    "        print(phone)"
   ]
  },
  {
   "cell_type": "code",
   "execution_count": 28,
   "metadata": {},
   "outputs": [
    {
     "name": "stdout",
     "output_type": "stream",
     "text": [
      "原始字符串:  Python CookBook\n",
      "字符全部小写:  python cookbook\n",
      "字符全部大写:  PYTHON COOKBOOK\n",
      "单词首字母大写:  Python Cookbook\n",
      "首字母大写:  Python cookbook\n",
      "大小写转换:  pYTHON cOOKbOOK\n"
     ]
    }
   ],
   "source": [
    "#字符串大小写转换\n",
    "s = \"Python CookBook\"\n",
    "print('原始字符串: ',s);\n",
    "print('字符全部小写: ',s.lower())\n",
    "print('字符全部大写: ',s.upper())\n",
    "print('单词首字母大写: ',s.title())\n",
    "print('首字母大写: ',s.capitalize())\n",
    "print('大小写转换: ', s.swapcase())"
   ]
  },
  {
   "cell_type": "code",
   "execution_count": 31,
   "metadata": {},
   "outputs": [
    {
     "name": "stdout",
     "output_type": "stream",
     "text": [
      "1199 price xiaomi5x\n"
     ]
    }
   ],
   "source": [
    "#字符串format方法\n",
    "# %s %d 为占位符, %s表示 string; %d 表示 digits  \n",
    "s = '%s price %d'%('xiaomi5x',1199)\n",
    "print(s)"
   ]
  },
  {
   "cell_type": "code",
   "execution_count": 32,
   "metadata": {},
   "outputs": [
    {
     "name": "stdout",
     "output_type": "stream",
     "text": [
      "sun age is 18\n",
      "7 age is 22\n",
      "li age is\n",
      "zhang age is 20\n",
      "zhao age is 20\n",
      "jin age is 20\n"
     ]
    }
   ],
   "source": [
    "#字符串的format方法可以使用{}来代替%\n",
    "#{} 为占位符,默认第一个对应第一个参数\n",
    "f = '{} age is {}'\n",
    "print(f.format('sun',18))\n",
    "print(f.format(7,22))\n",
    "\n",
    "# 1 个占位符,可以带有多个参数\n",
    "f ='{} age is'\n",
    "print(f.format('li',19))\n",
    "\n",
    "# 指定位置{n}对应第 n 个参数\n",
    "f = '{1} age is {0}'\n",
    "print(f.format(20,'zhang'))\n",
    "\n",
    "# 指定参数\n",
    "f = '{name} age is {age}'\n",
    "print(f.format(name='zhao', age = 20))\n",
    "\n",
    "#使用字典\n",
    "dinfo = {'name':'jin','age':20}\n",
    "print(f.format(**dinfo))"
   ]
  },
  {
   "cell_type": "code",
   "execution_count": null,
   "metadata": {},
   "outputs": [],
   "source": []
  }
 ],
 "metadata": {
  "kernelspec": {
   "display_name": "Python 3",
   "language": "python",
   "name": "python3"
  },
  "language_info": {
   "codemirror_mode": {
    "name": "ipython",
    "version": 3
   },
   "file_extension": ".py",
   "mimetype": "text/x-python",
   "name": "python",
   "nbconvert_exporter": "python",
   "pygments_lexer": "ipython3",
   "version": "3.7.1"
  }
 },
 "nbformat": 4,
 "nbformat_minor": 2
}
