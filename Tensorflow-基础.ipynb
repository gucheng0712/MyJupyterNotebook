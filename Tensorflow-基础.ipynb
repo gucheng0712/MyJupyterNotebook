{
 "cells": [
  {
   "cell_type": "markdown",
   "metadata": {},
   "source": [
    "# TensorFlow Version Check"
   ]
  },
  {
   "cell_type": "code",
   "execution_count": 1,
   "metadata": {},
   "outputs": [
    {
     "name": "stdout",
     "output_type": "stream",
     "text": [
      "1.13.1\n"
     ]
    }
   ],
   "source": [
    "import tensorflow as tf\n",
    "print(tf.__version__)"
   ]
  },
  {
   "cell_type": "markdown",
   "metadata": {},
   "source": [
    "# TensorFlow\n",
    "\n",
    "```\n",
    "TensorFlow Structure:\n",
    "                tensor: Data\n",
    "                op(operation): all the operation defined by tensorflow api such as tf.add, tf.constant \n",
    "                graphs: A graph includes tensor and op, represented as a dataflow graph\n",
    "                session: An operator all the tensorflow stuff needs to run inside session\n",
    "```\n",
    "\n",
    "---\n",
    "\n",
    "\n",
    "## Graph in TensorFlow\n",
    "\n",
    "A `Graph` contains a set of `tf.Operation` objects, which represent units of computation; and `tf.Tensor` objects, which represent the units of data that flow between operations. **A `default graph` has already registered when we start coding.**\n",
    "\n",
    "\n",
    "---\n",
    "\n",
    "\n",
    "### How to Get a Graph:\n",
    "\n",
    "**1. tf.get_default_graph()**\n",
    "\n",
    "``` python\n",
    "import tensorflow as tf\n",
    "\n",
    "# get the default graph, just like assign an memory address to the graph\n",
    "graph = tf.get_default_graph()\n",
    "print(graph)\n",
    "```\n",
    "\n",
    "Output\n",
    "```\n",
    "<tensorflow.python.framework.ops.Graph object at 0x000001D46D1AA400>\n",
    "```\n",
    "\n",
    "**2. op, sess, or tensor's graph property**\n",
    "\n",
    "```python\n",
    "import tensorflow as tf\n",
    "\n",
    "a = tf.constant(3.0)\n",
    "b = tf.constant(6.0)\n",
    "\n",
    "with tf.Session() as sess:\n",
    "    print(a.graph)\n",
    "    print(b.graph)\n",
    "    print(sess.graph)\n",
    "```\n",
    "\n",
    "Output\n",
    "```\n",
    "<tensorflow.python.framework.ops.Graph object at 0x000001D46D1AA400>\n",
    "<tensorflow.python.framework.ops.Graph object at 0x000001D46D1AA400>\n",
    "<tensorflow.python.framework.ops.Graph object at 0x000001D46D1AA400>\n",
    "```\n",
    "\n",
    "---\n",
    "\n",
    "### How to Create a Graph:\n",
    "When creating a new graph, the new graph will be assign to a `new memory address`, which means the `new graph` and the `old graphs` will not be influenced by each other.\n",
    "\n",
    "```python\n",
    "import tensorflow as tf\n",
    "\n",
    "a = tf.constant(3.0)\n",
    "b = tf.constant(6.0)\n",
    "\n",
    "graph = tf.Graph() # Create a new graph\n",
    "print('New Graph: ', graph)\n",
    "\n",
    "with graph.as_default():\n",
    "    c = tf.constant(11.0)\n",
    "    print('New Graph: ', c.graph) # new graph\n",
    "    \n",
    "    print('Old Graph: ', a.graph) # old graph\n",
    "    print('Old Graph: ', b.graph) # old graph\n",
    "```\n",
    "\n",
    "Output\n",
    "```\n",
    "New Graph:  <tensorflow.python.framework.ops.Graph object at 0x000001D420EE2470>\n",
    "New Graph:  <tensorflow.python.framework.ops.Graph object at 0x000001D420EE2470>\n",
    "Old Graph:  <tensorflow.python.framework.ops.Graph object at 0x000001D46D1AA400>\n",
    "Old Graph:  <tensorflow.python.framework.ops.Graph object at 0x000001D46D1AA400>\n",
    "```\n",
    "\n",
    "---\n"
   ]
  },
  {
   "cell_type": "markdown",
   "metadata": {},
   "source": [
    "## Session in TensorFlow\n",
    "\n",
    "Session in TensorFlow has three major functionalities:\n",
    "1. Run graph(In one Session only can run one graph)\n",
    "2. Calculation of Resource Allocation\n",
    "3. Control Resources (Variable Resources, Queues, Threads)\n",
    "\n"
   ]
  },
  {
   "cell_type": "markdown",
   "metadata": {},
   "source": [
    "## Static Shape vs. Dynamic Shape\n",
    "\n",
    "`Static shape`: Once the tensor is fixed,  can't set the static shape again. Also, it cannot be modified across dimensions.(1D-> 1D, 2D->2D).\n",
    "\n",
    ">Example:\n",
    "```python\n",
    "ph = tf.placeholder(tf.float32,[None,2]) # None represents not defined yet\n",
    "ph.set_shape([3,2]) # set the shape, can't modify again\n",
    "print(ph)\n",
    "```\n",
    ">Output:\n",
    "```\n",
    "Tensor(\"Placeholder_13:0\", shape=(3, 2), dtype=float32)\n",
    "```\n",
    "\n",
    "`Dynamic shape`: Dynamic shape can create a new Tensor, but `reshape need to mach the number of elements.`\n",
    "\n",
    ">Example:\n",
    "```python\n",
    "ph = tf.placeholder(tf.float32,[3,2])\n",
    "ph_reshape = tf.reshape(ph,[1,6])\n",
    "print(ph_reshape)\n",
    "```\n",
    ">Output:\n",
    "```\n",
    "Tensor(\"Reshape_5:0\", shape=(1, 6), dtype=float32)\n",
    "```\n",
    "\n",
    "---\n",
    "### Why need Reshape\n",
    "\n",
    "Because sometimes we the data what to use are not the ideal dimension. For example, if we want to use a `1D` data, but the data we have is a `2D` data, we need to `reshape` the data from `2D to 1D`, so that we can continue our works.\n",
    "\n",
    "---\n",
    "### Random Data\n",
    "Normally, we often use random function such as `Math.random()`. The result is a uniformly distributed random number, which means it can simulate a equal probability situation. For example, roll a dice, the probability of getting points should be equal. However, in real life, in real life, more random phenomena are consistent with the normal distribution. For example, people's height, normally tall people and short people will be rare, more will be on the average height.\n",
    "\n",
    ">Method:\n",
    "```tf.random_normal(['shape', 'mean=0.0', 'stddev=1.0', 'dtype=tf.float32', 'seed=None', 'name=None'])```"
   ]
  },
  {
   "cell_type": "markdown",
   "metadata": {},
   "source": [
    "# tf.constant()\n",
    "\n",
    "An operation in tensorflow:\n",
    "\n",
    "For example:\n",
    "\n",
    "```python\n",
    "# Constant 1-D Tensor populated with value list.\n",
    "tensor = tf.constant([1, 2, 3, 4, 5, 6, 7]) => [1 2 3 4 5 6 7]\n",
    "\n",
    "# Constant 2-D tensor populated with scalar value -1.\n",
    "tensor = tf.constant(-1.0, shape=[2, 3]) => [[-1. -1. -1.]\n",
    "                                             [-1. -1. -1.]]\n",
    "```"
   ]
  },
  {
   "cell_type": "markdown",
   "metadata": {},
   "source": [
    "# tf.Variable()\n",
    "\n",
    "1. `tf.Variable` is an operation in tensorflow. it can be persistent saved.\n",
    "2. `tf.Variable` must be initialized before calling in session by using `tf.global_variables_initializer()`.\n",
    "3. `tf.Variable` is often used for trainable variables such as `weights (W)` and `biases (B)` for the model.\n",
    "\n",
    "For example\n",
    "\n",
    "```python\n",
    "data1 = tf.constant(6) # data1 is a constant op\n",
    "data2 = tf.Variable(2) # data2 is a Variable op\n",
    "\n",
    "addition = tf.add(data1,data2) # addition op\n",
    "data_copy = tf.assign(data2,addition) # addition -> data2 data2 = addition\n",
    "subtract = tf.subtract(data1,data2) # subtract op\n",
    "multiply = tf.multiply(data1,data2) # multiply op\n",
    "division = tf.divide(data1,data2) # division op\n",
    "init = tf.global_variables_initializer() # for initialize variable op\n",
    "\n",
    "with tf.Session() as sess:\n",
    "    sess.run(init)\n",
    "    sess.run(init)\n",
    "    print('addition: ', sess.run(addition))\n",
    "    print('subtract: ', sess.run(subtract))\n",
    "    print('multiply: ', sess.run(multiply))\n",
    "    print('division: ', sess.run(division))\n",
    "    print('sess.run(data_copy) ', sess.run(data_copy)) # datacopy = 2+6 =8 , data2 = 8\n",
    "    print('data_copy.eval() ',data_copy.eval())# datacopy = 6+8=14, data2 = 14   \n",
    "    print('tf.get_default_sesson()', tf.get_default_session().run(data_copy)) #datacopy = 6+14=20, data2 = 20\n",
    "```\n",
    "\n",
    "Output:\n",
    "```\n",
    "addition:  8\n",
    "subtract:  4\n",
    "multiply:  12\n",
    "division:  3.0\n",
    "sess.run(data_copy)  8\n",
    "data_copy.eval()  14\n",
    "tf.get_default_sesson() 20\n",
    "```"
   ]
  },
  {
   "cell_type": "markdown",
   "metadata": {},
   "source": [
    "# tensorflor.placeholder 的运用\n",
    "\n",
    "```\n",
    "placeholder is initially empty and are used to feed in the actual training examples.\n",
    "need a declared expect data type  with an optional shape argument\n",
    "\n",
    "tf.placeholder is used to feed actual training examples.\n",
    "```\n",
    "\n",
    "For example:\n",
    "\n",
    "```python\n",
    "data1 = tf.placeholder(tf.float32) # a placeholder for a tensor(data) that will be always feed.\n",
    "data2 = tf.placeholder(tf.float32)\n",
    "addition= tf.add(data1,data2)\n",
    "\n",
    "with tf.Session() as sess:\n",
    "    print(sess.run(addition,feed_dict={data1:6,data2:2}))\n",
    "```\n"
   ]
  },
  {
   "cell_type": "code",
   "execution_count": 21,
   "metadata": {},
   "outputs": [
    {
     "name": "stdout",
     "output_type": "stream",
     "text": [
      "8.0\n",
      "end!\n"
     ]
    }
   ],
   "source": [
    "\n",
    "\n"
   ]
  },
  {
   "cell_type": "markdown",
   "metadata": {},
   "source": [
    "# Tensorflow 矩阵运算"
   ]
  },
  {
   "cell_type": "code",
   "execution_count": 13,
   "metadata": {},
   "outputs": [
    {
     "name": "stdout",
     "output_type": "stream",
     "text": [
      "data1.shape:  (1, 2)\n",
      "data1 * data2:\n",
      " [[18]]\n",
      "data1 + data3:\n",
      " [[9 9]]\n",
      "data1 x data2:\n",
      " [[12 12]\n",
      " [ 6  6]]\n",
      "[[12 12]\n",
      " [ 6  6]]\n"
     ]
    }
   ],
   "source": [
    "\n",
    "import tensorflow as tf\n",
    "\n",
    "data1 = tf.constant([[6,6]])\n",
    "print('data1.shape: ',data1.shape)\n",
    "data2 = tf.constant([[2],[1]]) # (2,1)\n",
    "data3 = tf.constant([[3,3]]) #(1,2)\n",
    "data4 = tf.constant([[1,2],[3,4],[5,6]]) #(3,2)\n",
    "\n",
    "matMul = tf.matmul(data1,data2)\n",
    "matMul2 = tf.multiply(data1,data2)\n",
    "matAdd = tf.add(data1,data3)\n",
    "with tf.Session() as sess:\n",
    "    print('data1 * data2:\\n',sess.run(matMul))\n",
    "    print('data1 + data3:\\n', sess.run(matAdd))\n",
    "    print('data1 x data2:\\n',sess.run(matMul2)) \n",
    "    \n"
   ]
  },
  {
   "cell_type": "markdown",
   "metadata": {},
   "source": [
    "# Tensorflow特殊矩阵"
   ]
  },
  {
   "cell_type": "code",
   "execution_count": 37,
   "metadata": {},
   "outputs": [
    {
     "name": "stdout",
     "output_type": "stream",
     "text": [
      "[[0. 0. 0.]\n",
      " [0. 0. 0.]]\n",
      "[[1. 1.]\n",
      " [1. 1.]\n",
      " [1. 1.]]\n",
      "[[15 15 15]\n",
      " [15 15 15]]\n"
     ]
    }
   ],
   "source": [
    "import tensorflow as tf\n",
    "mat0 = tf.zeros([2,3])# 零矩阵\n",
    "mat1 = tf.ones([3,2])# 单位矩阵\n",
    "mat_fill = tf.fill([2,3],15) #填充矩阵\n",
    "with tf.Session() as sess:\n",
    "    print(sess.run(mat0))\n",
    "    print(sess.run(mat1))\n",
    "    print(sess.run(mat_fill))\n",
    "    \n",
    "    "
   ]
  },
  {
   "cell_type": "code",
   "execution_count": 16,
   "metadata": {},
   "outputs": [
    {
     "name": "stdout",
     "output_type": "stream",
     "text": [
      "matB: \n",
      " [[0]\n",
      " [0]\n",
      " [0]]\n",
      "matC: \n",
      " [0.        0.2       0.4       0.6       0.8       1.        1.2\n",
      " 1.4       1.6       1.8000001 2.       ]\n",
      "matD: \n",
      " [[-0.4354236   1.1412733  -0.238724  ]\n",
      " [ 0.64117324 -0.32113397  1.0433965 ]]\n"
     ]
    }
   ],
   "source": [
    "import tensorflow as tf\n",
    "matA = tf.constant([[2],[3],[4]])\n",
    "matB = tf.zeros_like(matA) #复制一个同样维度的零矩阵\n",
    "matC = tf.linspace(0.0,2.0,11)\n",
    "matD = tf.random_uniform([2,3],-1,2)# 2x3 的随机矩阵,随机范围是(-1,2)\n",
    "with tf.Session() as sess:\n",
    "    #print(sess.run(matA))\n",
    "    print(\"matB: \\n\",sess.run(matB))\n",
    "    print(\"matC: \\n\",sess.run(matC))\n",
    "    print(\"matD: \\n\",sess.run(matD))\n",
    "    \n",
    "    "
   ]
  },
  {
   "cell_type": "markdown",
   "metadata": {},
   "source": [
    "# Initialization of Weights Options\n",
    "\n",
    "1. Xavier(Glorot) Initialization\n",
    "    ```Uniform/Normal```\n",
    "2. Draw weights from a distribution with zero mean and a specific variance.\n",
    "\n",
    "$$Var(W) = \\frac{1}{n_in}$$"
   ]
  },
  {
   "cell_type": "markdown",
   "metadata": {},
   "source": [
    "# Linear Regression\n",
    "\n",
    "w1x1+w2x2+w3x3+...w_nx_n + bias\n",
    "\n",
    "1. Prepare a feature and a target value `y = 0.7*x + 0.8`\n",
    "2. create model, randomly initialize and prepare a weight and a bias `y_predict = wx+b`\n",
    "3. error function: $\\frac{(y_1-y_{1p})^2 +...+(y_n - {y_np})}{n}$\n",
    "4. graident descent for optimize the process, assign learning rate"
   ]
  },
  {
   "cell_type": "code",
   "execution_count": 3,
   "metadata": {},
   "outputs": [],
   "source": [
    "import numpy as np\n",
    "import matplotlib.pyplot as plt\n",
    "import tensorflow as tf"
   ]
  },
  {
   "cell_type": "code",
   "execution_count": 18,
   "metadata": {},
   "outputs": [
    {
     "data": {
      "text/plain": [
       "[<matplotlib.lines.Line2D at 0x1852c7aa2e8>]"
      ]
     },
     "execution_count": 18,
     "metadata": {},
     "output_type": "execute_result"
    },
    {
     "data": {
      "image/png": "[encoded data removed]",
      "text/plain": [
       "<Figure size 432x288 with 1 Axes>"
      ]
     },
     "metadata": {
      "needs_background": "light"
     },
     "output_type": "display_data"
    }
   ],
   "source": [
    "\n",
    "# Prepare data x and y (here used random data)\n",
    "x_data = np.linspace(0,10,10)+np.random.uniform(-1.5,1.5,10) # 10 element range(-1.5,1.5)\n",
    "y_data = np.linspace(0,10,10)+np.random.uniform(-1.5,1.5,10) # 10 element range(-1.5,1.5)\n",
    "\n",
    "# plot the data\n",
    "plt.plot(x_data,y_data,'o')\n",
    "\n",
    "#give random weight and bias for linear regression model y = wx+b\n",
    "w = tf.Variable(np.random.rand(1),name='w')\n",
    "b = tf.Variable(np.random.rand(1),name='b')\n",
    "init  = tf.global_variables_initializer()\n",
    "\n",
    "# create error function\n",
    "error = 0\n",
    "for x,y in zip(x_data,y_data):\n",
    "    y_pred = w*x+b\n",
    "    error+=(y-y_pred)**2\n",
    "\n",
    "# train data by using GradientDecentOptimizer()\n",
    "optimizer = tf.train.GradientDescentOptimizer(learning_rate=0.001)\n",
    "train = optimizer.minimize(error)\n",
    "\n",
    "# Session()\n",
    "with tf.Session() as sess:\n",
    "    sess.run(init) # initialize Variable op\n",
    "    training_steps = 1000 # how many times to train\n",
    "    \n",
    "    # create event file for showing up in tensorboard\n",
    "    filewriter = tf.summary.FileWriter('./',graph = sess.graph)\n",
    "    \n",
    "    for i in range(training_steps):\n",
    "        sess.run(train)\n",
    "    final_w, final_b = sess.run([w,b])\n",
    "\n",
    "x_test = np.linspace(-1,11,10)\n",
    "# y = mx+b\n",
    "y_pred_plot = final_w * x_test + final_b\n",
    "plt.plot(x_test,y_pred_plot,'r')\n",
    "plt.plot(x_data,y_data,'ob')\n",
    "\n"
   ]
  },
  {
   "cell_type": "markdown",
   "metadata": {},
   "source": [
    "# TensorFlow:Save and Load the Model\n",
    "\n",
    "**Saving Example:**\n",
    "\n",
    "```python\n",
    "...\n",
    "# Create a new instance of Saver in TensorFlow\n",
    "saver = tf.train.Saver() \n",
    "\n",
    "# Create a session and run\n",
    "with tf.Session() as sess:\n",
    "    sess.run(init)\n",
    "    epochs = 100\n",
    "    for i in range(epochs):\n",
    "        sess.run(train)    \n",
    "    # save \n",
    "    saver.save(sess,'./savedModel.ckpt')\n",
    "```\n",
    "\n",
    "**Loading Example:**\n",
    "\n",
    "```python\n",
    "# Create a saver.\n",
    "saver = tf.train.Saver()\n",
    "saver.restore(sess,'./savedModel.ckpt')\n",
    "```"
   ]
  },
  {
   "cell_type": "markdown",
   "metadata": {},
   "source": [
    "# Tensorflow Regression Example"
   ]
  },
  {
   "cell_type": "code",
   "execution_count": 6,
   "metadata": {},
   "outputs": [],
   "source": [
    "import numpy as np\n",
    "import pandas as pd\n",
    "import matplotlib.pyplot as plt\n",
    "import tensorflow as tf"
   ]
  },
  {
   "cell_type": "code",
   "execution_count": 7,
   "metadata": {},
   "outputs": [
    {
     "data": {
      "image/png": "[encoded data removed]",
      "text/plain": [
       "<Figure size 432x288 with 1 Axes>"
      ]
     },
     "metadata": {
      "needs_background": "light"
     },
     "output_type": "display_data"
    }
   ],
   "source": [
    "x_data = np.linspace(0.0,10.0,1000000)\n",
    "noise = np.random.randn(len(x_data)) # random add some noise to make data not straight\n",
    "\n",
    "# y = mx+b\n",
    "# b = 5\n",
    "y_true = (0.5 * x_data)+ 5 +noise\n",
    "\n",
    "x_df = pd.DataFrame(data=x_data, columns = ['X Data'])\n",
    "y_df = pd.DataFrame(data=y_true, columns = ['Y'])\n",
    "\n",
    "pd.DataFrame()\n",
    "my_data = pd.concat([x_df,y_df],axis = 1)  # (axis= 0 ==> concat Row) (axis= 1 ==> concat Column)\n",
    "my_data.sample(n=250).plot(kind='scatter',x='X Data',y = 'Y')# 250 random samples\n",
    "\n",
    "batch_size = 8\n",
    "\n",
    "\n",
    "# tf.Variable is often for trainable variables such as weights (W) and biases (B) for your model.\n",
    "# Two Random Numbers\n",
    "m = tf.Variable(.81) # slope that wants to adjust\n",
    "b = tf.Variable(.17) # offset that wants to adjust\n",
    "\n",
    "init = tf.global_variables_initializer()# variable needs to be initialized by this function\n",
    "\n",
    "# tf.placeholder is used to feed actual training examples.\n",
    "# x y placeholder\n",
    "xph = tf.placeholder(tf.float32,[batch_size])\n",
    "yph = tf.placeholder(tf.float32,[batch_size])\n",
    "\n",
    "y_model = m * xph + b\n",
    "error = tf.reduce_sum(tf.square(yph-y_model)) #loss function\n",
    "\n",
    "#GradientDescentOptimizer (training function)\n",
    "optimizer = tf.train.GradientDescentOptimizer(learning_rate=0.001)\n",
    "train = optimizer.minimize(error)\n",
    "\n",
    "# run session\n",
    "with tf.Session() as sess:\n",
    "    sess.run(init)\n",
    "    bactches = 1000 # train 1000 times\n",
    "    \n",
    "    for i in range(bactches):\n",
    "        rand_index = np.random.randint(len(x_data),size = batch_size)\n",
    "        feed = {xph:x_data[rand_index],yph:y_true[rand_index]}\n",
    "        \n",
    "        # feed_dict is for updating the placeholder's value\n",
    "        sess.run(train,feed_dict=feed)\n",
    "    pred_m, pred_b = sess.run([m,b])\n",
    "\n",
    "y_pred = x_data*pred_m+pred_b\n",
    "plt.plot(x_data,y_pred,'r');\n"
   ]
  },
  {
   "cell_type": "markdown",
   "metadata": {},
   "source": [
    "# Tensorflow Regression by using Estimator API"
   ]
  },
  {
   "cell_type": "code",
   "execution_count": 8,
   "metadata": {},
   "outputs": [],
   "source": [
    "import numpy as np\n",
    "import tensorflow as tf\n",
    "from sklearn.model_selection import train_test_split\n",
    "import matplotlib.pyplot as plt\n",
    "import pandas as pd"
   ]
  },
  {
   "cell_type": "code",
   "execution_count": 10,
   "metadata": {},
   "outputs": [
    {
     "name": "stdout",
     "output_type": "stream",
     "text": [
      "INFO:tensorflow:Using default config.\n",
      "WARNING:tensorflow:Using temporary folder as model directory: C:\\Users\\Suzuka\\AppData\\Local\\Temp\\tmp18w4kzgo\n",
      "INFO:tensorflow:Using config: {'_model_dir': 'C:\\\\Users\\\\Suzuka\\\\AppData\\\\Local\\\\Temp\\\\tmp18w4kzgo', '_tf_random_seed': None, '_save_summary_steps': 100, '_save_checkpoints_steps': None, '_save_checkpoints_secs': 600, '_session_config': allow_soft_placement: true\n",
      "graph_options {\n",
      "  rewrite_options {\n",
      "    meta_optimizer_iterations: ONE\n",
      "  }\n",
      "}\n",
      ", '_keep_checkpoint_max': 5, '_keep_checkpoint_every_n_hours': 10000, '_log_step_count_steps': 100, '_train_distribute': None, '_device_fn': None, '_protocol': None, '_eval_distribute': None, '_experimental_distribute': None, '_service': None, '_cluster_spec': <tensorflow.python.training.server_lib.ClusterSpec object at 0x000001504891EB70>, '_task_type': 'worker', '_task_id': 0, '_global_id_in_cluster': 0, '_master': '', '_evaluation_master': '', '_is_chief': True, '_num_ps_replicas': 0, '_num_worker_replicas': 1}\n",
      "INFO:tensorflow:Calling model_fn.\n",
      "INFO:tensorflow:Done calling model_fn.\n",
      "INFO:tensorflow:Create CheckpointSaverHook.\n",
      "INFO:tensorflow:Graph was finalized.\n",
      "INFO:tensorflow:Running local_init_op.\n",
      "INFO:tensorflow:Done running local_init_op.\n",
      "INFO:tensorflow:Saving checkpoints for 0 into C:\\Users\\Suzuka\\AppData\\Local\\Temp\\tmp18w4kzgo\\model.ckpt.\n",
      "INFO:tensorflow:loss = 541.67816, step = 1\n",
      "INFO:tensorflow:global_step/sec: 1728.75\n",
      "INFO:tensorflow:loss = 29.797012, step = 101 (0.059 sec)\n",
      "INFO:tensorflow:global_step/sec: 2228.17\n",
      "INFO:tensorflow:loss = 5.745865, step = 201 (0.044 sec)\n",
      "INFO:tensorflow:global_step/sec: 2228.14\n",
      "INFO:tensorflow:loss = 12.119595, step = 301 (0.046 sec)\n",
      "INFO:tensorflow:global_step/sec: 2228.2\n",
      "INFO:tensorflow:loss = 25.766941, step = 401 (0.045 sec)\n",
      "INFO:tensorflow:global_step/sec: 2387.26\n",
      "INFO:tensorflow:loss = 16.516678, step = 501 (0.042 sec)\n",
      "INFO:tensorflow:global_step/sec: 2228.22\n",
      "INFO:tensorflow:loss = 9.9796295, step = 601 (0.045 sec)\n",
      "INFO:tensorflow:global_step/sec: 2226.54\n",
      "INFO:tensorflow:loss = 10.72816, step = 701 (0.045 sec)\n",
      "INFO:tensorflow:global_step/sec: 2508.69\n",
      "INFO:tensorflow:loss = 16.58125, step = 801 (0.040 sec)\n",
      "INFO:tensorflow:global_step/sec: 2278.83\n",
      "INFO:tensorflow:loss = 9.262682, step = 901 (0.044 sec)\n",
      "INFO:tensorflow:Saving checkpoints for 1000 into C:\\Users\\Suzuka\\AppData\\Local\\Temp\\tmp18w4kzgo\\model.ckpt.\n",
      "INFO:tensorflow:Loss for final step: 17.851267.\n",
      "INFO:tensorflow:Calling model_fn.\n",
      "INFO:tensorflow:Done calling model_fn.\n",
      "INFO:tensorflow:Starting evaluation at 2019-03-12T18:43:52Z\n",
      "INFO:tensorflow:Graph was finalized.\n",
      "INFO:tensorflow:Restoring parameters from C:\\Users\\Suzuka\\AppData\\Local\\Temp\\tmp18w4kzgo\\model.ckpt-1000\n",
      "INFO:tensorflow:Running local_init_op.\n",
      "INFO:tensorflow:Done running local_init_op.\n",
      "INFO:tensorflow:Evaluation [100/1000]\n",
      "INFO:tensorflow:Evaluation [200/1000]\n",
      "INFO:tensorflow:Evaluation [300/1000]\n",
      "INFO:tensorflow:Evaluation [400/1000]\n",
      "INFO:tensorflow:Evaluation [500/1000]\n",
      "INFO:tensorflow:Evaluation [600/1000]\n",
      "INFO:tensorflow:Evaluation [700/1000]\n",
      "INFO:tensorflow:Evaluation [800/1000]\n",
      "INFO:tensorflow:Evaluation [900/1000]\n",
      "INFO:tensorflow:Evaluation [1000/1000]\n",
      "INFO:tensorflow:Finished evaluation at 2019-03-12-18:43:52\n",
      "INFO:tensorflow:Saving dict for global step 1000: average_loss = 1.0950383, global_step = 1000, label/mean = 7.494785, loss = 8.760306, prediction/mean = 7.367162\n",
      "INFO:tensorflow:Saving 'checkpoint_path' summary for global step 1000: C:\\Users\\Suzuka\\AppData\\Local\\Temp\\tmp18w4kzgo\\model.ckpt-1000\n",
      "INFO:tensorflow:Calling model_fn.\n",
      "INFO:tensorflow:Done calling model_fn.\n",
      "INFO:tensorflow:Starting evaluation at 2019-03-12T18:43:53Z\n",
      "INFO:tensorflow:Graph was finalized.\n",
      "INFO:tensorflow:Restoring parameters from C:\\Users\\Suzuka\\AppData\\Local\\Temp\\tmp18w4kzgo\\model.ckpt-1000\n",
      "INFO:tensorflow:Running local_init_op.\n",
      "INFO:tensorflow:Done running local_init_op.\n",
      "INFO:tensorflow:Evaluation [100/1000]\n",
      "INFO:tensorflow:Evaluation [200/1000]\n",
      "INFO:tensorflow:Evaluation [300/1000]\n",
      "INFO:tensorflow:Evaluation [400/1000]\n",
      "INFO:tensorflow:Evaluation [500/1000]\n",
      "INFO:tensorflow:Evaluation [600/1000]\n",
      "INFO:tensorflow:Evaluation [700/1000]\n",
      "INFO:tensorflow:Evaluation [800/1000]\n",
      "INFO:tensorflow:Evaluation [900/1000]\n",
      "INFO:tensorflow:Evaluation [1000/1000]\n",
      "INFO:tensorflow:Finished evaluation at 2019-03-12-18:43:53\n",
      "INFO:tensorflow:Saving dict for global step 1000: average_loss = 1.0816798, global_step = 1000, label/mean = 7.493566, loss = 8.653439, prediction/mean = 7.345573\n",
      "INFO:tensorflow:Saving 'checkpoint_path' summary for global step 1000: C:\\Users\\Suzuka\\AppData\\Local\\Temp\\tmp18w4kzgo\\model.ckpt-1000\n",
      "INFO:tensorflow:Calling model_fn.\n",
      "INFO:tensorflow:Done calling model_fn.\n",
      "INFO:tensorflow:Graph was finalized.\n",
      "INFO:tensorflow:Restoring parameters from C:\\Users\\Suzuka\\AppData\\Local\\Temp\\tmp18w4kzgo\\model.ckpt-1000\n",
      "INFO:tensorflow:Running local_init_op.\n",
      "INFO:tensorflow:Done running local_init_op.\n"
     ]
    },
    {
     "data": {
      "text/plain": [
       "[<matplotlib.lines.Line2D at 0x1504891e0f0>]"
      ]
     },
     "execution_count": 10,
     "metadata": {},
     "output_type": "execute_result"
    },
    {
     "data": {
      "image/png": "[encoded data removed]",
      "text/plain": [
       "<Figure size 432x288 with 1 Axes>"
      ]
     },
     "metadata": {
      "needs_background": "light"
     },
     "output_type": "display_data"
    }
   ],
   "source": [
    "x_data = np.linspace(0.0,10.0,1000000)\n",
    "noise = np.random.randn(len(x_data)) # random add some noise to make data not straight\n",
    "# y = mx+b\n",
    "# b = 5\n",
    "y_true = (0.5 * x_data)+ 5 +noise\n",
    "\n",
    "x_df = pd.DataFrame(data=x_data, columns = ['X Data'])\n",
    "y_df = pd.DataFrame(data=y_true, columns = ['Y'])\n",
    "\n",
    "pd.DataFrame()\n",
    "my_data = pd.concat([x_df,y_df],axis = 1)  # (axis= 0 ==> concat Row) (axis= 1 ==> concat Column)\n",
    "my_data.sample(n=250).plot(kind='scatter',x='X Data',y = 'Y')# 250 random samples\n",
    "\n",
    "feat_cols = [tf.feature_column.numeric_column('x',shape=[1])]\n",
    "estimator = tf.estimator.LinearRegressor(feature_columns=feat_cols)\n",
    "\n",
    "x_train,x_eval,y_train,y_eval = train_test_split(x_data,y_true,test_size=0.3,random_state=101)\n",
    "\n",
    "input_func = tf.estimator.inputs.numpy_input_fn({'x':x_train}, y_train, batch_size=8, num_epochs=None, shuffle=True)\n",
    "\n",
    "train_input_func = tf.estimator.inputs.numpy_input_fn({'x':x_train}, y_train, batch_size=8, num_epochs=1000, shuffle=False)\n",
    "\n",
    "eval_input_func = tf.estimator.inputs.numpy_input_fn({'x':x_eval}, y_eval, batch_size=8, num_epochs=1000, shuffle=False)\n",
    "\n",
    "estimator.train(input_fn=input_func,steps=1000)\n",
    "\n",
    "train_metrics = estimator.evaluate(input_fn = train_input_func,steps=1000)\n",
    "eval_metrics = estimator.evaluate(input_fn = eval_input_func,steps=1000)\n",
    "\n",
    "new_data = np.linspace(0,10,10)\n",
    "pred_input_fn = tf.estimator.inputs.numpy_input_fn({'x':new_data},shuffle=False)\n",
    "pred_dict = list(estimator.predict(input_fn=pred_input_fn))\n",
    "\n",
    "predictions = []\n",
    "for pred in pred_dict:\n",
    "    predictions.append(pred['predictions'])\n",
    "\n",
    "plt.plot(new_data,predictions,'r')"
   ]
  },
  {
   "cell_type": "markdown",
   "metadata": {},
   "source": [
    "# TensorFlow Classification Example"
   ]
  },
  {
   "cell_type": "code",
   "execution_count": 71,
   "metadata": {
    "scrolled": true
   },
   "outputs": [],
   "source": [
    "import pandas as pd\n",
    "import tensorflow as tf\n",
    "import matplotlib.pyplot as plt\n",
    "from sklearn.model_selection import train_test_split"
   ]
  },
  {
   "cell_type": "code",
   "execution_count": 72,
   "metadata": {},
   "outputs": [
    {
     "data": {
      "text/html": [
       "<div>\n",
       "<style scoped>\n",
       "    .dataframe tbody tr th:only-of-type {\n",
       "        vertical-align: middle;\n",
       "    }\n",
       "\n",
       "    .dataframe tbody tr th {\n",
       "        vertical-align: top;\n",
       "    }\n",
       "\n",
       "    .dataframe thead th {\n",
       "        text-align: right;\n",
       "    }\n",
       "</style>\n",
       "<table border=\"1\" class=\"dataframe\">\n",
       "  <thead>\n",
       "    <tr style=\"text-align: right;\">\n",
       "      <th></th>\n",
       "      <th>Number_pregnant</th>\n",
       "      <th>Glucose_concentration</th>\n",
       "      <th>Blood_pressure</th>\n",
       "      <th>Triceps</th>\n",
       "      <th>Insulin</th>\n",
       "      <th>BMI</th>\n",
       "      <th>Pedigree</th>\n",
       "      <th>Age</th>\n",
       "      <th>Class</th>\n",
       "      <th>Group</th>\n",
       "    </tr>\n",
       "  </thead>\n",
       "  <tbody>\n",
       "    <tr>\n",
       "      <th>0</th>\n",
       "      <td>6</td>\n",
       "      <td>0.743719</td>\n",
       "      <td>0.590164</td>\n",
       "      <td>0.353535</td>\n",
       "      <td>0.000000</td>\n",
       "      <td>0.500745</td>\n",
       "      <td>0.234415</td>\n",
       "      <td>50</td>\n",
       "      <td>1</td>\n",
       "      <td>B</td>\n",
       "    </tr>\n",
       "    <tr>\n",
       "      <th>1</th>\n",
       "      <td>1</td>\n",
       "      <td>0.427136</td>\n",
       "      <td>0.540984</td>\n",
       "      <td>0.292929</td>\n",
       "      <td>0.000000</td>\n",
       "      <td>0.396423</td>\n",
       "      <td>0.116567</td>\n",
       "      <td>31</td>\n",
       "      <td>0</td>\n",
       "      <td>C</td>\n",
       "    </tr>\n",
       "    <tr>\n",
       "      <th>2</th>\n",
       "      <td>8</td>\n",
       "      <td>0.919598</td>\n",
       "      <td>0.524590</td>\n",
       "      <td>0.000000</td>\n",
       "      <td>0.000000</td>\n",
       "      <td>0.347243</td>\n",
       "      <td>0.253629</td>\n",
       "      <td>32</td>\n",
       "      <td>1</td>\n",
       "      <td>B</td>\n",
       "    </tr>\n",
       "    <tr>\n",
       "      <th>3</th>\n",
       "      <td>1</td>\n",
       "      <td>0.447236</td>\n",
       "      <td>0.540984</td>\n",
       "      <td>0.232323</td>\n",
       "      <td>0.111111</td>\n",
       "      <td>0.418778</td>\n",
       "      <td>0.038002</td>\n",
       "      <td>21</td>\n",
       "      <td>0</td>\n",
       "      <td>B</td>\n",
       "    </tr>\n",
       "    <tr>\n",
       "      <th>4</th>\n",
       "      <td>0</td>\n",
       "      <td>0.688442</td>\n",
       "      <td>0.327869</td>\n",
       "      <td>0.353535</td>\n",
       "      <td>0.198582</td>\n",
       "      <td>0.642325</td>\n",
       "      <td>0.943638</td>\n",
       "      <td>33</td>\n",
       "      <td>1</td>\n",
       "      <td>C</td>\n",
       "    </tr>\n",
       "  </tbody>\n",
       "</table>\n",
       "</div>"
      ],
      "text/plain": [
       "   Number_pregnant  Glucose_concentration  Blood_pressure   Triceps   Insulin  \\\n",
       "0                6               0.743719        0.590164  0.353535  0.000000   \n",
       "1                1               0.427136        0.540984  0.292929  0.000000   \n",
       "2                8               0.919598        0.524590  0.000000  0.000000   \n",
       "3                1               0.447236        0.540984  0.232323  0.111111   \n",
       "4                0               0.688442        0.327869  0.353535  0.198582   \n",
       "\n",
       "        BMI  Pedigree  Age  Class Group  \n",
       "0  0.500745  0.234415   50      1     B  \n",
       "1  0.396423  0.116567   31      0     C  \n",
       "2  0.347243  0.253629   32      1     B  \n",
       "3  0.418778  0.038002   21      0     B  \n",
       "4  0.642325  0.943638   33      1     C  "
      ]
     },
     "execution_count": 72,
     "metadata": {},
     "output_type": "execute_result"
    }
   ],
   "source": [
    "diabetes = pd.read_csv('pima-indians-diabetes.csv')\n",
    "diabetes.head()"
   ]
  },
  {
   "cell_type": "code",
   "execution_count": 48,
   "metadata": {},
   "outputs": [
    {
     "data": {
      "text/plain": [
       "Index(['Number_pregnant', 'Glucose_concentration', 'Blood_pressure', 'Triceps',\n",
       "       'Insulin', 'BMI', 'Pedigree', 'Age', 'Class', 'Group'],\n",
       "      dtype='object')"
      ]
     },
     "execution_count": 48,
     "metadata": {},
     "output_type": "execute_result"
    }
   ],
   "source": [
    "diabetes.columns"
   ]
  },
  {
   "cell_type": "code",
   "execution_count": 49,
   "metadata": {},
   "outputs": [
    {
     "data": {
      "text/html": [
       "<div>\n",
       "<style scoped>\n",
       "    .dataframe tbody tr th:only-of-type {\n",
       "        vertical-align: middle;\n",
       "    }\n",
       "\n",
       "    .dataframe tbody tr th {\n",
       "        vertical-align: top;\n",
       "    }\n",
       "\n",
       "    .dataframe thead th {\n",
       "        text-align: right;\n",
       "    }\n",
       "</style>\n",
       "<table border=\"1\" class=\"dataframe\">\n",
       "  <thead>\n",
       "    <tr style=\"text-align: right;\">\n",
       "      <th></th>\n",
       "      <th>Number_pregnant</th>\n",
       "      <th>Glucose_concentration</th>\n",
       "      <th>Blood_pressure</th>\n",
       "      <th>Triceps</th>\n",
       "      <th>Insulin</th>\n",
       "      <th>BMI</th>\n",
       "      <th>Pedigree</th>\n",
       "      <th>Age</th>\n",
       "      <th>Class</th>\n",
       "      <th>Group</th>\n",
       "    </tr>\n",
       "  </thead>\n",
       "  <tbody>\n",
       "    <tr>\n",
       "      <th>0</th>\n",
       "      <td>0.352941</td>\n",
       "      <td>0.743719</td>\n",
       "      <td>0.590164</td>\n",
       "      <td>0.353535</td>\n",
       "      <td>0.000000</td>\n",
       "      <td>0.500745</td>\n",
       "      <td>0.234415</td>\n",
       "      <td>50</td>\n",
       "      <td>1</td>\n",
       "      <td>B</td>\n",
       "    </tr>\n",
       "    <tr>\n",
       "      <th>1</th>\n",
       "      <td>0.058824</td>\n",
       "      <td>0.427136</td>\n",
       "      <td>0.540984</td>\n",
       "      <td>0.292929</td>\n",
       "      <td>0.000000</td>\n",
       "      <td>0.396423</td>\n",
       "      <td>0.116567</td>\n",
       "      <td>31</td>\n",
       "      <td>0</td>\n",
       "      <td>C</td>\n",
       "    </tr>\n",
       "    <tr>\n",
       "      <th>2</th>\n",
       "      <td>0.470588</td>\n",
       "      <td>0.919598</td>\n",
       "      <td>0.524590</td>\n",
       "      <td>0.000000</td>\n",
       "      <td>0.000000</td>\n",
       "      <td>0.347243</td>\n",
       "      <td>0.253629</td>\n",
       "      <td>32</td>\n",
       "      <td>1</td>\n",
       "      <td>B</td>\n",
       "    </tr>\n",
       "    <tr>\n",
       "      <th>3</th>\n",
       "      <td>0.058824</td>\n",
       "      <td>0.447236</td>\n",
       "      <td>0.540984</td>\n",
       "      <td>0.232323</td>\n",
       "      <td>0.111111</td>\n",
       "      <td>0.418778</td>\n",
       "      <td>0.038002</td>\n",
       "      <td>21</td>\n",
       "      <td>0</td>\n",
       "      <td>B</td>\n",
       "    </tr>\n",
       "    <tr>\n",
       "      <th>4</th>\n",
       "      <td>0.000000</td>\n",
       "      <td>0.688442</td>\n",
       "      <td>0.327869</td>\n",
       "      <td>0.353535</td>\n",
       "      <td>0.198582</td>\n",
       "      <td>0.642325</td>\n",
       "      <td>0.943638</td>\n",
       "      <td>33</td>\n",
       "      <td>1</td>\n",
       "      <td>C</td>\n",
       "    </tr>\n",
       "  </tbody>\n",
       "</table>\n",
       "</div>"
      ],
      "text/plain": [
       "   Number_pregnant  Glucose_concentration  Blood_pressure   Triceps   Insulin  \\\n",
       "0         0.352941               0.743719        0.590164  0.353535  0.000000   \n",
       "1         0.058824               0.427136        0.540984  0.292929  0.000000   \n",
       "2         0.470588               0.919598        0.524590  0.000000  0.000000   \n",
       "3         0.058824               0.447236        0.540984  0.232323  0.111111   \n",
       "4         0.000000               0.688442        0.327869  0.353535  0.198582   \n",
       "\n",
       "        BMI  Pedigree  Age  Class Group  \n",
       "0  0.500745  0.234415   50      1     B  \n",
       "1  0.396423  0.116567   31      0     C  \n",
       "2  0.347243  0.253629   32      1     B  \n",
       "3  0.418778  0.038002   21      0     B  \n",
       "4  0.642325  0.943638   33      1     C  "
      ]
     },
     "execution_count": 49,
     "metadata": {},
     "output_type": "execute_result"
    }
   ],
   "source": [
    "# prepare for normalize \n",
    "cols_to_norm = ['Number_pregnant','Glucose_concentration','Blood_pressure','Triceps', 'Insulin', 'BMI','Pedigree']\n",
    "\n",
    "# normalize data through pandas\n",
    "diabetes[cols_to_norm] = diabetes[cols_to_norm].apply(lambda x: (x-x.min())/(x.max()-x.min()))\n",
    "diabetes.head()"
   ]
  },
  {
   "cell_type": "code",
   "execution_count": 79,
   "metadata": {},
   "outputs": [],
   "source": [
    "num_preg = tf.feature_column.numeric_column('Number_pregnant')\n",
    "gluc_concentration = tf.feature_column.numeric_column('Glucose_concentration')\n",
    "blood_pressure = tf.feature_column.numeric_column('Blood_pressure')\n",
    "triceps = tf.feature_column.numeric_column('Triceps')\n",
    "insulin = tf.feature_column.numeric_column('Insulin')\n",
    "bmi = tf.feature_column.numeric_column('BMI')\n",
    "pedigree = tf.feature_column.numeric_column('Pedigree')\n",
    "age = tf.feature_column.numeric_column('Age')"
   ]
  },
  {
   "cell_type": "code",
   "execution_count": 80,
   "metadata": {},
   "outputs": [],
   "source": [
    "# provide group categories manually\n",
    "assigned_group = tf.feature_column.categorical_column_with_vocabulary_list('Group',['A','B','C','D'])\n",
    "\n",
    "#Or\n",
    "# auto fill the categroies by using hash_bucket the max size is 10, here it has 4 groups, so it is fine\n",
    "#assigned_group = tf.feature_column.categorical_column_with_hash_bucket('Group',hash_bucket_size=10)"
   ]
  },
  {
   "cell_type": "code",
   "execution_count": 81,
   "metadata": {},
   "outputs": [
    {
     "data": {
      "text/plain": [
       "<matplotlib.axes._subplots.AxesSubplot at 0x1fdc14e3f28>"
      ]
     },
     "execution_count": 81,
     "metadata": {},
     "output_type": "execute_result"
    },
    {
     "data": {
      "image/png": "[encoded data removed]",
      "text/plain": [
       "<Figure size 432x288 with 1 Axes>"
      ]
     },
     "metadata": {
      "needs_background": "light"
     },
     "output_type": "display_data"
    }
   ],
   "source": [
    "diabetes['Age'].hist(bins=20)"
   ]
  },
  {
   "cell_type": "code",
   "execution_count": 82,
   "metadata": {},
   "outputs": [],
   "source": [
    "age_bucket = tf.feature_column.bucketized_column(age, boundaries=[20,30,40,50,60,70,80])"
   ]
  },
  {
   "cell_type": "code",
   "execution_count": 84,
   "metadata": {},
   "outputs": [],
   "source": [
    "feat_cols = [num_preg,gluc_concentration,blood_pressure,triceps,insulin,bmi,pedigree,age]"
   ]
  },
  {
   "cell_type": "code",
   "execution_count": 85,
   "metadata": {},
   "outputs": [],
   "source": [
    "# Train test split\n",
    "x_data = diabetes.drop('Class',axis = 1) # drop class column\n",
    "labels = diabetes['Class']"
   ]
  },
  {
   "cell_type": "code",
   "execution_count": 86,
   "metadata": {},
   "outputs": [
    {
     "name": "stdout",
     "output_type": "stream",
     "text": [
      "INFO:tensorflow:Using default config.\n",
      "WARNING:tensorflow:Using temporary folder as model directory: C:\\Users\\Suzuka\\AppData\\Local\\Temp\\tmprmxi5ba6\n",
      "INFO:tensorflow:Using config: {'_model_dir': 'C:\\\\Users\\\\Suzuka\\\\AppData\\\\Local\\\\Temp\\\\tmprmxi5ba6', '_tf_random_seed': None, '_save_summary_steps': 100, '_save_checkpoints_steps': None, '_save_checkpoints_secs': 600, '_session_config': allow_soft_placement: true\n",
      "graph_options {\n",
      "  rewrite_options {\n",
      "    meta_optimizer_iterations: ONE\n",
      "  }\n",
      "}\n",
      ", '_keep_checkpoint_max': 5, '_keep_checkpoint_every_n_hours': 10000, '_log_step_count_steps': 100, '_train_distribute': None, '_device_fn': None, '_protocol': None, '_eval_distribute': None, '_experimental_distribute': None, '_service': None, '_cluster_spec': <tensorflow.python.training.server_lib.ClusterSpec object at 0x000001FDC16B9C88>, '_task_type': 'worker', '_task_id': 0, '_global_id_in_cluster': 0, '_master': '', '_evaluation_master': '', '_is_chief': True, '_num_ps_replicas': 0, '_num_worker_replicas': 1}\n"
     ]
    }
   ],
   "source": [
    "X_train,X_test,y_train,y_test = train_test_split(x_data,labels,test_size = 0.3, random_state=101)\n",
    "\n",
    "input_func = tf.estimator.inputs.pandas_input_fn(x = X_train, y = y_train, batch_size=10,num_epochs=1000,shuffle=True)\n",
    "\n",
    "model = tf.estimator.LinearClassifier(feature_columns=feat_cols,n_classes=2)"
   ]
  },
  {
   "cell_type": "code",
   "execution_count": 87,
   "metadata": {},
   "outputs": [
    {
     "name": "stdout",
     "output_type": "stream",
     "text": [
      "INFO:tensorflow:Calling model_fn.\n",
      "INFO:tensorflow:Done calling model_fn.\n",
      "INFO:tensorflow:Create CheckpointSaverHook.\n",
      "INFO:tensorflow:Graph was finalized.\n",
      "INFO:tensorflow:Running local_init_op.\n",
      "INFO:tensorflow:Done running local_init_op.\n",
      "WARNING:tensorflow:From d:\\programs\\python\\lib\\site-packages\\tensorflow\\python\\training\\monitored_session.py:809: start_queue_runners (from tensorflow.python.training.queue_runner_impl) is deprecated and will be removed in a future version.\n",
      "Instructions for updating:\n",
      "To construct input pipelines, use the `tf.data` module.\n",
      "INFO:tensorflow:Saving checkpoints for 0 into C:\\Users\\Suzuka\\AppData\\Local\\Temp\\tmprmxi5ba6\\model.ckpt.\n",
      "INFO:tensorflow:loss = 6.931472, step = 1\n",
      "INFO:tensorflow:global_step/sec: 486.787\n",
      "INFO:tensorflow:loss = 7.7633505, step = 101 (0.206 sec)\n",
      "INFO:tensorflow:global_step/sec: 895.249\n",
      "INFO:tensorflow:loss = 8.326035, step = 201 (0.113 sec)\n",
      "INFO:tensorflow:global_step/sec: 919.6\n",
      "INFO:tensorflow:loss = 7.9136724, step = 301 (0.108 sec)\n",
      "INFO:tensorflow:global_step/sec: 857.224\n",
      "INFO:tensorflow:loss = 6.198177, step = 401 (0.118 sec)\n",
      "INFO:tensorflow:global_step/sec: 856.795\n",
      "INFO:tensorflow:loss = 6.8137465, step = 501 (0.117 sec)\n",
      "INFO:tensorflow:global_step/sec: 871.797\n",
      "INFO:tensorflow:loss = 6.7231193, step = 601 (0.117 sec)\n",
      "INFO:tensorflow:global_step/sec: 835.602\n",
      "INFO:tensorflow:loss = 5.607688, step = 701 (0.118 sec)\n",
      "INFO:tensorflow:global_step/sec: 822.08\n",
      "INFO:tensorflow:loss = 7.4506874, step = 801 (0.124 sec)\n",
      "INFO:tensorflow:global_step/sec: 771.285\n",
      "INFO:tensorflow:loss = 4.050132, step = 901 (0.128 sec)\n",
      "INFO:tensorflow:Saving checkpoints for 1000 into C:\\Users\\Suzuka\\AppData\\Local\\Temp\\tmprmxi5ba6\\model.ckpt.\n",
      "INFO:tensorflow:Loss for final step: 5.4808836.\n"
     ]
    },
    {
     "data": {
      "text/plain": [
       "<tensorflow_estimator.python.estimator.canned.linear.LinearClassifier at 0x1fdbb82a630>"
      ]
     },
     "execution_count": 87,
     "metadata": {},
     "output_type": "execute_result"
    }
   ],
   "source": [
    "# train the model\n",
    "model.train(input_fn = input_func,steps = 1000 )"
   ]
  },
  {
   "cell_type": "code",
   "execution_count": 102,
   "metadata": {},
   "outputs": [
    {
     "name": "stdout",
     "output_type": "stream",
     "text": [
      "INFO:tensorflow:Calling model_fn.\n",
      "WARNING:tensorflow:Trapezoidal rule is known to produce incorrect PR-AUCs; please switch to \"careful_interpolation\" instead.\n",
      "WARNING:tensorflow:Trapezoidal rule is known to produce incorrect PR-AUCs; please switch to \"careful_interpolation\" instead.\n",
      "INFO:tensorflow:Done calling model_fn.\n",
      "INFO:tensorflow:Starting evaluation at 2019-03-11T06:20:03Z\n",
      "INFO:tensorflow:Graph was finalized.\n",
      "INFO:tensorflow:Restoring parameters from C:\\Users\\Suzuka\\AppData\\Local\\Temp\\tmprmxi5ba6\\model.ckpt-1000\n",
      "INFO:tensorflow:Running local_init_op.\n",
      "INFO:tensorflow:Done running local_init_op.\n",
      "INFO:tensorflow:Finished evaluation at 2019-03-11-06:20:04\n",
      "INFO:tensorflow:Saving dict for global step 1000: accuracy = 0.72727275, accuracy_baseline = 0.64935064, auc = 0.7626749, auc_precision_recall = 0.6024054, average_loss = 0.58172417, global_step = 1000, label/mean = 0.35064936, loss = 5.599095, precision = 0.6551724, prediction/mean = 0.41112676, recall = 0.4691358\n",
      "INFO:tensorflow:Saving 'checkpoint_path' summary for global step 1000: C:\\Users\\Suzuka\\AppData\\Local\\Temp\\tmprmxi5ba6\\model.ckpt-1000\n",
      "{'accuracy': 0.72727275, 'accuracy_baseline': 0.64935064, 'auc': 0.7626749, 'auc_precision_recall': 0.6024054, 'average_loss': 0.58172417, 'label/mean': 0.35064936, 'loss': 5.599095, 'precision': 0.6551724, 'prediction/mean': 0.41112676, 'recall': 0.4691358, 'global_step': 1000}\n"
     ]
    }
   ],
   "source": [
    "eval_input_func= tf.estimator.inputs.pandas_input_fn(x=X_test,y=y_test,batch_size=10,num_epochs=1,shuffle=False)\n",
    "results = model.evaluate(eval_input_func)\n",
    "print(results)"
   ]
  },
  {
   "cell_type": "code",
   "execution_count": 94,
   "metadata": {},
   "outputs": [
    {
     "name": "stdout",
     "output_type": "stream",
     "text": [
      "INFO:tensorflow:Calling model_fn.\n",
      "INFO:tensorflow:Done calling model_fn.\n",
      "INFO:tensorflow:Graph was finalized.\n",
      "INFO:tensorflow:Restoring parameters from C:\\Users\\Suzuka\\AppData\\Local\\Temp\\tmprmxi5ba6\\model.ckpt-1000\n",
      "INFO:tensorflow:Running local_init_op.\n",
      "INFO:tensorflow:Done running local_init_op.\n",
      "[{'logits': array([-0.59221375], dtype=float32), 'logistic': array([0.35612708], dtype=float32), 'probabilities': array([0.6438729 , 0.35612705], dtype=float32), 'class_ids': array([0], dtype=int64), 'classes': array([b'0'], dtype=object)}, {'logits': array([0.03380275], dtype=float32), 'logistic': array([0.50844985], dtype=float32), 'probabilities': array([0.4915501 , 0.50844985], dtype=float32), 'class_ids': array([1], dtype=int64), 'classes': array([b'1'], dtype=object)}, {'logits': array([-0.42814505], dtype=float32), 'logistic': array([0.39456937], dtype=float32), 'probabilities': array([0.6054306 , 0.39456934], dtype=float32), 'class_ids': array([0], dtype=int64), 'classes': array([b'0'], dtype=object)}, {'logits': array([-0.6249351], dtype=float32), 'logistic': array([0.34865987], dtype=float32), 'probabilities': array([0.6513401, 0.3486599], dtype=float32), 'class_ids': array([0], dtype=int64), 'classes': array([b'0'], dtype=object)}, {'logits': array([-0.9796001], dtype=float32), 'logistic': array([0.27297115], dtype=float32), 'probabilities': array([0.72702885, 0.27297112], dtype=float32), 'class_ids': array([0], dtype=int64), 'classes': array([b'0'], dtype=object)}, {'logits': array([0.25745106], dtype=float32), 'logistic': array([0.5640096], dtype=float32), 'probabilities': array([0.4359904, 0.5640096], dtype=float32), 'class_ids': array([1], dtype=int64), 'classes': array([b'1'], dtype=object)}, {'logits': array([-0.22637224], dtype=float32), 'logistic': array([0.44364738], dtype=float32), 'probabilities': array([0.5563526 , 0.44364738], dtype=float32), 'class_ids': array([0], dtype=int64), 'classes': array([b'0'], dtype=object)}, {'logits': array([-1.0082974], dtype=float32), 'logistic': array([0.26731318], dtype=float32), 'probabilities': array([0.7326869 , 0.26731318], dtype=float32), 'class_ids': array([0], dtype=int64), 'classes': array([b'0'], dtype=object)}, {'logits': array([-0.9968949], dtype=float32), 'logistic': array([0.26955235], dtype=float32), 'probabilities': array([0.7304476 , 0.26955235], dtype=float32), 'class_ids': array([0], dtype=int64), 'classes': array([b'0'], dtype=object)}, {'logits': array([-0.19157803], dtype=float32), 'logistic': array([0.45225146], dtype=float32), 'probabilities': array([0.54774857, 0.45225146], dtype=float32), 'class_ids': array([0], dtype=int64), 'classes': array([b'0'], dtype=object)}, {'logits': array([-0.83979005], dtype=float32), 'logistic': array([0.30157903], dtype=float32), 'probabilities': array([0.698421, 0.301579], dtype=float32), 'class_ids': array([0], dtype=int64), 'classes': array([b'0'], dtype=object)}, {'logits': array([-0.4764136], dtype=float32), 'logistic': array([0.38309935], dtype=float32), 'probabilities': array([0.6169006 , 0.38309938], dtype=float32), 'class_ids': array([0], dtype=int64), 'classes': array([b'0'], dtype=object)}, {'logits': array([-0.6561385], dtype=float32), 'logistic': array([0.3416076], dtype=float32), 'probabilities': array([0.6583924, 0.3416076], dtype=float32), 'class_ids': array([0], dtype=int64), 'classes': array([b'0'], dtype=object)}, {'logits': array([0.31670892], dtype=float32), 'logistic': array([0.57852197], dtype=float32), 'probabilities': array([0.421478  , 0.57852197], dtype=float32), 'class_ids': array([1], dtype=int64), 'classes': array([b'1'], dtype=object)}, {'logits': array([-0.6489977], dtype=float32), 'logistic': array([0.34321547], dtype=float32), 'probabilities': array([0.65678453, 0.34321544], dtype=float32), 'class_ids': array([0], dtype=int64), 'classes': array([b'0'], dtype=object)}, {'logits': array([-0.24556804], dtype=float32), 'logistic': array([0.43891466], dtype=float32), 'probabilities': array([0.56108534, 0.43891466], dtype=float32), 'class_ids': array([0], dtype=int64), 'classes': array([b'0'], dtype=object)}, {'logits': array([0.00148499], dtype=float32), 'logistic': array([0.5003712], dtype=float32), 'probabilities': array([0.49962878, 0.5003713 ], dtype=float32), 'class_ids': array([1], dtype=int64), 'classes': array([b'1'], dtype=object)}, {'logits': array([-0.7383718], dtype=float32), 'logistic': array([0.32336032], dtype=float32), 'probabilities': array([0.6766397 , 0.32336026], dtype=float32), 'class_ids': array([0], dtype=int64), 'classes': array([b'0'], dtype=object)}, {'logits': array([-0.4362979], dtype=float32), 'logistic': array([0.39262348], dtype=float32), 'probabilities': array([0.6073765 , 0.39262345], dtype=float32), 'class_ids': array([0], dtype=int64), 'classes': array([b'0'], dtype=object)}, {'logits': array([-1.0078826], dtype=float32), 'logistic': array([0.26739445], dtype=float32), 'probabilities': array([0.7326056 , 0.26739445], dtype=float32), 'class_ids': array([0], dtype=int64), 'classes': array([b'0'], dtype=object)}, {'logits': array([-0.63106996], dtype=float32), 'logistic': array([0.347268], dtype=float32), 'probabilities': array([0.652732  , 0.34726796], dtype=float32), 'class_ids': array([0], dtype=int64), 'classes': array([b'0'], dtype=object)}, {'logits': array([-0.4562621], dtype=float32), 'logistic': array([0.38787293], dtype=float32), 'probabilities': array([0.61212707, 0.38787293], dtype=float32), 'class_ids': array([0], dtype=int64), 'classes': array([b'0'], dtype=object)}, {'logits': array([-0.48742568], dtype=float32), 'logistic': array([0.3805002], dtype=float32), 'probabilities': array([0.61949974, 0.38050017], dtype=float32), 'class_ids': array([0], dtype=int64), 'classes': array([b'0'], dtype=object)}, {'logits': array([-0.5264156], dtype=float32), 'logistic': array([0.37135327], dtype=float32), 'probabilities': array([0.62864673, 0.3713533 ], dtype=float32), 'class_ids': array([0], dtype=int64), 'classes': array([b'0'], dtype=object)}, {'logits': array([-0.819565], dtype=float32), 'logistic': array([0.30585602], dtype=float32), 'probabilities': array([0.694144  , 0.30585602], dtype=float32), 'class_ids': array([0], dtype=int64), 'classes': array([b'0'], dtype=object)}, {'logits': array([1.0148345], dtype=float32), 'logistic': array([0.7339652], dtype=float32), 'probabilities': array([0.26603478, 0.7339652 ], dtype=float32), 'class_ids': array([1], dtype=int64), 'classes': array([b'1'], dtype=object)}, {'logits': array([-0.78368014], dtype=float32), 'logistic': array([0.3135273], dtype=float32), 'probabilities': array([0.6864727 , 0.31352726], dtype=float32), 'class_ids': array([0], dtype=int64), 'classes': array([b'0'], dtype=object)}, {'logits': array([-0.40015256], dtype=float32), 'logistic': array([0.4012757], dtype=float32), 'probabilities': array([0.5987243 , 0.40127566], dtype=float32), 'class_ids': array([0], dtype=int64), 'classes': array([b'0'], dtype=object)}, {'logits': array([-1.1092987], dtype=float32), 'logistic': array([0.24800165], dtype=float32), 'probabilities': array([0.75199836, 0.24800165], dtype=float32), 'class_ids': array([0], dtype=int64), 'classes': array([b'0'], dtype=object)}, {'logits': array([0.13390112], dtype=float32), 'logistic': array([0.5334254], dtype=float32), 'probabilities': array([0.46657467, 0.5334254 ], dtype=float32), 'class_ids': array([1], dtype=int64), 'classes': array([b'1'], dtype=object)}, {'logits': array([1.7917627], dtype=float32), 'logistic': array([0.8571433], dtype=float32), 'probabilities': array([0.14285673, 0.8571432 ], dtype=float32), 'class_ids': array([1], dtype=int64), 'classes': array([b'1'], dtype=object)}, {'logits': array([-0.6088631], dtype=float32), 'logistic': array([0.35231858], dtype=float32), 'probabilities': array([0.6476814 , 0.35231858], dtype=float32), 'class_ids': array([0], dtype=int64), 'classes': array([b'0'], dtype=object)}, {'logits': array([-0.6071213], dtype=float32), 'logistic': array([0.35271618], dtype=float32), 'probabilities': array([0.6472838 , 0.35271612], dtype=float32), 'class_ids': array([0], dtype=int64), 'classes': array([b'0'], dtype=object)}, {'logits': array([0.46058834], dtype=float32), 'logistic': array([0.6131537], dtype=float32), 'probabilities': array([0.38684627, 0.61315376], dtype=float32), 'class_ids': array([1], dtype=int64), 'classes': array([b'1'], dtype=object)}, {'logits': array([-0.44908392], dtype=float32), 'logistic': array([0.38957858], dtype=float32), 'probabilities': array([0.6104214, 0.3895786], dtype=float32), 'class_ids': array([0], dtype=int64), 'classes': array([b'0'], dtype=object)}, {'logits': array([-0.25941932], dtype=float32), 'logistic': array([0.43550646], dtype=float32), 'probabilities': array([0.56449354, 0.43550646], dtype=float32), 'class_ids': array([0], dtype=int64), 'classes': array([b'0'], dtype=object)}, {'logits': array([-0.43280506], dtype=float32), 'logistic': array([0.3934567], dtype=float32), 'probabilities': array([0.6065433 , 0.39345673], dtype=float32), 'class_ids': array([0], dtype=int64), 'classes': array([b'0'], dtype=object)}, {'logits': array([0.31537044], dtype=float32), 'logistic': array([0.5781956], dtype=float32), 'probabilities': array([0.42180443, 0.5781956 ], dtype=float32), 'class_ids': array([1], dtype=int64), 'classes': array([b'1'], dtype=object)}, {'logits': array([0.53777444], dtype=float32), 'logistic': array([0.63129455], dtype=float32), 'probabilities': array([0.36870548, 0.63129455], dtype=float32), 'class_ids': array([1], dtype=int64), 'classes': array([b'1'], dtype=object)}, {'logits': array([-0.8838756], dtype=float32), 'logistic': array([0.2923753], dtype=float32), 'probabilities': array([0.70762473, 0.2923753 ], dtype=float32), 'class_ids': array([0], dtype=int64), 'classes': array([b'0'], dtype=object)}, {'logits': array([-0.6638335], dtype=float32), 'logistic': array([0.33987898], dtype=float32), 'probabilities': array([0.660121  , 0.33987904], dtype=float32), 'class_ids': array([0], dtype=int64), 'classes': array([b'0'], dtype=object)}, {'logits': array([0.4755057], dtype=float32), 'logistic': array([0.61668605], dtype=float32), 'probabilities': array([0.38331395, 0.61668605], dtype=float32), 'class_ids': array([1], dtype=int64), 'classes': array([b'1'], dtype=object)}, {'logits': array([-0.48690462], dtype=float32), 'logistic': array([0.38062304], dtype=float32), 'probabilities': array([0.61937696, 0.38062304], dtype=float32), 'class_ids': array([0], dtype=int64), 'classes': array([b'0'], dtype=object)}, {'logits': array([-0.41367304], dtype=float32), 'logistic': array([0.39803174], dtype=float32), 'probabilities': array([0.6019683, 0.3980317], dtype=float32), 'class_ids': array([0], dtype=int64), 'classes': array([b'0'], dtype=object)}, {'logits': array([-0.66541916], dtype=float32), 'logistic': array([0.33952332], dtype=float32), 'probabilities': array([0.6604767 , 0.33952332], dtype=float32), 'class_ids': array([0], dtype=int64), 'classes': array([b'0'], dtype=object)}, {'logits': array([-0.7337267], dtype=float32), 'logistic': array([0.32437748], dtype=float32), 'probabilities': array([0.6756226 , 0.32437748], dtype=float32), 'class_ids': array([0], dtype=int64), 'classes': array([b'0'], dtype=object)}, {'logits': array([-0.14896274], dtype=float32), 'logistic': array([0.46282804], dtype=float32), 'probabilities': array([0.53717196, 0.462828  ], dtype=float32), 'class_ids': array([0], dtype=int64), 'classes': array([b'0'], dtype=object)}, {'logits': array([-0.8197065], dtype=float32), 'logistic': array([0.30582598], dtype=float32), 'probabilities': array([0.69417405, 0.30582598], dtype=float32), 'class_ids': array([0], dtype=int64), 'classes': array([b'0'], dtype=object)}, {'logits': array([-0.8164481], dtype=float32), 'logistic': array([0.30651817], dtype=float32), 'probabilities': array([0.69348186, 0.30651817], dtype=float32), 'class_ids': array([0], dtype=int64), 'classes': array([b'0'], dtype=object)}, {'logits': array([-0.7275166], dtype=float32), 'logistic': array([0.32573995], dtype=float32), 'probabilities': array([0.67426   , 0.32573992], dtype=float32), 'class_ids': array([0], dtype=int64), 'classes': array([b'0'], dtype=object)}, {'logits': array([-1.0896947], dtype=float32), 'logistic': array([0.25167578], dtype=float32), 'probabilities': array([0.7483242 , 0.25167575], dtype=float32), 'class_ids': array([0], dtype=int64), 'classes': array([b'0'], dtype=object)}, {'logits': array([-0.349252], dtype=float32), 'logistic': array([0.41356385], dtype=float32), 'probabilities': array([0.58643615, 0.4135638 ], dtype=float32), 'class_ids': array([0], dtype=int64), 'classes': array([b'0'], dtype=object)}, {'logits': array([-0.75071275], dtype=float32), 'logistic': array([0.32066602], dtype=float32), 'probabilities': array([0.67933404, 0.32066604], dtype=float32), 'class_ids': array([0], dtype=int64), 'classes': array([b'0'], dtype=object)}, {'logits': array([-0.60434186], dtype=float32), 'logistic': array([0.353351], dtype=float32), 'probabilities': array([0.646649  , 0.35335097], dtype=float32), 'class_ids': array([0], dtype=int64), 'classes': array([b'0'], dtype=object)}, {'logits': array([-1.3452137], dtype=float32), 'logistic': array([0.20665395], dtype=float32), 'probabilities': array([0.79334605, 0.20665398], dtype=float32), 'class_ids': array([0], dtype=int64), 'classes': array([b'0'], dtype=object)}, {'logits': array([-0.8597202], dtype=float32), 'logistic': array([0.29739782], dtype=float32), 'probabilities': array([0.7026022 , 0.29739782], dtype=float32), 'class_ids': array([0], dtype=int64), 'classes': array([b'0'], dtype=object)}, {'logits': array([-0.5087352], dtype=float32), 'logistic': array([0.37549007], dtype=float32), 'probabilities': array([0.6245099 , 0.37549007], dtype=float32), 'class_ids': array([0], dtype=int64), 'classes': array([b'0'], dtype=object)}, {'logits': array([-0.81644017], dtype=float32), 'logistic': array([0.30651987], dtype=float32), 'probabilities': array([0.6934802 , 0.30651987], dtype=float32), 'class_ids': array([0], dtype=int64), 'classes': array([b'0'], dtype=object)}, {'logits': array([0.15058637], dtype=float32), 'logistic': array([0.5375756], dtype=float32), 'probabilities': array([0.4624244, 0.5375756], dtype=float32), 'class_ids': array([1], dtype=int64), 'classes': array([b'1'], dtype=object)}, {'logits': array([-1.2361932], dtype=float32), 'logistic': array([0.2250993], dtype=float32), 'probabilities': array([0.7749007 , 0.22509931], dtype=float32), 'class_ids': array([0], dtype=int64), 'classes': array([b'0'], dtype=object)}, {'logits': array([-0.2588551], dtype=float32), 'logistic': array([0.43564516], dtype=float32), 'probabilities': array([0.56435484, 0.43564516], dtype=float32), 'class_ids': array([0], dtype=int64), 'classes': array([b'0'], dtype=object)}, {'logits': array([0.6704103], dtype=float32), 'logistic': array([0.661595], dtype=float32), 'probabilities': array([0.33840498, 0.661595  ], dtype=float32), 'class_ids': array([1], dtype=int64), 'classes': array([b'1'], dtype=object)}, {'logits': array([0.07912862], dtype=float32), 'logistic': array([0.5197718], dtype=float32), 'probabilities': array([0.48022816, 0.5197718 ], dtype=float32), 'class_ids': array([1], dtype=int64), 'classes': array([b'1'], dtype=object)}, {'logits': array([-0.7324027], dtype=float32), 'logistic': array([0.3246677], dtype=float32), 'probabilities': array([0.6753323, 0.3246677], dtype=float32), 'class_ids': array([0], dtype=int64), 'classes': array([b'0'], dtype=object)}, {'logits': array([-0.36883497], dtype=float32), 'logistic': array([0.40882257], dtype=float32), 'probabilities': array([0.59117746, 0.4088226 ], dtype=float32), 'class_ids': array([0], dtype=int64), 'classes': array([b'0'], dtype=object)}, {'logits': array([-0.38485527], dtype=float32), 'logistic': array([0.4049564], dtype=float32), 'probabilities': array([0.5950436, 0.4049564], dtype=float32), 'class_ids': array([0], dtype=int64), 'classes': array([b'0'], dtype=object)}, {'logits': array([-0.9920135], dtype=float32), 'logistic': array([0.27051455], dtype=float32), 'probabilities': array([0.7294854 , 0.27051455], dtype=float32), 'class_ids': array([0], dtype=int64), 'classes': array([b'0'], dtype=object)}, {'logits': array([-0.8846146], dtype=float32), 'logistic': array([0.29222244], dtype=float32), 'probabilities': array([0.70777756, 0.29222244], dtype=float32), 'class_ids': array([0], dtype=int64), 'classes': array([b'0'], dtype=object)}, {'logits': array([-0.83967674], dtype=float32), 'logistic': array([0.30160287], dtype=float32), 'probabilities': array([0.69839716, 0.3016029 ], dtype=float32), 'class_ids': array([0], dtype=int64), 'classes': array([b'0'], dtype=object)}, {'logits': array([-0.78184426], dtype=float32), 'logistic': array([0.31392255], dtype=float32), 'probabilities': array([0.6860775 , 0.31392255], dtype=float32), 'class_ids': array([0], dtype=int64), 'classes': array([b'0'], dtype=object)}, {'logits': array([0.47114456], dtype=float32), 'logistic': array([0.6156546], dtype=float32), 'probabilities': array([0.38434535, 0.6156546 ], dtype=float32), 'class_ids': array([1], dtype=int64), 'classes': array([b'1'], dtype=object)}, {'logits': array([-0.5023202], dtype=float32), 'logistic': array([0.37699556], dtype=float32), 'probabilities': array([0.62300444, 0.3769956 ], dtype=float32), 'class_ids': array([0], dtype=int64), 'classes': array([b'0'], dtype=object)}, {'logits': array([-0.81567293], dtype=float32), 'logistic': array([0.30668294], dtype=float32), 'probabilities': array([0.69331706, 0.30668294], dtype=float32), 'class_ids': array([0], dtype=int64), 'classes': array([b'0'], dtype=object)}, {'logits': array([0.31446815], dtype=float32), 'logistic': array([0.5779755], dtype=float32), 'probabilities': array([0.4220245, 0.5779755], dtype=float32), 'class_ids': array([1], dtype=int64), 'classes': array([b'1'], dtype=object)}, {'logits': array([-0.361565], dtype=float32), 'logistic': array([0.41058078], dtype=float32), 'probabilities': array([0.58941925, 0.41058078], dtype=float32), 'class_ids': array([0], dtype=int64), 'classes': array([b'0'], dtype=object)}, {'logits': array([-0.15733135], dtype=float32), 'logistic': array([0.4607481], dtype=float32), 'probabilities': array([0.5392519, 0.4607481], dtype=float32), 'class_ids': array([0], dtype=int64), 'classes': array([b'0'], dtype=object)}, {'logits': array([-0.69700885], dtype=float32), 'logistic': array([0.33247575], dtype=float32), 'probabilities': array([0.6675243 , 0.33247575], dtype=float32), 'class_ids': array([0], dtype=int64), 'classes': array([b'0'], dtype=object)}, {'logits': array([0.30736923], dtype=float32), 'logistic': array([0.576243], dtype=float32), 'probabilities': array([0.423757, 0.576243], dtype=float32), 'class_ids': array([1], dtype=int64), 'classes': array([b'1'], dtype=object)}, {'logits': array([-1.214888], dtype=float32), 'logistic': array([0.22883733], dtype=float32), 'probabilities': array([0.7711627 , 0.22883731], dtype=float32), 'class_ids': array([0], dtype=int64), 'classes': array([b'0'], dtype=object)}, {'logits': array([-0.13029444], dtype=float32), 'logistic': array([0.4674724], dtype=float32), 'probabilities': array([0.5325276 , 0.46747243], dtype=float32), 'class_ids': array([0], dtype=int64), 'classes': array([b'0'], dtype=object)}, {'logits': array([0.15156925], dtype=float32), 'logistic': array([0.5378199], dtype=float32), 'probabilities': array([0.4621801, 0.53782  ], dtype=float32), 'class_ids': array([1], dtype=int64), 'classes': array([b'1'], dtype=object)}, {'logits': array([-0.81091064], dtype=float32), 'logistic': array([0.3076965], dtype=float32), 'probabilities': array([0.69230354, 0.3076965 ], dtype=float32), 'class_ids': array([0], dtype=int64), 'classes': array([b'0'], dtype=object)}, {'logits': array([0.02624357], dtype=float32), 'logistic': array([0.5065605], dtype=float32), 'probabilities': array([0.49343947, 0.5065605 ], dtype=float32), 'class_ids': array([1], dtype=int64), 'classes': array([b'1'], dtype=object)}, {'logits': array([-0.06049871], dtype=float32), 'logistic': array([0.48487994], dtype=float32), 'probabilities': array([0.5151201 , 0.48487994], dtype=float32), 'class_ids': array([0], dtype=int64), 'classes': array([b'0'], dtype=object)}, {'logits': array([0.06071317], dtype=float32), 'logistic': array([0.5151736], dtype=float32), 'probabilities': array([0.48482636, 0.5151736 ], dtype=float32), 'class_ids': array([1], dtype=int64), 'classes': array([b'1'], dtype=object)}, {'logits': array([-0.6689074], dtype=float32), 'logistic': array([0.33874154], dtype=float32), 'probabilities': array([0.66125846, 0.3387415 ], dtype=float32), 'class_ids': array([0], dtype=int64), 'classes': array([b'0'], dtype=object)}, {'logits': array([0.45816386], dtype=float32), 'logistic': array([0.6125785], dtype=float32), 'probabilities': array([0.38742146, 0.61257845], dtype=float32), 'class_ids': array([1], dtype=int64), 'classes': array([b'1'], dtype=object)}, {'logits': array([-0.3815124], dtype=float32), 'logistic': array([0.4057622], dtype=float32), 'probabilities': array([0.5942378, 0.4057622], dtype=float32), 'class_ids': array([0], dtype=int64), 'classes': array([b'0'], dtype=object)}, {'logits': array([0.4103371], dtype=float32), 'logistic': array([0.6011687], dtype=float32), 'probabilities': array([0.39883128, 0.6011687 ], dtype=float32), 'class_ids': array([1], dtype=int64), 'classes': array([b'1'], dtype=object)}, {'logits': array([0.2929337], dtype=float32), 'logistic': array([0.5727142], dtype=float32), 'probabilities': array([0.4272858, 0.5727142], dtype=float32), 'class_ids': array([1], dtype=int64), 'classes': array([b'1'], dtype=object)}, {'logits': array([0.20954883], dtype=float32), 'logistic': array([0.5521963], dtype=float32), 'probabilities': array([0.44780362, 0.5521963 ], dtype=float32), 'class_ids': array([1], dtype=int64), 'classes': array([b'1'], dtype=object)}, {'logits': array([-0.49674487], dtype=float32), 'logistic': array([0.37830594], dtype=float32), 'probabilities': array([0.621694  , 0.37830594], dtype=float32), 'class_ids': array([0], dtype=int64), 'classes': array([b'0'], dtype=object)}, {'logits': array([0.38648045], dtype=float32), 'logistic': array([0.59543514], dtype=float32), 'probabilities': array([0.40456486, 0.59543514], dtype=float32), 'class_ids': array([1], dtype=int64), 'classes': array([b'1'], dtype=object)}, {'logits': array([-0.45687294], dtype=float32), 'logistic': array([0.38772792], dtype=float32), 'probabilities': array([0.61227214, 0.38772795], dtype=float32), 'class_ids': array([0], dtype=int64), 'classes': array([b'0'], dtype=object)}, {'logits': array([-0.8159979], dtype=float32), 'logistic': array([0.30661386], dtype=float32), 'probabilities': array([0.69338614, 0.30661383], dtype=float32), 'class_ids': array([0], dtype=int64), 'classes': array([b'0'], dtype=object)}, {'logits': array([-0.97300446], dtype=float32), 'logistic': array([0.27428207], dtype=float32), 'probabilities': array([0.72571796, 0.27428207], dtype=float32), 'class_ids': array([0], dtype=int64), 'classes': array([b'0'], dtype=object)}, {'logits': array([-0.86038274], dtype=float32), 'logistic': array([0.2972594], dtype=float32), 'probabilities': array([0.70274067, 0.29725942], dtype=float32), 'class_ids': array([0], dtype=int64), 'classes': array([b'0'], dtype=object)}, {'logits': array([-0.735782], dtype=float32), 'logistic': array([0.32392722], dtype=float32), 'probabilities': array([0.67607284, 0.3239272 ], dtype=float32), 'class_ids': array([0], dtype=int64), 'classes': array([b'0'], dtype=object)}, {'logits': array([0.18304276], dtype=float32), 'logistic': array([0.5456334], dtype=float32), 'probabilities': array([0.45436668, 0.5456334 ], dtype=float32), 'class_ids': array([1], dtype=int64), 'classes': array([b'1'], dtype=object)}, {'logits': array([0.35395777], dtype=float32), 'logistic': array([0.58757704], dtype=float32), 'probabilities': array([0.412423  , 0.58757704], dtype=float32), 'class_ids': array([1], dtype=int64), 'classes': array([b'1'], dtype=object)}, {'logits': array([-0.69622505], dtype=float32), 'logistic': array([0.3326497], dtype=float32), 'probabilities': array([0.6673503, 0.3326497], dtype=float32), 'class_ids': array([0], dtype=int64), 'classes': array([b'0'], dtype=object)}, {'logits': array([-0.88726807], dtype=float32), 'logistic': array([0.29167396], dtype=float32), 'probabilities': array([0.7083261 , 0.29167393], dtype=float32), 'class_ids': array([0], dtype=int64), 'classes': array([b'0'], dtype=object)}, {'logits': array([-0.6553823], dtype=float32), 'logistic': array([0.34177768], dtype=float32), 'probabilities': array([0.6582223 , 0.34177768], dtype=float32), 'class_ids': array([0], dtype=int64), 'classes': array([b'0'], dtype=object)}, {'logits': array([-0.76982003], dtype=float32), 'logistic': array([0.31651807], dtype=float32), 'probabilities': array([0.683482  , 0.31651807], dtype=float32), 'class_ids': array([0], dtype=int64), 'classes': array([b'0'], dtype=object)}, {'logits': array([-0.81777644], dtype=float32), 'logistic': array([0.30623585], dtype=float32), 'probabilities': array([0.69376415, 0.30623585], dtype=float32), 'class_ids': array([0], dtype=int64), 'classes': array([b'0'], dtype=object)}, {'logits': array([-1.1383692], dtype=float32), 'logistic': array([0.24261993], dtype=float32), 'probabilities': array([0.7573801, 0.2426199], dtype=float32), 'class_ids': array([0], dtype=int64), 'classes': array([b'0'], dtype=object)}, {'logits': array([-0.11368954], dtype=float32), 'logistic': array([0.4716082], dtype=float32), 'probabilities': array([0.52839184, 0.47160822], dtype=float32), 'class_ids': array([0], dtype=int64), 'classes': array([b'0'], dtype=object)}, {'logits': array([0.42199886], dtype=float32), 'logistic': array([0.60396147], dtype=float32), 'probabilities': array([0.39603853, 0.60396147], dtype=float32), 'class_ids': array([1], dtype=int64), 'classes': array([b'1'], dtype=object)}, {'logits': array([-0.7839704], dtype=float32), 'logistic': array([0.31346482], dtype=float32), 'probabilities': array([0.6865352, 0.3134648], dtype=float32), 'class_ids': array([0], dtype=int64), 'classes': array([b'0'], dtype=object)}, {'logits': array([-1.172326], dtype=float32), 'logistic': array([0.23643482], dtype=float32), 'probabilities': array([0.7635652 , 0.23643482], dtype=float32), 'class_ids': array([0], dtype=int64), 'classes': array([b'0'], dtype=object)}, {'logits': array([0.6783439], dtype=float32), 'logistic': array([0.66336894], dtype=float32), 'probabilities': array([0.33663103, 0.66336894], dtype=float32), 'class_ids': array([1], dtype=int64), 'classes': array([b'1'], dtype=object)}, {'logits': array([-0.9688817], dtype=float32), 'logistic': array([0.27510345], dtype=float32), 'probabilities': array([0.72489655, 0.27510345], dtype=float32), 'class_ids': array([0], dtype=int64), 'classes': array([b'0'], dtype=object)}, {'logits': array([-0.80563116], dtype=float32), 'logistic': array([0.30882227], dtype=float32), 'probabilities': array([0.6911777 , 0.30882224], dtype=float32), 'class_ids': array([0], dtype=int64), 'classes': array([b'0'], dtype=object)}, {'logits': array([-0.5998662], dtype=float32), 'logistic': array([0.3543743], dtype=float32), 'probabilities': array([0.64562565, 0.35437426], dtype=float32), 'class_ids': array([0], dtype=int64), 'classes': array([b'0'], dtype=object)}, {'logits': array([0.25414884], dtype=float32), 'logistic': array([0.5631974], dtype=float32), 'probabilities': array([0.43680263, 0.56319743], dtype=float32), 'class_ids': array([1], dtype=int64), 'classes': array([b'1'], dtype=object)}, {'logits': array([0.30870473], dtype=float32), 'logistic': array([0.5765691], dtype=float32), 'probabilities': array([0.4234309, 0.576569 ], dtype=float32), 'class_ids': array([1], dtype=int64), 'classes': array([b'1'], dtype=object)}, {'logits': array([-0.7014583], dtype=float32), 'logistic': array([0.331489], dtype=float32), 'probabilities': array([0.66851103, 0.331489  ], dtype=float32), 'class_ids': array([0], dtype=int64), 'classes': array([b'0'], dtype=object)}, {'logits': array([-0.5762677], dtype=float32), 'logistic': array([0.35979187], dtype=float32), 'probabilities': array([0.6402082 , 0.35979187], dtype=float32), 'class_ids': array([0], dtype=int64), 'classes': array([b'0'], dtype=object)}, {'logits': array([-0.7871371], dtype=float32), 'logistic': array([0.31278372], dtype=float32), 'probabilities': array([0.6872163 , 0.31278372], dtype=float32), 'class_ids': array([0], dtype=int64), 'classes': array([b'0'], dtype=object)}, {'logits': array([-0.48053157], dtype=float32), 'logistic': array([0.3821266], dtype=float32), 'probabilities': array([0.6178734, 0.3821266], dtype=float32), 'class_ids': array([0], dtype=int64), 'classes': array([b'0'], dtype=object)}, {'logits': array([0.2462722], dtype=float32), 'logistic': array([0.56125873], dtype=float32), 'probabilities': array([0.43874124, 0.56125873], dtype=float32), 'class_ids': array([1], dtype=int64), 'classes': array([b'1'], dtype=object)}, {'logits': array([0.18782997], dtype=float32), 'logistic': array([0.5468199], dtype=float32), 'probabilities': array([0.45318007, 0.5468199 ], dtype=float32), 'class_ids': array([1], dtype=int64), 'classes': array([b'1'], dtype=object)}, {'logits': array([-1.1293123], dtype=float32), 'logistic': array([0.24428803], dtype=float32), 'probabilities': array([0.7557119 , 0.24428801], dtype=float32), 'class_ids': array([0], dtype=int64), 'classes': array([b'0'], dtype=object)}, {'logits': array([-0.5958413], dtype=float32), 'logistic': array([0.35529572], dtype=float32), 'probabilities': array([0.6447042, 0.3552957], dtype=float32), 'class_ids': array([0], dtype=int64), 'classes': array([b'0'], dtype=object)}, {'logits': array([0.40193343], dtype=float32), 'logistic': array([0.5991521], dtype=float32), 'probabilities': array([0.4008479, 0.5991521], dtype=float32), 'class_ids': array([1], dtype=int64), 'classes': array([b'1'], dtype=object)}, {'logits': array([-0.4458053], dtype=float32), 'logistic': array([0.39035857], dtype=float32), 'probabilities': array([0.6096415, 0.3903586], dtype=float32), 'class_ids': array([0], dtype=int64), 'classes': array([b'0'], dtype=object)}, {'logits': array([-0.5834957], dtype=float32), 'logistic': array([0.35812864], dtype=float32), 'probabilities': array([0.6418714 , 0.35812864], dtype=float32), 'class_ids': array([0], dtype=int64), 'classes': array([b'0'], dtype=object)}, {'logits': array([0.5358516], dtype=float32), 'logistic': array([0.63084686], dtype=float32), 'probabilities': array([0.3691531 , 0.63084686], dtype=float32), 'class_ids': array([1], dtype=int64), 'classes': array([b'1'], dtype=object)}, {'logits': array([0.12760794], dtype=float32), 'logistic': array([0.53185874], dtype=float32), 'probabilities': array([0.46814123, 0.53185874], dtype=float32), 'class_ids': array([1], dtype=int64), 'classes': array([b'1'], dtype=object)}, {'logits': array([-0.8329393], dtype=float32), 'logistic': array([0.3030239], dtype=float32), 'probabilities': array([0.69697607, 0.30302393], dtype=float32), 'class_ids': array([0], dtype=int64), 'classes': array([b'0'], dtype=object)}, {'logits': array([-1.100157], dtype=float32), 'logistic': array([0.2497105], dtype=float32), 'probabilities': array([0.75028956, 0.24971047], dtype=float32), 'class_ids': array([0], dtype=int64), 'classes': array([b'0'], dtype=object)}, {'logits': array([-0.35784698], dtype=float32), 'logistic': array([0.41148087], dtype=float32), 'probabilities': array([0.5885191, 0.4114808], dtype=float32), 'class_ids': array([0], dtype=int64), 'classes': array([b'0'], dtype=object)}, {'logits': array([-0.16198158], dtype=float32), 'logistic': array([0.4595929], dtype=float32), 'probabilities': array([0.5404071 , 0.45959294], dtype=float32), 'class_ids': array([0], dtype=int64), 'classes': array([b'0'], dtype=object)}, {'logits': array([0.13213325], dtype=float32), 'logistic': array([0.5329853], dtype=float32), 'probabilities': array([0.46701464, 0.5329853 ], dtype=float32), 'class_ids': array([1], dtype=int64), 'classes': array([b'1'], dtype=object)}, {'logits': array([-0.71853626], dtype=float32), 'logistic': array([0.3277154], dtype=float32), 'probabilities': array([0.6722846, 0.3277154], dtype=float32), 'class_ids': array([0], dtype=int64), 'classes': array([b'0'], dtype=object)}, {'logits': array([-0.79921985], dtype=float32), 'logistic': array([0.3101924], dtype=float32), 'probabilities': array([0.6898076 , 0.31019244], dtype=float32), 'class_ids': array([0], dtype=int64), 'classes': array([b'0'], dtype=object)}, {'logits': array([-0.12373257], dtype=float32), 'logistic': array([0.46910626], dtype=float32), 'probabilities': array([0.53089374, 0.46910626], dtype=float32), 'class_ids': array([0], dtype=int64), 'classes': array([b'0'], dtype=object)}, {'logits': array([-0.65733886], dtype=float32), 'logistic': array([0.34133768], dtype=float32), 'probabilities': array([0.6586624 , 0.34133768], dtype=float32), 'class_ids': array([0], dtype=int64), 'classes': array([b'0'], dtype=object)}, {'logits': array([-1.00173], dtype=float32), 'logistic': array([0.26860142], dtype=float32), 'probabilities': array([0.7313986 , 0.26860142], dtype=float32), 'class_ids': array([0], dtype=int64), 'classes': array([b'0'], dtype=object)}, {'logits': array([-0.79627], dtype=float32), 'logistic': array([0.31082398], dtype=float32), 'probabilities': array([0.689176  , 0.31082395], dtype=float32), 'class_ids': array([0], dtype=int64), 'classes': array([b'0'], dtype=object)}, {'logits': array([-1.0111506], dtype=float32), 'logistic': array([0.26675475], dtype=float32), 'probabilities': array([0.73324525, 0.26675475], dtype=float32), 'class_ids': array([0], dtype=int64), 'classes': array([b'0'], dtype=object)}, {'logits': array([-0.06731939], dtype=float32), 'logistic': array([0.4831765], dtype=float32), 'probabilities': array([0.51682353, 0.48317653], dtype=float32), 'class_ids': array([0], dtype=int64), 'classes': array([b'0'], dtype=object)}, {'logits': array([0.87324345], dtype=float32), 'logistic': array([0.70542014], dtype=float32), 'probabilities': array([0.29457986, 0.70542014], dtype=float32), 'class_ids': array([1], dtype=int64), 'classes': array([b'1'], dtype=object)}, {'logits': array([0.5567974], dtype=float32), 'logistic': array([0.6357112], dtype=float32), 'probabilities': array([0.36428878, 0.63571113], dtype=float32), 'class_ids': array([1], dtype=int64), 'classes': array([b'1'], dtype=object)}, {'logits': array([-0.16132605], dtype=float32), 'logistic': array([0.45975575], dtype=float32), 'probabilities': array([0.5402442, 0.4597557], dtype=float32), 'class_ids': array([0], dtype=int64), 'classes': array([b'0'], dtype=object)}, {'logits': array([-0.04680645], dtype=float32), 'logistic': array([0.48830053], dtype=float32), 'probabilities': array([0.5116995 , 0.48830056], dtype=float32), 'class_ids': array([0], dtype=int64), 'classes': array([b'0'], dtype=object)}, {'logits': array([0.40855277], dtype=float32), 'logistic': array([0.6007408], dtype=float32), 'probabilities': array([0.3992592 , 0.60074085], dtype=float32), 'class_ids': array([1], dtype=int64), 'classes': array([b'1'], dtype=object)}, {'logits': array([-1.2178931], dtype=float32), 'logistic': array([0.22830746], dtype=float32), 'probabilities': array([0.7716925 , 0.22830743], dtype=float32), 'class_ids': array([0], dtype=int64), 'classes': array([b'0'], dtype=object)}, {'logits': array([-0.5113002], dtype=float32), 'logistic': array([0.37488878], dtype=float32), 'probabilities': array([0.6251113, 0.3748888], dtype=float32), 'class_ids': array([0], dtype=int64), 'classes': array([b'0'], dtype=object)}, {'logits': array([0.3739326], dtype=float32), 'logistic': array([0.5924089], dtype=float32), 'probabilities': array([0.4075911, 0.5924089], dtype=float32), 'class_ids': array([1], dtype=int64), 'classes': array([b'1'], dtype=object)}, {'logits': array([0.12386191], dtype=float32), 'logistic': array([0.5309259], dtype=float32), 'probabilities': array([0.46907407, 0.530926  ], dtype=float32), 'class_ids': array([1], dtype=int64), 'classes': array([b'1'], dtype=object)}, {'logits': array([-0.03812313], dtype=float32), 'logistic': array([0.49047038], dtype=float32), 'probabilities': array([0.50952965, 0.49047038], dtype=float32), 'class_ids': array([0], dtype=int64), 'classes': array([b'0'], dtype=object)}, {'logits': array([-0.3291813], dtype=float32), 'logistic': array([0.41843984], dtype=float32), 'probabilities': array([0.58156013, 0.41843984], dtype=float32), 'class_ids': array([0], dtype=int64), 'classes': array([b'0'], dtype=object)}, {'logits': array([0.6991221], dtype=float32), 'logistic': array([0.66799307], dtype=float32), 'probabilities': array([0.33200693, 0.6679931 ], dtype=float32), 'class_ids': array([1], dtype=int64), 'classes': array([b'1'], dtype=object)}, {'logits': array([-0.5822463], dtype=float32), 'logistic': array([0.3584159], dtype=float32), 'probabilities': array([0.6415841 , 0.35841587], dtype=float32), 'class_ids': array([0], dtype=int64), 'classes': array([b'0'], dtype=object)}, {'logits': array([0.01426232], dtype=float32), 'logistic': array([0.5035655], dtype=float32), 'probabilities': array([0.4964345 , 0.50356555], dtype=float32), 'class_ids': array([1], dtype=int64), 'classes': array([b'1'], dtype=object)}, {'logits': array([-0.61226207], dtype=float32), 'logistic': array([0.35154337], dtype=float32), 'probabilities': array([0.6484567 , 0.35154337], dtype=float32), 'class_ids': array([0], dtype=int64), 'classes': array([b'0'], dtype=object)}, {'logits': array([-0.0068053], dtype=float32), 'logistic': array([0.49829867], dtype=float32), 'probabilities': array([0.5017013 , 0.49829867], dtype=float32), 'class_ids': array([0], dtype=int64), 'classes': array([b'0'], dtype=object)}, {'logits': array([-0.97421384], dtype=float32), 'logistic': array([0.27404138], dtype=float32), 'probabilities': array([0.72595865, 0.2740414 ], dtype=float32), 'class_ids': array([0], dtype=int64), 'classes': array([b'0'], dtype=object)}, {'logits': array([-1.0919114], dtype=float32), 'logistic': array([0.25125852], dtype=float32), 'probabilities': array([0.7487415 , 0.25125852], dtype=float32), 'class_ids': array([0], dtype=int64), 'classes': array([b'0'], dtype=object)}, {'logits': array([-0.5720958], dtype=float32), 'logistic': array([0.3607534], dtype=float32), 'probabilities': array([0.63924664, 0.36075336], dtype=float32), 'class_ids': array([0], dtype=int64), 'classes': array([b'0'], dtype=object)}, {'logits': array([-0.56176984], dtype=float32), 'logistic': array([0.36313808], dtype=float32), 'probabilities': array([0.6368619 , 0.36313805], dtype=float32), 'class_ids': array([0], dtype=int64), 'classes': array([b'0'], dtype=object)}, {'logits': array([-0.9420284], dtype=float32), 'logistic': array([0.2804908], dtype=float32), 'probabilities': array([0.7195092, 0.2804908], dtype=float32), 'class_ids': array([0], dtype=int64), 'classes': array([b'0'], dtype=object)}, {'logits': array([0.0999614], dtype=float32), 'logistic': array([0.5249696], dtype=float32), 'probabilities': array([0.4750304, 0.5249695], dtype=float32), 'class_ids': array([1], dtype=int64), 'classes': array([b'1'], dtype=object)}, {'logits': array([-0.90033275], dtype=float32), 'logistic': array([0.28898215], dtype=float32), 'probabilities': array([0.71101785, 0.2889821 ], dtype=float32), 'class_ids': array([0], dtype=int64), 'classes': array([b'0'], dtype=object)}, {'logits': array([-0.17165244], dtype=float32), 'logistic': array([0.45719194], dtype=float32), 'probabilities': array([0.54280806, 0.45719194], dtype=float32), 'class_ids': array([0], dtype=int64), 'classes': array([b'0'], dtype=object)}, {'logits': array([-0.9353029], dtype=float32), 'logistic': array([0.28185013], dtype=float32), 'probabilities': array([0.71814984, 0.2818501 ], dtype=float32), 'class_ids': array([0], dtype=int64), 'classes': array([b'0'], dtype=object)}, {'logits': array([0.323089], dtype=float32), 'logistic': array([0.5800769], dtype=float32), 'probabilities': array([0.4199231, 0.5800769], dtype=float32), 'class_ids': array([1], dtype=int64), 'classes': array([b'1'], dtype=object)}, {'logits': array([-0.02767861], dtype=float32), 'logistic': array([0.4930808], dtype=float32), 'probabilities': array([0.5069192, 0.4930808], dtype=float32), 'class_ids': array([0], dtype=int64), 'classes': array([b'0'], dtype=object)}, {'logits': array([-1.0160763], dtype=float32), 'logistic': array([0.26579237], dtype=float32), 'probabilities': array([0.7342076 , 0.26579237], dtype=float32), 'class_ids': array([0], dtype=int64), 'classes': array([b'0'], dtype=object)}, {'logits': array([-0.55296654], dtype=float32), 'logistic': array([0.36517644], dtype=float32), 'probabilities': array([0.63482356, 0.3651764 ], dtype=float32), 'class_ids': array([0], dtype=int64), 'classes': array([b'0'], dtype=object)}, {'logits': array([-0.70664483], dtype=float32), 'logistic': array([0.33034065], dtype=float32), 'probabilities': array([0.6696594 , 0.33034062], dtype=float32), 'class_ids': array([0], dtype=int64), 'classes': array([b'0'], dtype=object)}, {'logits': array([-0.7505358], dtype=float32), 'logistic': array([0.32070458], dtype=float32), 'probabilities': array([0.6792955 , 0.32070458], dtype=float32), 'class_ids': array([0], dtype=int64), 'classes': array([b'0'], dtype=object)}, {'logits': array([0.42544103], dtype=float32), 'logistic': array([0.6047845], dtype=float32), 'probabilities': array([0.39521545, 0.6047845 ], dtype=float32), 'class_ids': array([1], dtype=int64), 'classes': array([b'1'], dtype=object)}, {'logits': array([-0.23723435], dtype=float32), 'logistic': array([0.440968], dtype=float32), 'probabilities': array([0.55903196, 0.440968  ], dtype=float32), 'class_ids': array([0], dtype=int64), 'classes': array([b'0'], dtype=object)}, {'logits': array([-0.90502506], dtype=float32), 'logistic': array([0.28801894], dtype=float32), 'probabilities': array([0.71198106, 0.28801894], dtype=float32), 'class_ids': array([0], dtype=int64), 'classes': array([b'0'], dtype=object)}, {'logits': array([-0.88589275], dtype=float32), 'logistic': array([0.29195815], dtype=float32), 'probabilities': array([0.70804185, 0.29195815], dtype=float32), 'class_ids': array([0], dtype=int64), 'classes': array([b'0'], dtype=object)}, {'logits': array([-0.6254016], dtype=float32), 'logistic': array([0.34855396], dtype=float32), 'probabilities': array([0.65144604, 0.34855393], dtype=float32), 'class_ids': array([0], dtype=int64), 'classes': array([b'0'], dtype=object)}, {'logits': array([-0.0995295], dtype=float32), 'logistic': array([0.47513816], dtype=float32), 'probabilities': array([0.5248619 , 0.47513816], dtype=float32), 'class_ids': array([0], dtype=int64), 'classes': array([b'0'], dtype=object)}, {'logits': array([-1.286738], dtype=float32), 'logistic': array([0.21640544], dtype=float32), 'probabilities': array([0.7835946 , 0.21640545], dtype=float32), 'class_ids': array([0], dtype=int64), 'classes': array([b'0'], dtype=object)}, {'logits': array([0.5419694], dtype=float32), 'logistic': array([0.63227046], dtype=float32), 'probabilities': array([0.36772957, 0.6322704 ], dtype=float32), 'class_ids': array([1], dtype=int64), 'classes': array([b'1'], dtype=object)}, {'logits': array([0.05070889], dtype=float32), 'logistic': array([0.5126745], dtype=float32), 'probabilities': array([0.4873255, 0.5126745], dtype=float32), 'class_ids': array([1], dtype=int64), 'classes': array([b'1'], dtype=object)}, {'logits': array([0.16984427], dtype=float32), 'logistic': array([0.5423593], dtype=float32), 'probabilities': array([0.4576407, 0.5423593], dtype=float32), 'class_ids': array([1], dtype=int64), 'classes': array([b'1'], dtype=object)}, {'logits': array([0.536585], dtype=float32), 'logistic': array([0.6310176], dtype=float32), 'probabilities': array([0.36898237, 0.6310176 ], dtype=float32), 'class_ids': array([1], dtype=int64), 'classes': array([b'1'], dtype=object)}, {'logits': array([-0.588793], dtype=float32), 'logistic': array([0.35691184], dtype=float32), 'probabilities': array([0.64308816, 0.35691187], dtype=float32), 'class_ids': array([0], dtype=int64), 'classes': array([b'0'], dtype=object)}, {'logits': array([-0.9608477], dtype=float32), 'logistic': array([0.2767085], dtype=float32), 'probabilities': array([0.72329146, 0.27670848], dtype=float32), 'class_ids': array([0], dtype=int64), 'classes': array([b'0'], dtype=object)}, {'logits': array([-0.61283445], dtype=float32), 'logistic': array([0.3514129], dtype=float32), 'probabilities': array([0.6485871, 0.3514129], dtype=float32), 'class_ids': array([0], dtype=int64), 'classes': array([b'0'], dtype=object)}, {'logits': array([-0.08676422], dtype=float32), 'logistic': array([0.47832254], dtype=float32), 'probabilities': array([0.52167743, 0.4783225 ], dtype=float32), 'class_ids': array([0], dtype=int64), 'classes': array([b'0'], dtype=object)}, {'logits': array([-0.5409514], dtype=float32), 'logistic': array([0.3679663], dtype=float32), 'probabilities': array([0.6320337, 0.3679663], dtype=float32), 'class_ids': array([0], dtype=int64), 'classes': array([b'0'], dtype=object)}, {'logits': array([-0.1947453], dtype=float32), 'logistic': array([0.45146695], dtype=float32), 'probabilities': array([0.548533  , 0.45146695], dtype=float32), 'class_ids': array([0], dtype=int64), 'classes': array([b'0'], dtype=object)}, {'logits': array([-0.03331769], dtype=float32), 'logistic': array([0.49167135], dtype=float32), 'probabilities': array([0.5083286, 0.4916713], dtype=float32), 'class_ids': array([0], dtype=int64), 'classes': array([b'0'], dtype=object)}, {'logits': array([-0.3329091], dtype=float32), 'logistic': array([0.41753298], dtype=float32), 'probabilities': array([0.582467  , 0.41753298], dtype=float32), 'class_ids': array([0], dtype=int64), 'classes': array([b'0'], dtype=object)}, {'logits': array([-0.7570914], dtype=float32), 'logistic': array([0.3192781], dtype=float32), 'probabilities': array([0.6807219 , 0.31927806], dtype=float32), 'class_ids': array([0], dtype=int64), 'classes': array([b'0'], dtype=object)}, {'logits': array([-0.53877234], dtype=float32), 'logistic': array([0.36847323], dtype=float32), 'probabilities': array([0.63152677, 0.3684732 ], dtype=float32), 'class_ids': array([0], dtype=int64), 'classes': array([b'0'], dtype=object)}, {'logits': array([-1.0295608], dtype=float32), 'logistic': array([0.2631693], dtype=float32), 'probabilities': array([0.7368308 , 0.26316926], dtype=float32), 'class_ids': array([0], dtype=int64), 'classes': array([b'0'], dtype=object)}, {'logits': array([-0.02326548], dtype=float32), 'logistic': array([0.4941839], dtype=float32), 'probabilities': array([0.5058161, 0.4941839], dtype=float32), 'class_ids': array([0], dtype=int64), 'classes': array([b'0'], dtype=object)}, {'logits': array([-0.9639119], dtype=float32), 'logistic': array([0.27609566], dtype=float32), 'probabilities': array([0.7239044 , 0.27609566], dtype=float32), 'class_ids': array([0], dtype=int64), 'classes': array([b'0'], dtype=object)}, {'logits': array([-0.7265489], dtype=float32), 'logistic': array([0.32595253], dtype=float32), 'probabilities': array([0.67404747, 0.3259525 ], dtype=float32), 'class_ids': array([0], dtype=int64), 'classes': array([b'0'], dtype=object)}, {'logits': array([-0.82573956], dtype=float32), 'logistic': array([0.30454665], dtype=float32), 'probabilities': array([0.69545335, 0.30454668], dtype=float32), 'class_ids': array([0], dtype=int64), 'classes': array([b'0'], dtype=object)}, {'logits': array([-0.22259676], dtype=float32), 'logistic': array([0.44457945], dtype=float32), 'probabilities': array([0.5554205 , 0.44457945], dtype=float32), 'class_ids': array([0], dtype=int64), 'classes': array([b'0'], dtype=object)}, {'logits': array([-0.681101], dtype=float32), 'logistic': array([0.33601564], dtype=float32), 'probabilities': array([0.66398436, 0.3360156 ], dtype=float32), 'class_ids': array([0], dtype=int64), 'classes': array([b'0'], dtype=object)}, {'logits': array([-0.41982365], dtype=float32), 'logistic': array([0.39655897], dtype=float32), 'probabilities': array([0.60344106, 0.39655894], dtype=float32), 'class_ids': array([0], dtype=int64), 'classes': array([b'0'], dtype=object)}, {'logits': array([-0.9468385], dtype=float32), 'logistic': array([0.2795211], dtype=float32), 'probabilities': array([0.7204789 , 0.27952105], dtype=float32), 'class_ids': array([0], dtype=int64), 'classes': array([b'0'], dtype=object)}, {'logits': array([-1.2931612], dtype=float32), 'logistic': array([0.21531823], dtype=float32), 'probabilities': array([0.78468174, 0.21531823], dtype=float32), 'class_ids': array([0], dtype=int64), 'classes': array([b'0'], dtype=object)}, {'logits': array([-0.2975316], dtype=float32), 'logistic': array([0.42616102], dtype=float32), 'probabilities': array([0.573839  , 0.42616102], dtype=float32), 'class_ids': array([0], dtype=int64), 'classes': array([b'0'], dtype=object)}, {'logits': array([0.5115441], dtype=float32), 'logistic': array([0.6251684], dtype=float32), 'probabilities': array([0.37483165, 0.6251684 ], dtype=float32), 'class_ids': array([1], dtype=int64), 'classes': array([b'1'], dtype=object)}, {'logits': array([-0.01397014], dtype=float32), 'logistic': array([0.49650753], dtype=float32), 'probabilities': array([0.5034925 , 0.49650753], dtype=float32), 'class_ids': array([0], dtype=int64), 'classes': array([b'0'], dtype=object)}, {'logits': array([0.40907586], dtype=float32), 'logistic': array([0.60086626], dtype=float32), 'probabilities': array([0.39913374, 0.60086626], dtype=float32), 'class_ids': array([1], dtype=int64), 'classes': array([b'1'], dtype=object)}, {'logits': array([-0.51762164], dtype=float32), 'logistic': array([0.37340856], dtype=float32), 'probabilities': array([0.62659144, 0.37340856], dtype=float32), 'class_ids': array([0], dtype=int64), 'classes': array([b'0'], dtype=object)}, {'logits': array([0.18230367], dtype=float32), 'logistic': array([0.5454501], dtype=float32), 'probabilities': array([0.45454985, 0.5454501 ], dtype=float32), 'class_ids': array([1], dtype=int64), 'classes': array([b'1'], dtype=object)}, {'logits': array([-0.7160337], dtype=float32), 'logistic': array([0.32826698], dtype=float32), 'probabilities': array([0.671733, 0.328267], dtype=float32), 'class_ids': array([0], dtype=int64), 'classes': array([b'0'], dtype=object)}, {'logits': array([-0.7099934], dtype=float32), 'logistic': array([0.3296003], dtype=float32), 'probabilities': array([0.67039967, 0.32960027], dtype=float32), 'class_ids': array([0], dtype=int64), 'classes': array([b'0'], dtype=object)}, {'logits': array([-0.05009401], dtype=float32), 'logistic': array([0.48747912], dtype=float32), 'probabilities': array([0.5125209 , 0.48747912], dtype=float32), 'class_ids': array([0], dtype=int64), 'classes': array([b'0'], dtype=object)}, {'logits': array([-0.70897937], dtype=float32), 'logistic': array([0.32982442], dtype=float32), 'probabilities': array([0.6701756 , 0.32982442], dtype=float32), 'class_ids': array([0], dtype=int64), 'classes': array([b'0'], dtype=object)}, {'logits': array([-0.36988175], dtype=float32), 'logistic': array([0.4085696], dtype=float32), 'probabilities': array([0.59143037, 0.40856957], dtype=float32), 'class_ids': array([0], dtype=int64), 'classes': array([b'0'], dtype=object)}, {'logits': array([-0.44478548], dtype=float32), 'logistic': array([0.39060128], dtype=float32), 'probabilities': array([0.6093987 , 0.39060128], dtype=float32), 'class_ids': array([0], dtype=int64), 'classes': array([b'0'], dtype=object)}, {'logits': array([-1.6499491], dtype=float32), 'logistic': array([0.16111583], dtype=float32), 'probabilities': array([0.8388841 , 0.16111583], dtype=float32), 'class_ids': array([0], dtype=int64), 'classes': array([b'0'], dtype=object)}, {'logits': array([-0.22489297], dtype=float32), 'logistic': array([0.44401252], dtype=float32), 'probabilities': array([0.5559875 , 0.44401252], dtype=float32), 'class_ids': array([0], dtype=int64), 'classes': array([b'0'], dtype=object)}, {'logits': array([-0.81671077], dtype=float32), 'logistic': array([0.30646232], dtype=float32), 'probabilities': array([0.69353765, 0.30646232], dtype=float32), 'class_ids': array([0], dtype=int64), 'classes': array([b'0'], dtype=object)}, {'logits': array([-0.63224053], dtype=float32), 'logistic': array([0.34700269], dtype=float32), 'probabilities': array([0.6529973 , 0.34700269], dtype=float32), 'class_ids': array([0], dtype=int64), 'classes': array([b'0'], dtype=object)}, {'logits': array([-0.27684593], dtype=float32), 'logistic': array([0.4312272], dtype=float32), 'probabilities': array([0.5687728, 0.4312272], dtype=float32), 'class_ids': array([0], dtype=int64), 'classes': array([b'0'], dtype=object)}, {'logits': array([-0.671479], dtype=float32), 'logistic': array([0.33816576], dtype=float32), 'probabilities': array([0.66183424, 0.33816576], dtype=float32), 'class_ids': array([0], dtype=int64), 'classes': array([b'0'], dtype=object)}, {'logits': array([0.97294486], dtype=float32), 'logistic': array([0.72570604], dtype=float32), 'probabilities': array([0.27429393, 0.7257061 ], dtype=float32), 'class_ids': array([1], dtype=int64), 'classes': array([b'1'], dtype=object)}, {'logits': array([-0.8499952], dtype=float32), 'logistic': array([0.2994339], dtype=float32), 'probabilities': array([0.7005661 , 0.29943386], dtype=float32), 'class_ids': array([0], dtype=int64), 'classes': array([b'0'], dtype=object)}, {'logits': array([-1.1455684], dtype=float32), 'logistic': array([0.24129948], dtype=float32), 'probabilities': array([0.75870055, 0.24129948], dtype=float32), 'class_ids': array([0], dtype=int64), 'classes': array([b'0'], dtype=object)}, {'logits': array([1.2016686], dtype=float32), 'logistic': array([0.7688215], dtype=float32), 'probabilities': array([0.2311785, 0.7688215], dtype=float32), 'class_ids': array([1], dtype=int64), 'classes': array([b'1'], dtype=object)}, {'logits': array([-0.01588202], dtype=float32), 'logistic': array([0.4960296], dtype=float32), 'probabilities': array([0.50397044, 0.49602962], dtype=float32), 'class_ids': array([0], dtype=int64), 'classes': array([b'0'], dtype=object)}, {'logits': array([0.41489458], dtype=float32), 'logistic': array([0.60226095], dtype=float32), 'probabilities': array([0.39773908, 0.6022609 ], dtype=float32), 'class_ids': array([1], dtype=int64), 'classes': array([b'1'], dtype=object)}, {'logits': array([-0.1484803], dtype=float32), 'logistic': array([0.46294796], dtype=float32), 'probabilities': array([0.53705204, 0.46294796], dtype=float32), 'class_ids': array([0], dtype=int64), 'classes': array([b'0'], dtype=object)}, {'logits': array([-1.21765], dtype=float32), 'logistic': array([0.22835027], dtype=float32), 'probabilities': array([0.7716497 , 0.22835025], dtype=float32), 'class_ids': array([0], dtype=int64), 'classes': array([b'0'], dtype=object)}, {'logits': array([0.08446681], dtype=float32), 'logistic': array([0.52110416], dtype=float32), 'probabilities': array([0.47889584, 0.52110416], dtype=float32), 'class_ids': array([1], dtype=int64), 'classes': array([b'1'], dtype=object)}]\n"
     ]
    }
   ],
   "source": [
    "pred_input_func = tf.estimator.inputs.pandas_input_fn(x=X_test,batch_size=10,num_epochs=1,shuffle=False)\n",
    "predictions = model.predict(pred_input_func)\n",
    "\n",
    "my_pred = list(predictions)\n",
    "print(my_pred)"
   ]
  },
  {
   "cell_type": "code",
   "execution_count": 103,
   "metadata": {},
   "outputs": [
    {
     "name": "stdout",
     "output_type": "stream",
     "text": [
      "INFO:tensorflow:Using default config.\n",
      "WARNING:tensorflow:Using temporary folder as model directory: C:\\Users\\Suzuka\\AppData\\Local\\Temp\\tmpg3rq5z1g\n",
      "INFO:tensorflow:Using config: {'_model_dir': 'C:\\\\Users\\\\Suzuka\\\\AppData\\\\Local\\\\Temp\\\\tmpg3rq5z1g', '_tf_random_seed': None, '_save_summary_steps': 100, '_save_checkpoints_steps': None, '_save_checkpoints_secs': 600, '_session_config': allow_soft_placement: true\n",
      "graph_options {\n",
      "  rewrite_options {\n",
      "    meta_optimizer_iterations: ONE\n",
      "  }\n",
      "}\n",
      ", '_keep_checkpoint_max': 5, '_keep_checkpoint_every_n_hours': 10000, '_log_step_count_steps': 100, '_train_distribute': None, '_device_fn': None, '_protocol': None, '_eval_distribute': None, '_experimental_distribute': None, '_service': None, '_cluster_spec': <tensorflow.python.training.server_lib.ClusterSpec object at 0x000001FDC767AB38>, '_task_type': 'worker', '_task_id': 0, '_global_id_in_cluster': 0, '_master': '', '_evaluation_master': '', '_is_chief': True, '_num_ps_replicas': 0, '_num_worker_replicas': 1}\n"
     ]
    }
   ],
   "source": [
    "dnn_model = tf.estimator.DNNClassifier(hidden_units=[10,20,20,20,10],feature_columns=feat_cols,n_classes=2)"
   ]
  },
  {
   "cell_type": "code",
   "execution_count": 104,
   "metadata": {},
   "outputs": [
    {
     "name": "stdout",
     "output_type": "stream",
     "text": [
      "INFO:tensorflow:Calling model_fn.\n",
      "INFO:tensorflow:Done calling model_fn.\n",
      "INFO:tensorflow:Create CheckpointSaverHook.\n",
      "INFO:tensorflow:Graph was finalized.\n",
      "INFO:tensorflow:Running local_init_op.\n",
      "INFO:tensorflow:Done running local_init_op.\n",
      "INFO:tensorflow:Saving checkpoints for 0 into C:\\Users\\Suzuka\\AppData\\Local\\Temp\\tmpg3rq5z1g\\model.ckpt.\n",
      "INFO:tensorflow:loss = 7.537437, step = 1\n",
      "INFO:tensorflow:global_step/sec: 527.723\n",
      "INFO:tensorflow:loss = 5.5419188, step = 101 (0.192 sec)\n",
      "INFO:tensorflow:global_step/sec: 835.554\n",
      "INFO:tensorflow:loss = 5.8428555, step = 201 (0.122 sec)\n",
      "INFO:tensorflow:global_step/sec: 821.868\n",
      "INFO:tensorflow:loss = 5.511993, step = 301 (0.120 sec)\n",
      "INFO:tensorflow:global_step/sec: 815.175\n",
      "INFO:tensorflow:loss = 4.2281647, step = 401 (0.124 sec)\n",
      "INFO:tensorflow:global_step/sec: 828.432\n",
      "INFO:tensorflow:loss = 3.4716806, step = 501 (0.120 sec)\n",
      "INFO:tensorflow:global_step/sec: 864.621\n",
      "INFO:tensorflow:loss = 6.911633, step = 601 (0.119 sec)\n",
      "INFO:tensorflow:global_step/sec: 822.006\n",
      "INFO:tensorflow:loss = 5.9235, step = 701 (0.118 sec)\n",
      "INFO:tensorflow:global_step/sec: 789.518\n",
      "INFO:tensorflow:loss = 5.772401, step = 801 (0.129 sec)\n",
      "INFO:tensorflow:global_step/sec: 813.012\n",
      "INFO:tensorflow:loss = 5.6265707, step = 901 (0.121 sec)\n",
      "INFO:tensorflow:Saving checkpoints for 1000 into C:\\Users\\Suzuka\\AppData\\Local\\Temp\\tmpg3rq5z1g\\model.ckpt.\n",
      "INFO:tensorflow:Loss for final step: 4.0248013.\n"
     ]
    },
    {
     "data": {
      "text/plain": [
       "<tensorflow_estimator.python.estimator.canned.dnn.DNNClassifier at 0x1fdc46fb358>"
      ]
     },
     "execution_count": 104,
     "metadata": {},
     "output_type": "execute_result"
    }
   ],
   "source": [
    "dnn_model.train(input_fn=input_func,steps = 1000)"
   ]
  },
  {
   "cell_type": "code",
   "execution_count": 105,
   "metadata": {},
   "outputs": [
    {
     "name": "stdout",
     "output_type": "stream",
     "text": [
      "INFO:tensorflow:Calling model_fn.\n",
      "WARNING:tensorflow:Trapezoidal rule is known to produce incorrect PR-AUCs; please switch to \"careful_interpolation\" instead.\n",
      "WARNING:tensorflow:Trapezoidal rule is known to produce incorrect PR-AUCs; please switch to \"careful_interpolation\" instead.\n",
      "INFO:tensorflow:Done calling model_fn.\n",
      "INFO:tensorflow:Starting evaluation at 2019-03-11T06:20:21Z\n",
      "INFO:tensorflow:Graph was finalized.\n",
      "INFO:tensorflow:Restoring parameters from C:\\Users\\Suzuka\\AppData\\Local\\Temp\\tmpg3rq5z1g\\model.ckpt-1000\n",
      "INFO:tensorflow:Running local_init_op.\n",
      "INFO:tensorflow:Done running local_init_op.\n",
      "INFO:tensorflow:Finished evaluation at 2019-03-11-06:20:21\n",
      "INFO:tensorflow:Saving dict for global step 1000: accuracy = 0.65367967, accuracy_baseline = 0.64935064, auc = 0.69855964, auc_precision_recall = 0.49677598, average_loss = 0.61085343, global_step = 1000, label/mean = 0.35064936, loss = 5.8794646, precision = 0.6, prediction/mean = 0.28677246, recall = 0.037037037\n",
      "INFO:tensorflow:Saving 'checkpoint_path' summary for global step 1000: C:\\Users\\Suzuka\\AppData\\Local\\Temp\\tmpg3rq5z1g\\model.ckpt-1000\n"
     ]
    },
    {
     "data": {
      "text/plain": [
       "{'accuracy': 0.65367967,\n",
       " 'accuracy_baseline': 0.64935064,\n",
       " 'auc': 0.69855964,\n",
       " 'auc_precision_recall': 0.49677598,\n",
       " 'average_loss': 0.61085343,\n",
       " 'label/mean': 0.35064936,\n",
       " 'loss': 5.8794646,\n",
       " 'precision': 0.6,\n",
       " 'prediction/mean': 0.28677246,\n",
       " 'recall': 0.037037037,\n",
       " 'global_step': 1000}"
      ]
     },
     "execution_count": 105,
     "metadata": {},
     "output_type": "execute_result"
    }
   ],
   "source": [
    "eval_input_func = tf.estimator.inputs.pandas_input_fn(x = X_test,y=y_test,batch_size=10, num_epochs = 1,shuffle=False)\n",
    "dnn_model.evaluate(eval_input_func)"
   ]
  },
  {
   "cell_type": "code",
   "execution_count": null,
   "metadata": {},
   "outputs": [],
   "source": []
  }
 ],
 "metadata": {
  "kernelspec": {
   "display_name": "Python 3",
   "language": "python",
   "name": "python3"
  },
  "language_info": {
   "codemirror_mode": {
    "name": "ipython",
    "version": 3
   },
   "file_extension": ".py",
   "mimetype": "text/x-python",
   "name": "python",
   "nbconvert_exporter": "python",
   "pygments_lexer": "ipython3",
   "version": "3.7.2"
  }
 },
 "nbformat": 4,
 "nbformat_minor": 2
}
