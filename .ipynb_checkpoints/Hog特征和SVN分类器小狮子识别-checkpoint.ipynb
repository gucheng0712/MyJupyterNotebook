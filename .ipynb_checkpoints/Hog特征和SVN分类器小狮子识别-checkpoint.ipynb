{
 "cells": [
  {
   "cell_type": "markdown",
   "metadata": {},
   "source": [
    "# SVM本质\n",
    "    ```寻找一个最优的超平面进行分类```\n",
    "    "
   ]
  },
  {
   "cell_type": "markdown",
   "metadata": {},
   "source": [
    "### 对男生女生身高和体重的分类"
   ]
  },
  {
   "cell_type": "code",
   "execution_count": 40,
   "metadata": {},
   "outputs": [
    {
     "name": "stdout",
     "output_type": "stream",
     "text": [
      "[[167.  55.]\n",
      " [162.  57.]]\n",
      "[[0.]\n",
      " [1.]]\n",
      "[['red', 'blue'], ['red', 'blue'], ['red', 'blue'], ['red', 'blue'], ['red', 'blue'], ['red', 'blue'], ['red', 'blue'], ['red', 'blue'], ['red', 'blue'], ['red', 'blue']]\n"
     ]
    },
    {
     "data": {
      "text/plain": [
       "<matplotlib.collections.PathCollection at 0x259946b8278>"
      ]
     },
     "execution_count": 40,
     "metadata": {},
     "output_type": "execute_result"
    },
    {
     "data": {
      "image/png": "[encoded data removed]",
      "text/plain": [
       "<Figure size 432x288 with 1 Axes>"
      ]
     },
     "metadata": {
      "needs_background": "light"
     },
     "output_type": "display_data"
    }
   ],
   "source": [
    "import cv2\n",
    "import numpy as np\n",
    "import matplotlib.pyplot as plt\n",
    "\n",
    "# 1 prepare data\n",
    "girl_data = np.array([[155,48],[159,50],[164,53],[168,56],[172,60]])\n",
    "boy_data = np.array([[152,53],[156,55],[160,56],[172,64],[176,65]])\n",
    "a = np.concatenate((girl_data,boy_data))\n",
    "\n",
    "# 2 label\n",
    "label = np.array([[0],[0],[0],[0],[0],[1],[1],[1],[1],[1]])\n",
    "\n",
    "# 3 data\n",
    "data = np.vstack((girl_data,boy_data))\n",
    "data = np.array(data,dtype='float32')\n",
    "\n",
    "# svm中所有数据都要有label supervised learning\n",
    "# girl -- 0\n",
    "# boy -- 1\n",
    "\n",
    "# create svm\n",
    "svm = cv2.ml.SVM_create()\n",
    "# SVM属性设置\n",
    "svm.setType(cv2.ml.SVM_C_SVC)# SVM type\n",
    "svm.setKernel(cv2.ml.SVM_LINEAR) # LINEAR\n",
    "svm.setC(0.01)\n",
    "\n",
    "# train\n",
    "result = svm.train(data,cv2.ml.ROW_SAMPLE,label)\n",
    "\n",
    "# predict\n",
    "pred = np.vstack([[167,55],[162,57]]) # stack array vertically\n",
    "pred = np.array(pred,dtype = \"float32\")\n",
    "print(pred)\n",
    "(p1,p2) = svm.predict(pred)\n",
    "print(p2)"
   ]
  },
  {
   "cell_type": "code",
   "execution_count": null,
   "metadata": {},
   "outputs": [],
   "source": []
  }
 ],
 "metadata": {
  "kernelspec": {
   "display_name": "Python 3",
   "language": "python",
   "name": "python3"
  },
  "language_info": {
   "codemirror_mode": {
    "name": "ipython",
    "version": 3
   },
   "file_extension": ".py",
   "mimetype": "text/x-python",
   "name": "python",
   "nbconvert_exporter": "python",
   "pygments_lexer": "ipython3",
   "version": "3.7.2"
  }
 },
 "nbformat": 4,
 "nbformat_minor": 2
}
