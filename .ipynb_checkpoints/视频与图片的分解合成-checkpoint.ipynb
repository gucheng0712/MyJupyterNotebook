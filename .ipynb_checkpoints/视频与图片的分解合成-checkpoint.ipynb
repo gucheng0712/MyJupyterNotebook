{
 "cells": [
  {
   "cell_type": "markdown",
   "metadata": {},
   "source": [
    "# 视频分解图片\n",
    "\n",
    "1. Load\n",
    "2. info\n",
    "3. parse\n",
    "4. imshow imwrite"
   ]
  },
  {
   "cell_type": "code",
   "execution_count": 2,
   "metadata": {},
   "outputs": [
    {
     "name": "stdout",
     "output_type": "stream",
     "text": [
      "<built-in method isOpened of cv2.VideoCapture object at 0x0000024057862E10>\n",
      "29.008016032064127 540 960\n",
      "image1.jpg\n",
      "image2.jpg\n",
      "image3.jpg\n",
      "image4.jpg\n",
      "image5.jpg\n",
      "image6.jpg\n",
      "image7.jpg\n",
      "image8.jpg\n",
      "image9.jpg\n",
      "image10.jpg\n",
      "end\n"
     ]
    }
   ],
   "source": [
    "import cv2\n",
    "cap = cv2.VideoCapture('1.mp4') # 获取一个视频打开cap\n",
    "isOpened = cap.isOpened\n",
    "print(isOpened)\n",
    "fps = cap.get(cv2.CAP_PROP_FPS)\n",
    "width = int (cap.get(cv2.CAP_PROP_FRAME_WIDTH))\n",
    "height = int(cap.get(cv2.CAP_PROP_FRAME_HEIGHT))\n",
    "print(fps, width, height)\n",
    "\n",
    "i = 0\n",
    "while(isOpened):\n",
    "    if(i==10):\n",
    "        break\n",
    "    else:\n",
    "        i+=1\n",
    "    flag,frame = cap.read() # 读取每一张图片， flag表示是否读取成功， frame表示图片的内容\n",
    "    fileName = 'image'+str(i)+'.jpg'\n",
    "    print(fileName)\n",
    "    if(flag==True):\n",
    "        cv2.imwrite(fileName,frame,[cv2.IMWRITE_JPEG_QUALITY,100])\n",
    "        \n",
    "print('end')"
   ]
  },
  {
   "cell_type": "code",
   "execution_count": 4,
   "metadata": {},
   "outputs": [
    {
     "name": "stdout",
     "output_type": "stream",
     "text": [
      "(540, 960)\n",
      "end!\n"
     ]
    }
   ],
   "source": [
    "import cv2\n",
    "img = cv2.imread('image1.jpg')\n",
    "imgInfo = img.shape\n",
    "size = (imgInfo[1],imgInfo[0])\n",
    "print(size)\n",
    "\n",
    "# cv2.VideoWrite: param1: filename, param2: 解码器， param3： 帧率 param4： size\n",
    "videoWrite = cv2.VideoWriter('2.mp4',-1,5,size)\n",
    "\n",
    "for i in range(1,11):\n",
    "    fileName = 'image'+str(i)+'.jpg'\n",
    "    img = cv2.imread(fileName)\n",
    "    videoWrite.write(img)\n",
    "print('end!')"
   ]
  }
 ],
 "metadata": {
  "kernelspec": {
   "display_name": "Python 3",
   "language": "python",
   "name": "python3"
  },
  "language_info": {
   "codemirror_mode": {
    "name": "ipython",
    "version": 3
   },
   "file_extension": ".py",
   "mimetype": "text/x-python",
   "name": "python",
   "nbconvert_exporter": "python",
   "pygments_lexer": "ipython3",
   "version": "3.7.2"
  }
 },
 "nbformat": 4,
 "nbformat_minor": 2
}
