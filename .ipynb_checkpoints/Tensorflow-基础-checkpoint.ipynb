{
 "cells": [
  {
   "cell_type": "markdown",
   "metadata": {},
   "source": [
    "# TensorFlow Version Check"
   ]
  },
  {
   "cell_type": "code",
   "execution_count": 1,
   "metadata": {},
   "outputs": [
    {
     "name": "stdout",
     "output_type": "stream",
     "text": [
      "1.13.1\n"
     ]
    }
   ],
   "source": [
    "import tensorflow as tf\n",
    "print(tf.__version__)"
   ]
  },
  {
   "cell_type": "markdown",
   "metadata": {},
   "source": [
    "# Tensorflow 语法\n",
    "\n",
    "```\n",
    "tensorflow的本质:\n",
    "                tensor(data)数据\n",
    "                op(operation)赋值,运算等操作\n",
    "                graphs 数据操作\n",
    "                session 运行器\n",
    "```"
   ]
  },
  {
   "cell_type": "code",
   "execution_count": 9,
   "metadata": {},
   "outputs": [
    {
     "name": "stdout",
     "output_type": "stream",
     "text": [
      "2\n",
      "10\n"
     ]
    }
   ],
   "source": [
    "\n",
    "import tensorflow as tf\n",
    "data1 = tf.constant(2,dtype=tf.int32)\n",
    "data2 = tf.Variable(10,name='var')# 变量可以保存值的weights 和 biases 在整个session中; 需要被init\n",
    "#print(data1, data2)\n",
    "\n",
    "\n",
    "# sess = tf.Session()\n",
    "# print(sess.run(data1))\n",
    "# init = tf.global_variables_initializer()\n",
    "# sess.run(init)\n",
    "# print(sess.run(data2)) # before using variable need to init first\n",
    "# sess.close()\n",
    "\n",
    "\n",
    "# 这种方法不需要close sess\n",
    "init = tf.global_variables_initializer()\n",
    "sess = tf.Session()\n",
    "with sess:\n",
    "    sess.run(init) # before using variable need to init first\n",
    "    print(sess.run(data1))\n",
    "    print(sess.run(data2))\n"
   ]
  },
  {
   "cell_type": "markdown",
   "metadata": {},
   "source": [
    "# 常量运算"
   ]
  },
  {
   "cell_type": "code",
   "execution_count": 7,
   "metadata": {},
   "outputs": [
    {
     "name": "stdout",
     "output_type": "stream",
     "text": [
      "8\n",
      "4\n",
      "12\n",
      "3.0\n",
      "end!\n"
     ]
    }
   ],
   "source": [
    "\n",
    "import tensorflow as tf\n",
    "data1 = tf.constant(6)\n",
    "data2 = tf.constant(2)\n",
    "addition = data1+data2 # equal tf.add(data1,data2)\n",
    "subtract = data1-data2 # equal tf.subtract(data1,data2)\n",
    "multiply = data1*data2 # equal tf.multiply(data1,data2)\n",
    "division = data1/data2 # equal tf.divide(data1,data2)\n",
    "\n",
    "with tf.Session() as sess:\n",
    "    print(sess.run(addition))\n",
    "    print(sess.run(subtract))\n",
    "    print(sess.run(multiply))\n",
    "    print(sess.run(division))\n",
    "print('end!')\n"
   ]
  },
  {
   "cell_type": "markdown",
   "metadata": {},
   "source": [
    "# 常量与变量运算"
   ]
  },
  {
   "cell_type": "code",
   "execution_count": 20,
   "metadata": {},
   "outputs": [
    {
     "name": "stdout",
     "output_type": "stream",
     "text": [
      "8\n",
      "4\n",
      "12\n",
      "3.0\n",
      "sess.run(data_copy)  8\n",
      "data_copy.eval()  14\n",
      "tf.get_default_sesson() 20\n",
      "end!\n"
     ]
    }
   ],
   "source": [
    "\n",
    "import tensorflow as tf\n",
    "data1 = tf.constant(6)\n",
    "data2 = tf.Variable(2) \n",
    "addition = tf.add(data1,data2)\n",
    "data_copy = tf.assign(data2,addition) # addition -> data2 data2 = addition\n",
    "subtract = tf.subtract(data1,data2)\n",
    "multiply = tf.multiply(data1,data2)\n",
    "division = tf.divide(data1,data2)\n",
    "init = tf.global_variables_initializer()\n",
    "\n",
    "with tf.Session() as sess:\n",
    "    sess.run(init)\n",
    "    print(sess.run(addition))\n",
    "    print(sess.run(subtract))\n",
    "    print(sess.run(multiply))\n",
    "    print(sess.run(division))\n",
    "    print('sess.run(data_copy) ', sess.run(data_copy)) #8->data2  datacopy = \n",
    "    print('data_copy.eval() ',data_copy.eval())# same meaning with below, the reason \n",
    "    print('tf.get_default_sesson()', tf.get_default_session().run(data_copy))\n",
    "print('end!')\n",
    "\n"
   ]
  },
  {
   "cell_type": "markdown",
   "metadata": {},
   "source": [
    "# tensorflor.placeholder 的运用\n",
    "\n",
    "```\n",
    "placeholder is initially empty and are used to feed in the actual training examples.\n",
    "need a declared expect data type  with an optional shape argument\n",
    "```"
   ]
  },
  {
   "cell_type": "code",
   "execution_count": 21,
   "metadata": {},
   "outputs": [
    {
     "name": "stdout",
     "output_type": "stream",
     "text": [
      "8.0\n",
      "end!\n"
     ]
    }
   ],
   "source": [
    "import tensorflow as tf\n",
    "data1 = tf.placeholder(tf.float32) # a placeholder for a tensor(data) that will be always fed.\n",
    "data2 = tf.placeholder(tf.float32)\n",
    "addition= tf.add(data1,data2)\n",
    "\n",
    "with tf.Session() as sess:\n",
    "    \n",
    "    print(sess.run(addition,feed_dict={data1:6,data2:2}))\n",
    "print('end!')\n",
    "\n"
   ]
  },
  {
   "cell_type": "markdown",
   "metadata": {},
   "source": [
    "# Tensorflow 矩阵运算"
   ]
  },
  {
   "cell_type": "code",
   "execution_count": 13,
   "metadata": {},
   "outputs": [
    {
     "name": "stdout",
     "output_type": "stream",
     "text": [
      "data1.shape:  (1, 2)\n",
      "data1 * data2:\n",
      " [[18]]\n",
      "data1 + data3:\n",
      " [[9 9]]\n",
      "data1 x data2:\n",
      " [[12 12]\n",
      " [ 6  6]]\n",
      "[[12 12]\n",
      " [ 6  6]]\n"
     ]
    }
   ],
   "source": [
    "\n",
    "import tensorflow as tf\n",
    "\n",
    "data1 = tf.constant([[6,6]])\n",
    "print('data1.shape: ',data1.shape)\n",
    "data2 = tf.constant([[2],[1]]) # (2,1)\n",
    "data3 = tf.constant([[3,3]]) #(1,2)\n",
    "data4 = tf.constant([[1,2],[3,4],[5,6]]) #(3,2)\n",
    "\n",
    "matMul = tf.matmul(data1,data2)\n",
    "matMul2 = tf.multiply(data1,data2)\n",
    "matAdd = tf.add(data1,data3)\n",
    "with tf.Session() as sess:\n",
    "    print('data1 * data2:\\n',sess.run(matMul))\n",
    "    print('data1 + data3:\\n', sess.run(matAdd))\n",
    "    print('data1 x data2:\\n',sess.run(matMul2)) \n",
    "    \n"
   ]
  },
  {
   "cell_type": "markdown",
   "metadata": {},
   "source": [
    "# Tensorflow特殊矩阵"
   ]
  },
  {
   "cell_type": "code",
   "execution_count": 37,
   "metadata": {},
   "outputs": [
    {
     "name": "stdout",
     "output_type": "stream",
     "text": [
      "[[0. 0. 0.]\n",
      " [0. 0. 0.]]\n",
      "[[1. 1.]\n",
      " [1. 1.]\n",
      " [1. 1.]]\n",
      "[[15 15 15]\n",
      " [15 15 15]]\n"
     ]
    }
   ],
   "source": [
    "import tensorflow as tf\n",
    "mat0 = tf.zeros([2,3])# 零矩阵\n",
    "mat1 = tf.ones([3,2])# 单位矩阵\n",
    "mat_fill = tf.fill([2,3],15) #填充矩阵\n",
    "with tf.Session() as sess:\n",
    "    print(sess.run(mat0))\n",
    "    print(sess.run(mat1))\n",
    "    print(sess.run(mat_fill))\n",
    "    \n",
    "    "
   ]
  },
  {
   "cell_type": "code",
   "execution_count": 16,
   "metadata": {},
   "outputs": [
    {
     "name": "stdout",
     "output_type": "stream",
     "text": [
      "matB: \n",
      " [[0]\n",
      " [0]\n",
      " [0]]\n",
      "matC: \n",
      " [0.        0.2       0.4       0.6       0.8       1.        1.2\n",
      " 1.4       1.6       1.8000001 2.       ]\n",
      "matD: \n",
      " [[-0.4354236   1.1412733  -0.238724  ]\n",
      " [ 0.64117324 -0.32113397  1.0433965 ]]\n"
     ]
    }
   ],
   "source": [
    "import tensorflow as tf\n",
    "matA = tf.constant([[2],[3],[4]])\n",
    "matB = tf.zeros_like(matA) #复制一个同样维度的零矩阵\n",
    "matC = tf.linspace(0.0,2.0,11)\n",
    "matD = tf.random_uniform([2,3],-1,2)# 2x3 的随机矩阵,随机范围是(-1,2)\n",
    "with tf.Session() as sess:\n",
    "    #print(sess.run(matA))\n",
    "    print(\"matB: \\n\",sess.run(matB))\n",
    "    print(\"matC: \\n\",sess.run(matC))\n",
    "    print(\"matD: \\n\",sess.run(matD))\n",
    "    \n",
    "    "
   ]
  },
  {
   "cell_type": "markdown",
   "metadata": {},
   "source": [
    " # tensorflow default graph 运用"
   ]
  },
  {
   "cell_type": "code",
   "execution_count": 27,
   "metadata": {},
   "outputs": [
    {
     "name": "stdout",
     "output_type": "stream",
     "text": [
      "<tensorflow.python.framework.ops.Graph object at 0xb2434c198>\n",
      "<tensorflow.python.framework.ops.Graph object at 0xb2c284400>\n",
      "<tensorflow.python.framework.ops.Graph object at 0xb2434c198>\n",
      "<tensorflow.python.framework.ops.Graph object at 0xb2c297da0>\n",
      "True\n",
      "<tensorflow.python.framework.ops.Graph object at 0xb2c297da0>\n"
     ]
    }
   ],
   "source": [
    "print(tf.get_default_graph()) \n",
    "\n",
    "g = tf.Graph()\n",
    "print(g)\n",
    "\n",
    "graph_one = tf.get_default_graph()\n",
    "print(graph_one)\n",
    "\n",
    "graph_two = tf.Graph()\n",
    "print(graph_two)\n",
    "\n",
    "with graph_two.as_default():\n",
    "    print(graph_two is tf.get_default_graph())\n",
    "    print(graph_two)\n",
    "    \n",
    "    "
   ]
  },
  {
   "cell_type": "markdown",
   "metadata": {},
   "source": [
    "# Example Neural Network"
   ]
  },
  {
   "cell_type": "code",
   "execution_count": 31,
   "metadata": {},
   "outputs": [
    {
     "name": "stdout",
     "output_type": "stream",
     "text": [
      "[[0.22063856 0.45406836 0.13621013]]\n"
     ]
    }
   ],
   "source": [
    "import numpy as np\n",
    "import tensorflow as tf\n",
    "\n",
    "n_features = 10\n",
    "n_neurons = 3\n",
    "\n",
    "x=tf.placeholder(tf.float32,(None,n_features))\n",
    "\n",
    "w = tf.Variable(tf.random_normal([n_features,n_neurons]))\n",
    "b = tf.Variable(tf.ones([n_neurons]))\n",
    "\n",
    "xw = tf.matmul(x,w)\n",
    "z = xw+b\n",
    "a = tf.sigmoid(z)\n",
    "\n",
    "init = tf.global_variables_initializer()\n",
    "with tf.Session() as sess:\n",
    "    sess.run(init)\n",
    "    layer_out = sess.run(a,feed_dict ={x:np.random.random([1,n_features])})\n",
    "print(layer_out)"
   ]
  },
  {
   "cell_type": "markdown",
   "metadata": {},
   "source": [
    "# Simple Regression Example"
   ]
  },
  {
   "cell_type": "code",
   "execution_count": 36,
   "metadata": {},
   "outputs": [
    {
     "name": "stdout",
     "output_type": "stream",
     "text": [
      "[0.01166648 1.22274125 0.86289463 4.17866219 3.60422373 6.4532943\n",
      " 5.58784619 7.60735309 8.75478692 9.44830171]\n"
     ]
    },
    {
     "data": {
      "text/plain": [
       "[<matplotlib.lines.Line2D at 0x1c33cdc3c8>]"
      ]
     },
     "execution_count": 36,
     "metadata": {},
     "output_type": "execute_result"
    },
    {
     "data": {
      "image/png": "[encoded data removed]",
      "text/plain": [
       "<Figure size 432x288 with 1 Axes>"
      ]
     },
     "metadata": {
      "needs_background": "light"
     },
     "output_type": "display_data"
    }
   ],
   "source": [
    "import numpy as np\n",
    "import matplotlib.pyplot as plt\n",
    "import tensorflow as tf\n",
    "\n",
    "x_data = np.linspace(0,10,10)+np.random.uniform(-1.5,1.5,10)\n",
    "print(x_data)\n",
    "y_data = np.linspace(0,10,10)+np.random.uniform(-1.5,1.5,10)\n",
    "\n",
    "plt.plot(x_data,y_data,'o')\n"
   ]
  },
  {
   "cell_type": "code",
   "execution_count": 51,
   "metadata": {},
   "outputs": [
    {
     "data": {
      "text/plain": [
       "[<matplotlib.lines.Line2D at 0x1c37366cf8>]"
      ]
     },
     "execution_count": 51,
     "metadata": {},
     "output_type": "execute_result"
    },
    {
     "data": {
      "image/png": "[encoded data removed]",
      "text/plain": [
       "<Figure size 432x288 with 1 Axes>"
      ]
     },
     "metadata": {
      "needs_background": "light"
     },
     "output_type": "display_data"
    }
   ],
   "source": [
    "#y = mx + b\n",
    "#np.random.rand(2)\n",
    "\n",
    "m = tf.Variable(np.random.rand(1))\n",
    "b = tf.Variable(np.random.rand(1))\n",
    "\n",
    "error = 0\n",
    "\n",
    "for x,y in zip(x_data,y_data):\n",
    "    y_hat = m*x+b\n",
    "    error+=(y-y_hat)**2\n",
    "optimizer = tf.train.GradientDescentOptimizer(learning_rate=0.001)\n",
    "\n",
    "train = optimizer.minimize(error)\n",
    "init  = tf.global_variables_initializer()\n",
    "with tf.Session() as sess:\n",
    "    sess.run(init)\n",
    "    training_steps = 100\n",
    "    for i in range(training_steps):\n",
    "        sess.run(train)\n",
    "    final_slope, final_intercept = sess.run([m,b])\n",
    "\n",
    "x_test = np.linspace(-1,11,10)\n",
    "\n",
    "# y = mx+b\n",
    "y_pred_plot = final_slope*x_test+final_intercept\n",
    "plt.plot(x_test,y_pred_plot,'r')\n",
    "plt.plot(x_data,y_data,'o')\n",
    "\n"
   ]
  },
  {
   "cell_type": "markdown",
   "metadata": {},
   "source": [
    "# Tensorflow Regression Example"
   ]
  },
  {
   "cell_type": "code",
   "execution_count": 52,
   "metadata": {},
   "outputs": [],
   "source": [
    "import numpy as np\n",
    "import pandas as pd\n",
    "import matplotlib.pyplot as plt\n",
    "import tensorflow as tf"
   ]
  },
  {
   "cell_type": "code",
   "execution_count": 70,
   "metadata": {},
   "outputs": [
    {
     "data": {
      "text/plain": [
       "<matplotlib.axes._subplots.AxesSubplot at 0x1c3b0383c8>"
      ]
     },
     "execution_count": 70,
     "metadata": {},
     "output_type": "execute_result"
    },
    {
     "data": {
      "image/png": "[encoded data removed]",
      "text/plain": [
       "<Figure size 432x288 with 1 Axes>"
      ]
     },
     "metadata": {
      "needs_background": "light"
     },
     "output_type": "display_data"
    }
   ],
   "source": [
    "x_data = np.linspace(0.0,10.0,1000000)\n",
    "noise = np.random.randn(len(x_data)) # random add some noise to make data not straight\n",
    "\n",
    "# y = mx+b\n",
    "# b = 5\n",
    "y_true = (0.5 * x_data)+ 5 +noise\n",
    "\n",
    "x_df = pd.DataFrame(data=x_data, columns = ['X Data'])\n",
    "y_df = pd.DataFrame(data=y_true, columns = ['Y'])\n",
    "\n",
    "pd.DataFrame()\n",
    "my_data = pd.concat([x_df,y_df],axis = 1)\n",
    "my_data.sample(n=250).plot(kind='scatter',x='X Data',y = 'Y')# 250 random samples\n"
   ]
  },
  {
   "cell_type": "code",
   "execution_count": 90,
   "metadata": {},
   "outputs": [
    {
     "data": {
      "image/png": "[encoded data removed]",
      "text/plain": [
       "<Figure size 432x288 with 1 Axes>"
      ]
     },
     "metadata": {
      "needs_background": "light"
     },
     "output_type": "display_data"
    }
   ],
   "source": [
    "batch_size = 8\n",
    "\n",
    "m = tf.Variable(.81)\n",
    "b = tf.Variable(.17)\n",
    "init = tf.global_variables_initializer()\n",
    "\n",
    "# x y placeholder\n",
    "xph = tf.placeholder(tf.float32,[batch_size])\n",
    "yph = tf.placeholder(tf.float32,[batch_size])\n",
    "\n",
    "y_model = m*xph +b\n",
    "error = tf.reduce_sum(tf.square(yph-y_model))\n",
    "\n",
    "#GradientDescentOptimizer \n",
    "optimizer = tf.train.GradientDescentOptimizer(learning_rate=0.001)\n",
    "train = optimizer.minimize(error)\n",
    "\n",
    "# run session\n",
    "with tf.Session() as sess:\n",
    "    sess.run(init)\n",
    "    bactches = 1000\n",
    "    \n",
    "    for i in range(bactches):\n",
    "        rand_index = np.random.randint(len(x_data),size = batch_size)\n",
    "        feed = {xph:x_data[rand_index],yph:y_true[rand_index]}\n",
    "        sess.run(train,feed_dict=feed)\n",
    "    model_m, model_b = sess.run([m,b])\n",
    "\n",
    "y_pred = x_data*model_m+model_b\n",
    "\n",
    "my_data.sample(n=250).plot(kind='scatter',x='X Data',y = 'Y')# 250 random samples\n",
    "plt.plot(x_data,y_pred,'r');"
   ]
  }
 ],
 "metadata": {
  "kernelspec": {
   "display_name": "Python 3",
   "language": "python",
   "name": "python3"
  },
  "language_info": {
   "codemirror_mode": {
    "name": "ipython",
    "version": 3
   },
   "file_extension": ".py",
   "mimetype": "text/x-python",
   "name": "python",
   "nbconvert_exporter": "python",
   "pygments_lexer": "ipython3",
   "version": "3.7.1"
  }
 },
 "nbformat": 4,
 "nbformat_minor": 2
}
