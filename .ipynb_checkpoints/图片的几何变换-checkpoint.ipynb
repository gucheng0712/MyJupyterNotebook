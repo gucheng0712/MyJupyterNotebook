{
 "cells": [
  {
   "cell_type": "markdown",
   "metadata": {},
   "source": [
    "## 1. Resize a Image"
   ]
  },
  {
   "cell_type": "code",
   "execution_count": null,
   "metadata": {},
   "outputs": [],
   "source": [
    "import cv2\n",
    "img = cv2.imread('image0.jpg',1)#在这里 1 表示读取彩色的图片, 如果为0 那么就是灰度图\n",
    "height,width,mode = img.shape\n",
    "print(\"高度: \",height)\n",
    "print(\"宽度: \",width)\n",
    "print(\"图片的颜色组成方式: \",mode)\n",
    "\n",
    "#缩放比\n",
    "dstHeight = int(height*0.5)\n",
    "dstWidth = int(width*0.5)\n",
    "\n",
    "#缩放\n",
    "dst = cv2.resize(img, (dstWidth,dstHeight))\n",
    "cv2.imshow('image',dst)\n",
    "cv2.waitKey(0)\n",
    "\n"
   ]
  },
  {
   "cell_type": "markdown",
   "metadata": {},
   "source": [
    "## 2. Clip an Image"
   ]
  },
  {
   "cell_type": "code",
   "execution_count": null,
   "metadata": {},
   "outputs": [
    {
     "name": "stdout",
     "output_type": "stream",
     "text": [
      "(640, 1024, 3)\n"
     ]
    }
   ],
   "source": [
    "import cv2\n",
    "img = cv2.imread('image0.jpg',1)\n",
    "imgInfo = img.shape\n",
    "print(imgInfo)\n",
    "dst =img[100:200,100:300]\n",
    "cv2.imshow('image',dst)\n",
    "cv2.waitKey(0)"
   ]
  },
  {
   "cell_type": "markdown",
   "metadata": {},
   "source": [
    "## 3. Shift an Image"
   ]
  },
  {
   "cell_type": "code",
   "execution_count": 1,
   "metadata": {},
   "outputs": [
    {
     "data": {
      "text/plain": [
       "113"
      ]
     },
     "execution_count": 1,
     "metadata": {},
     "output_type": "execute_result"
    }
   ],
   "source": [
    "import cv2\n",
    "import numpy as np\n",
    "img = cv2.imread('image0.jpg',1)\n",
    "cv2.imshow('src',img)\n",
    "imgInfo = img.shape\n",
    "height = imgInfo[0]\n",
    "width = imgInfo[1]\n",
    "\n",
    "## 1. 矩阵拆分: [[1,0,100],[0,1,200]] ==> A[[1,0],[0,1]] 和 B[[100],[200]]\n",
    "## 2. C = xy表示当前的矩阵的xy坐标\n",
    "## 3. A*C+B = [[1*x+y*0],[0*x+1*y]]+[[100],[200]] = [[100*x],[200*y]] 位移每个像素\n",
    "matShift = np.float32([[1,0,100],[0,1,200]]) #2x3\n",
    "dst = cv2.warpAffine(img, matShift, (height,width))# 为了完成移位\n",
    "\n",
    "cv2.imshow('image',dst)\n",
    "cv2.waitKey()"
   ]
  },
  {
   "cell_type": "markdown",
   "metadata": {},
   "source": [
    "## 4. Mirror an Image"
   ]
  },
  {
   "cell_type": "code",
   "execution_count": null,
   "metadata": {},
   "outputs": [],
   "source": [
    "import cv2\n",
    "import numpy as np\n",
    "img = cv2.imread('image0.jpg',1)\n",
    "cv2.imshow('src',img)\n",
    "height,width,deep = img.shape\n",
    "\n",
    "newInfo = (height,width*2,deep) # 把horzontal *2\n",
    "dst = np.zeros(newInfo,np.uint8)\n",
    "\n",
    "#镜像图片\n",
    "for i in range(0,height):\n",
    "    for j in range(0, width):\n",
    "        dst[i,j] = img[i,j]\n",
    "        #x=2*w-x-1  y=y\n",
    "        dst[i,width*2-j-1] = img[i,j]\n",
    "\n",
    "# 画一个对称线\n",
    "for i in range(0,height):\n",
    "    dst[i,width] = (0,0,255)#bgr\n",
    "cv2.imshow('dst',dst)\n",
    "cv2.waitKey()\n",
    "        "
   ]
  }
 ],
 "metadata": {
  "kernelspec": {
   "display_name": "Python 3",
   "language": "python",
   "name": "python3"
  },
  "language_info": {
   "codemirror_mode": {
    "name": "ipython",
    "version": 3
   },
   "file_extension": ".py",
   "mimetype": "text/x-python",
   "name": "python",
   "nbconvert_exporter": "python",
   "pygments_lexer": "ipython3",
   "version": "3.7.2"
  }
 },
 "nbformat": 4,
 "nbformat_minor": 2
}
