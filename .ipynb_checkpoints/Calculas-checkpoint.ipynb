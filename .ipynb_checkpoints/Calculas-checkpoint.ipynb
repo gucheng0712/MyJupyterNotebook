{
 "cells": [
  {
   "cell_type": "markdown",
   "metadata": {},
   "source": [
    "# Rules of Derivative"
   ]
  },
  {
   "cell_type": "markdown",
   "metadata": {},
   "source": [
    "### Power Rule: $$\\frac{d}{dx}x^n=nx^{n-1}$$\n",
    "\n",
    ">Example\n",
    "f(x) = - 10 , then f'(x) = 0 \n",
    "\n",
    "### Constant Rule: $$\\frac{d}{dx}k = 0$$\n",
    "\n",
    ">Example\n",
    "f(x) = x -2 , then f '(x) = -2 x -3 = -2 / x 3\n",
    "\n",
    "### Sum Rule: $$\\frac{d}{dx}[b(x)+g(x))]=\\frac{d}{dx}b(x)+\\frac{d}{dx}g(x)$$"
   ]
  },
  {
   "cell_type": "markdown",
   "metadata": {},
   "source": []
  }
 ],
 "metadata": {
  "kernelspec": {
   "display_name": "Python 3",
   "language": "python",
   "name": "python3"
  },
  "language_info": {
   "codemirror_mode": {
    "name": "ipython",
    "version": 3
   },
   "file_extension": ".py",
   "mimetype": "text/x-python",
   "name": "python",
   "nbconvert_exporter": "python",
   "pygments_lexer": "ipython3",
   "version": "3.7.1"
  }
 },
 "nbformat": 4,
 "nbformat_minor": 2
}
