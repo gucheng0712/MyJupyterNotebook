{
 "cells": [
  {
   "cell_type": "code",
   "execution_count": 9,
   "metadata": {},
   "outputs": [
    {
     "name": "stdout",
     "output_type": "stream",
     "text": [
      "2\n",
      "10\n"
     ]
    }
   ],
   "source": [
    "'''tensorflow的本质:\n",
    "                tensor(data)数据\n",
    "                op(operation)赋值,运算等操作\n",
    "                graphs 数据操作\n",
    "                session 运行器\n",
    "'''\n",
    "import tensorflow as tf\n",
    "data1 = tf.constant(2,dtype=tf.int32)\n",
    "data2 = tf.Variable(10,name='var')\n",
    "#print(data1, data2)\n",
    "\n",
    "\n",
    "# sess = tf.Session()\n",
    "# print(sess.run(data1))\n",
    "# init = tf.global_variables_initializer()\n",
    "# sess.run(init)\n",
    "# print(sess.run(data2)) # before using variable need to init first\n",
    "# sess.close()\n",
    "\n",
    "\n",
    "# 这种方法不需要close sess 在最后\n",
    "init = tf.global_variables_initializer()\n",
    "sess = tf.Session()\n",
    "with sess:\n",
    "    sess.run(init)\n",
    "    print(sess.run(data1))\n",
    "    print(sess.run(data2))\n"
   ]
  },
  {
   "cell_type": "code",
   "execution_count": 12,
   "metadata": {},
   "outputs": [
    {
     "name": "stdout",
     "output_type": "stream",
     "text": [
      "8\n",
      "4\n",
      "12\n",
      "3.0\n",
      "end!\n"
     ]
    }
   ],
   "source": [
    "#常量四则运算\n",
    "import tensorflow as tf\n",
    "data1 = tf.constant(6)\n",
    "data2 = tf.constant(2)\n",
    "addition = tf.add(data1,data2)\n",
    "subtract = tf.subtract(data1,data2)\n",
    "multiply = tf.multiply(data1,data2)\n",
    "division = tf.divide(data1,data2)\n",
    "\n",
    "with tf.Session() as sess:\n",
    "    print(sess.run(addition))\n",
    "    print(sess.run(subtract))\n",
    "    print(sess.run(multiply))\n",
    "    print(sess.run(division))\n",
    "print('end!')\n"
   ]
  },
  {
   "cell_type": "code",
   "execution_count": 20,
   "metadata": {},
   "outputs": [
    {
     "name": "stdout",
     "output_type": "stream",
     "text": [
      "8\n",
      "4\n",
      "12\n",
      "3.0\n",
      "sess.run(data_copy)  8\n",
      "data_copy.eval()  14\n",
      "tf.get_default_sesson() 20\n",
      "end!\n"
     ]
    }
   ],
   "source": [
    "# 常量与变量四则运算\n",
    "import tensorflow as tf\n",
    "data1 = tf.constant(6)\n",
    "data2 = tf.Variable(2)\n",
    "addition = tf.add(data1,data2)\n",
    "data_copy = tf.assign(data2,addition) # addition -> data2 data2 = addition\n",
    "subtract = tf.subtract(data1,data2)\n",
    "multiply = tf.multiply(data1,data2)\n",
    "division = tf.divide(data1,data2)\n",
    "init = tf.global_variables_initializer()\n",
    "\n",
    "with tf.Session() as sess:\n",
    "    sess.run(init)\n",
    "    print(sess.run(addition))\n",
    "    print(sess.run(subtract))\n",
    "    print(sess.run(multiply))\n",
    "    print(sess.run(division))\n",
    "    print('sess.run(data_copy) ', sess.run(data_copy)) #8->data2  datacopy = \n",
    "    print('data_copy.eval() ',data_copy.eval())# same meaning with below, the reason \n",
    "    print('tf.get_default_sesson()', tf.get_default_session().run(data_copy))\n",
    "print('end!')"
   ]
  },
  {
   "cell_type": "code",
   "execution_count": 21,
   "metadata": {},
   "outputs": [
    {
     "name": "stdout",
     "output_type": "stream",
     "text": [
      "8.0\n",
      "end!\n"
     ]
    }
   ],
   "source": [
    "#placeholder\n",
    "import tensorflow as tf\n",
    "data1 = tf.placeholder(tf.float32) # a placeholder for a tensor(data) that will be always fed.\n",
    "data2 = tf.placeholder(tf.float32)\n",
    "addition= tf.add(data1,data2)\n",
    "\n",
    "with tf.Session() as sess:\n",
    "    \n",
    "    print(sess.run(addition,feed_dict={data1:6,data2:2}))\n",
    "print('end!')"
   ]
  },
  {
   "cell_type": "code",
   "execution_count": 34,
   "metadata": {},
   "outputs": [
    {
     "name": "stdout",
     "output_type": "stream",
     "text": [
      "data1 * data2:\n",
      " [[18]]\n",
      "data1 + data3:\n",
      " [[9 9]]\n",
      "data1 x data2:\n",
      " [[12 12]\n",
      " [ 6  6]]\n"
     ]
    }
   ],
   "source": [
    "#矩阵 基本运算\n",
    "import tensorflow as tf\n",
    "\n",
    "data1 = tf.constant([[6,6]])\n",
    "data2 = tf.constant([[2],[1]])\n",
    "data3 = tf.constant([[3,3]])\n",
    "data4 = tf.constant([[1,2],[3,4],[5,6]])\n",
    "\n",
    "matMul = tf.matmul(data1,data2)\n",
    "matMul2 = tf.multiply(data1,data2)\n",
    "matAdd = tf.add(data1,data3)\n",
    "with tf.Session() as sess:\n",
    "    print('data1 * data2:\\n',sess.run(matMul))\n",
    "    print('data1 + data3:\\n', sess.run(matAdd))\n",
    "    print('data1 x data2:\\n',sess.run(matMul2))\n",
    "    \n"
   ]
  },
  {
   "cell_type": "code",
   "execution_count": 37,
   "metadata": {},
   "outputs": [
    {
     "name": "stdout",
     "output_type": "stream",
     "text": [
      "[[0. 0. 0.]\n",
      " [0. 0. 0.]]\n",
      "[[1. 1.]\n",
      " [1. 1.]\n",
      " [1. 1.]]\n",
      "[[15 15 15]\n",
      " [15 15 15]]\n"
     ]
    }
   ],
   "source": [
    "#特殊矩阵\n",
    "import tensorflow as tf\n",
    "mat0 = tf.zeros([2,3])# 零矩阵\n",
    "mat1 = tf.ones([3,2])# 单位矩阵\n",
    "mat_fill = tf.fill([2,3],15) #填充矩阵\n",
    "with tf.Session() as sess:\n",
    "    print(sess.run(mat0))\n",
    "    print(sess.run(mat1))\n",
    "    print(sess.run(mat_fill))"
   ]
  },
  {
   "cell_type": "code",
   "execution_count": 55,
   "metadata": {},
   "outputs": [
    {
     "name": "stdout",
     "output_type": "stream",
     "text": [
      "[[0]\n",
      " [0]\n",
      " [0]]\n",
      "[0.        0.2       0.4       0.6       0.8       1.        1.2\n",
      " 1.4       1.6       1.8000001 2.       ]\n",
      "[[ 1.6257331  -0.46244848  0.39075255]\n",
      " [-0.5028125   0.41538668  0.1953007 ]]\n"
     ]
    }
   ],
   "source": [
    "import tensorflow as tf\n",
    "matA = tf.constant([[2],[3],[4]])\n",
    "matB = tf.zeros_like(matA) #复制一个同样维度的零矩阵\n",
    "matC = tf.linspace(0.0,2.0,11)\n",
    "matD = tf.random_uniform([2,3],-1,2)# 2x3 的随机矩阵,随机范围是(-1,2)\n",
    "with tf.Session() as sess:\n",
    "    #print(sess.run(matA))\n",
    "    print(sess.run(matB))\n",
    "    print(sess.run(matC))\n",
    "    print(sess.run(matD))"
   ]
  }
 ],
 "metadata": {
  "kernelspec": {
   "display_name": "Python 3",
   "language": "python",
   "name": "python3"
  },
  "language_info": {
   "codemirror_mode": {
    "name": "ipython",
    "version": 3
   },
   "file_extension": ".py",
   "mimetype": "text/x-python",
   "name": "python",
   "nbconvert_exporter": "python",
   "pygments_lexer": "ipython3",
   "version": "3.6.8"
  }
 },
 "nbformat": 4,
 "nbformat_minor": 2
}
