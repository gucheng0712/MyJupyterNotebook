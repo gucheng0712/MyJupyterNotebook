{
 "cells": [
  {
   "cell_type": "markdown",
   "metadata": {},
   "source": [
    "# Linear Algebra\n",
    "\n"
   ]
  },
  {
   "cell_type": "markdown",
   "metadata": {},
   "source": [
    "## Vector\n",
    "\n",
    "**Magnitude of A Vector:** $||\\vec{v}|| = \\sqrt{\\sum_{i=0}^{n} \\vec{v}_i^2}$\n",
    "\n",
    "eg: \n",
    "\n",
    "   **if:** Vector3 v = (x,y,z)\n",
    "   \n",
    "   **then:** magnitude = $x^2+y^2+z^2$\n",
    "    \n",
    "    \n",
    "**Normalize a Vector:** $Normalize(\\vec{v}) = \\sum_{i=0}^{n}\\frac{1}{||v_i||}$ \n",
    "\n",
    "eg:\n",
    "\n",
    ">**if:** Vector3 v = (x,y,z)\n",
    "     \n",
    ">**then:** $Normalize(v) = \\frac{x}{\\sqrt{x^2+y^2+z^2}} + \\frac{y}{\\sqrt{x^2+y^2+z^2}}+ \\frac{z}{\\sqrt{x^2+y^2+z^2}}$"
   ]
  },
  {
   "cell_type": "markdown",
   "metadata": {},
   "source": [
    "### Dot Product\n",
    "The dot product of two n-dimensional vectors A and B, written as A ⋅ B, is the scalar quantity given by the formula:\n",
    "\n",
    "$$A\\cdot B = \\sum_{i=1}^{n}{A_i}{B_i}$$\n",
    "\n",
    "eg:\n",
    "\n",
    ">**if:** Vector3 $v_1 = (x_1,y_1,z_1)$ Vector3 $v_2 = (x_2,y_2,z_2)$\n",
    "\n",
    ">**then:** $v_1 \\cdot v_2 = {x_1}{x_2}+{y_1}{y_2}+{z_1}{z_2} $\n",
    "\n",
    ">Follow the law of trig it can write as: $A\\cdot B = \\|A\\|\\|B\\| cos\\theta$\n",
    "\n",
    ">Follow up, it also can write as: $\\theta = acos (\\frac{A\\cdot B}{\\|A\\|\\|B\\| })$\n",
    "\n",
    "The dot product A ⋅ B may also be expressed as the **matrix product**\n",
    ">$A_T B = \\left[\n",
    "   \\begin{array}\\\\\n",
    "   A_{1} & A_{2} & \\cdots & A_n\n",
    "  \\end{array} \n",
    "\\right]\n",
    "\\left[\n",
    "   \\begin{array}\\\\\n",
    "   B_{1}\\\\ \n",
    "   B_{2}\\\\ \n",
    "   \\vdots\\\\\n",
    "   B_n\n",
    "  \\end{array} \n",
    "\\right]\n",
    "$\n",
    "\n",
    "Dot Product also can calculate the **projection** of a vector by giving A and B vectors:\n",
    "\n",
    ">$proj_BA = \\frac{A\\cdot B}{\\|B\\|}$\n"
   ]
  },
  {
   "cell_type": "markdown",
   "metadata": {},
   "source": [
    "### Cross Product\n",
    "The cross product of two three-dimensional vectors, returns a new vector that is perpendicular to both of the vectors being multiplied together. This property has many uses in computer graphics, one of which is a method for calculating a surface normal at a particular point given two distinct tangent vectors.\n",
    "\n",
    "The **cross product** of two 3D vectors A and B, written as A × B, is a vector quantity given by the formula:\n",
    "\n",
    "$$ P×Q = (P_yQ_z−P_zQ_y, P_zQ_x−P_xQ_z, P_xQ_y−P_yQ_x)$$\n",
    "\n",
    ">Follow the law of trig it can write as: $\\|A×B\\|=\\|A\\|\\|B\\|sin\\theta$\n",
    "\n",
    ">Follow up, it also can write as: $\\theta = asin (\\frac{\\|A×B\\|}{\\|A\\|\\|B\\| })$\n"
   ]
  },
  {
   "cell_type": "markdown",
   "metadata": {},
   "source": [
    "## Matrix\n",
    "\n",
    "**Multiplication of Two Matrices:** $(A{B})_{ij} = \\sum_{k=0}^{p-1} A_{ik}{B_{kj}}$"
   ]
  },
  {
   "cell_type": "markdown",
   "metadata": {},
   "source": [
    "eg: Formula\n",
    "$\n",
    "\\left[\n",
    " \\begin{array}\\\\\n",
    "   A_{00} & A_{01}\\\\\n",
    "   A_{10} & A_{11}\\\\\n",
    "  \\end{array} \n",
    "\\right]\n",
    "\\times\n",
    "\\left[\n",
    " \\begin{array}\\\\\n",
    "   B_{00} & B_{01}\\\\\n",
    "   B_{10} & B_{11}\\\\\n",
    "  \\end{array} \n",
    "\\right]=\n",
    "\\left[\n",
    " \\begin{array}\\\\\n",
    "   {A_{00}B_{00}+A_{01}B_{10}} & {A_{00}B_{01}+A_{01}B_{11}}\\\\\n",
    "   {A_{10}B_{00}+A_{11}B_{10}} & {A_{10}B_{01}+A_{11}B_{11}}\\\\\n",
    "  \\end{array} \n",
    "\\right]\n",
    "$\n"
   ]
  },
  {
   "cell_type": "code",
   "execution_count": null,
   "metadata": {},
   "outputs": [],
   "source": []
  }
 ],
 "metadata": {
  "kernelspec": {
   "display_name": "Python 3",
   "language": "python",
   "name": "python3"
  },
  "language_info": {
   "codemirror_mode": {
    "name": "ipython",
    "version": 3
   },
   "file_extension": ".py",
   "mimetype": "text/x-python",
   "name": "python",
   "nbconvert_exporter": "python",
   "pygments_lexer": "ipython3",
   "version": "3.7.1"
  }
 },
 "nbformat": 4,
 "nbformat_minor": 2
}
