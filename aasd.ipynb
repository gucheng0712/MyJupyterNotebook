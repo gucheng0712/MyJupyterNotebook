{
 "cells": [
  {
   "cell_type": "code",
   "execution_count": 1,
   "metadata": {},
   "outputs": [
    {
     "data": {
      "text/html": [
       "1 "
      ],
      "text/plain": [
       "1 "
      ]
     },
     "metadata": {},
     "output_type": "display_data"
    },
    {
     "data": {
      "text/html": [
       "2 "
      ],
      "text/plain": [
       "2 "
      ]
     },
     "metadata": {},
     "output_type": "display_data"
    },
    {
     "data": {
      "text/html": [
       "4 "
      ],
      "text/plain": [
       "4 "
      ]
     },
     "metadata": {},
     "output_type": "display_data"
    },
    {
     "data": {
      "text/html": [
       "5 "
      ],
      "text/plain": [
       "5 "
      ]
     },
     "metadata": {},
     "output_type": "display_data"
    },
    {
     "data": {
      "text/html": [
       "6 "
      ],
      "text/plain": [
       "6 "
      ]
     },
     "metadata": {},
     "output_type": "display_data"
    },
    {
     "data": {
      "text/html": [
       "7 "
      ],
      "text/plain": [
       "7 "
      ]
     },
     "metadata": {},
     "output_type": "display_data"
    },
    {
     "data": {
      "text/html": [
       "8 "
      ],
      "text/plain": [
       "8 "
      ]
     },
     "metadata": {},
     "output_type": "display_data"
    }
   ],
   "source": [
    "public List<int> MergeSort(List<int> list)\n",
    "{\n",
    "    if(list.Count<2) return list;\n",
    "    \n",
    "    List<int> left = new List<int>();\n",
    "    List<int> right = new List<int>();\n",
    "    \n",
    "       int mid = list.Count/2;\n",
    "    \n",
    "    for(int i =0;i<mid;i++)\n",
    "    {\n",
    "        left.Add(list[i]);\n",
    "    }\n",
    "    for (int i = mid;i<list.Count;i++)\n",
    "    {\n",
    "        right.Add(list[i]);\n",
    "    }\n",
    "    \n",
    "    left = MergeSort(left);\n",
    "    right = MergeSort(right);\n",
    "    \n",
    "    return Merge(left, right);\n",
    "    \n",
    "}\n",
    "\n",
    "public List<int> Merge(List<int> left, List<int> right)\n",
    "{\n",
    "    List<int> result = new List<int>();\n",
    "    \n",
    "    while(left.Count>0||right.Count>0)\n",
    "    {\n",
    "        if(left.Count>0&&right.Count>0)\n",
    "        {\n",
    "            if(left[0]<right[0]){\n",
    "                result.Add(left[0]);\n",
    "                 left.RemoveAt(0);\n",
    "            }else{\n",
    "                result.Add(right[0]);\n",
    "                right.RemoveAt(0);\n",
    "            }\n",
    "        }else if(left.Count>0)\n",
    "        {\n",
    "            result.Add(left[0]);\n",
    "                  left.RemoveAt(0);      \n",
    "        }else if(right.Count>0)\n",
    "        {\n",
    "                result.Add(right[0]);\n",
    "                right.RemoveAt(0);\n",
    "        }\n",
    "        \n",
    "    }\n",
    "\n",
    "    return result;\n",
    "}\n",
    "\n",
    "List<int> arr = new List<int>(){8,6,4,5,2,7,1};\n",
    "List<int>list = MergeSort(arr);\n",
    "foreach(var i in list)\n",
    "{\n",
    "    Console.Write(i+\" \");\n",
    "}"
   ]
  },
  {
   "cell_type": "code",
   "execution_count": null,
   "metadata": {},
   "outputs": [],
   "source": []
  }
 ],
 "metadata": {
  "kernelspec": {
   "display_name": "C#",
   "language": "csharp",
   "name": "icsharpkernel"
  },
  "language": "csharp",
  "language_info": {
   "codemirror_mode": "",
   "file_extension": ".cs",
   "mimetype": "text/x-csharp",
   "name": "csharp",
   "nbconvert_exporter": "",
   "pygments_lexer": "",
   "version": "6.0.0.0"
  }
 },
 "nbformat": 4,
 "nbformat_minor": 2
}
