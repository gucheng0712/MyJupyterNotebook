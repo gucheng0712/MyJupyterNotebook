{
 "cells": [
  {
   "cell_type": "markdown",
   "metadata": {},
   "source": [
    "# 什么是特征?\n",
    "\n",
    "简单地说一个图片的特征就是像素的运算所得到的结果，这些结果可以是（具体值，向量，矩阵）\n",
    "\n",
    "# 如何利用特征区分目标？\n",
    "\n",
    "阈值判决\n",
    "\n",
    "# 如何得到判决\n",
    "\n",
    "机器学习\n",
    "\n",
    "# 什么是Haar特征的积分图\n",
    "* A:1\n",
    "* B:1,2\n",
    "* C:1,3\n",
    "* D:1,2,3,4\n",
    "\n",
    "$特征 = （A-B-C+D）* W = (1+1+2+3+4-1-2-1-3)*W = 4*W$\n"
   ]
  },
  {
   "cell_type": "markdown",
   "metadata": {},
   "source": [
    "### Steps：\n",
    "1. load xml\n",
    "2. load jpg\n",
    "3. haar(CV Done for us) gray\n",
    "4. detect\n",
    "5. draw"
   ]
  },
  {
   "cell_type": "code",
   "execution_count": 5,
   "metadata": {},
   "outputs": [
    {
     "name": "stdout",
     "output_type": "stream",
     "text": [
      "face= 1\n",
      "eye= 2\n"
     ]
    },
    {
     "data": {
      "text/plain": [
       "-1"
      ]
     },
     "execution_count": 5,
     "metadata": {},
     "output_type": "execute_result"
    }
   ],
   "source": [
    "import cv2\n",
    "import numpy as np\n",
    "\n",
    "# load xml\n",
    "face_xml = cv2.CascadeClassifier('haarcascade_frontalface_default.xml')\n",
    "eye_xml = cv2.CascadeClassifier('haarcascade_eye.xml')\n",
    "\n",
    "img = cv2.imread('face.jpg')\n",
    "cv2.imshow('src',img)\n",
    "\n",
    "# haar gray\n",
    "gray = cv2.cvtColor(img,cv2.COLOR_BGR2GRAY)\n",
    "\n",
    "# Detect \n",
    "faces = face_xml.detectMultiScale(gray,1.3,5) # \n",
    "print('face=', len(faces))\n",
    "\n",
    "#draw\n",
    "for (x,y,w,h) in faces:\n",
    "    cv2.rectangle(img,(x,y),(x+w,y+h),(255,0,0),2)\n",
    "    roi_face = gray[y:y+h,x:x+w]\n",
    "    roi_color = img[y:y+h,x:x+w]\n",
    "    eyes = eye_xml.detectMultiScale(roi_face)\n",
    "    print('eye=',len(eyes))\n",
    "    for(e_x,e_y,e_w,e_h) in eyes:\n",
    "        cv2.rectangle(roi_color,(e_x,e_y),(e_x+e_w,e_y+e_h),(0,255,0),2)\n",
    "\n",
    "cv2.imshow('dst',img)\n",
    "cv2.waitKey()\n",
    "    \n"
   ]
  }
 ],
 "metadata": {
  "kernelspec": {
   "display_name": "Python 3",
   "language": "python",
   "name": "python3"
  },
  "language_info": {
   "codemirror_mode": {
    "name": "ipython",
    "version": 3
   },
   "file_extension": ".py",
   "mimetype": "text/x-python",
   "name": "python",
   "nbconvert_exporter": "python",
   "pygments_lexer": "ipython3",
   "version": "3.7.2"
  }
 },
 "nbformat": 4,
 "nbformat_minor": 2
}
