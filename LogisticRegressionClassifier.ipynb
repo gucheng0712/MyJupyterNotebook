{
 "cells": [
  {
   "cell_type": "markdown",
   "metadata": {},
   "source": [
    "<h1 align=\"center\"> Logistic Regression Classifier</h1>\n",
    "<br></br><br></br>\n",
    "\n",
    "In functional approaches to data classification, such as logistic\n",
    "regression, the goal is to find a **hypothetical function** h(x) which can best describe the correlation between variables x and y.\n",
    "\n",
    "<img src=\"LRC.png\" style=\"width: 50%;\" align =\"center\" />\n",
    "\n",
    "If the input data is 2D, the function is a **curve** which fits through the data points. In 3D the function represents a **plane** and in higher\n",
    "dimensions a **hyperplane**.\n",
    "\n",
    "The mathematical function used in Logistic Regression is known as\n",
    "a **sigmoid** (aka logistic). The output of the function is **between 0\n",
    "and 1** for all input values. \n",
    "\n",
    "$$f(x) = \\frac{1}{1+e^{-x}}$$\n",
    "\n",
    "**Code Example:**"
   ]
  },
  {
   "cell_type": "code",
   "execution_count": 2,
   "metadata": {
    "scrolled": true
   },
   "outputs": [
    {
     "name": "stderr",
     "output_type": "stream",
     "text": [
      "d:\\programs\\python\\lib\\site-packages\\sklearn\\linear_model\\logistic.py:460: FutureWarning: Default multi_class will be changed to 'auto' in 0.22. Specify the multi_class option to silence this warning.\n",
      "  \"this warning.\", FutureWarning)\n"
     ]
    },
    {
     "data": {
      "image/png": "[encoded data removed]",
      "text/plain": [
       "<Figure size 432x288 with 1 Axes>"
      ]
     },
     "metadata": {
      "needs_background": "light"
     },
     "output_type": "display_data"
    }
   ],
   "source": [
    "import numpy as np\n",
    "import matplotlib.pyplot as plt    \n",
    "from sklearn import linear_model\n",
    "\n",
    "\n",
    "'''=====================Visualzation Function========================''' \n",
    "def visualize_classifier(classifier, x,y):\n",
    "    # Define the min and max values for x and y\n",
    "    # that will be used in the mesh grid\n",
    "    min_x = x[:,0].min()-1.0 # show the first col of x's min value-1\n",
    "    max_x = x[:,0].max()+1.0 # show the first col of x's max value+1\n",
    "    min_y = x[:,1].min()-1.0 # show the second col of x's min value-1\n",
    "    max_y = x[:,1].max()+1.0 # show the second col of x's max value+1\n",
    "    \n",
    "    # Define the step size to use in plotting the mesh grid\n",
    "    mesh_step_size = 0.01\n",
    "    \n",
    "    # Define the mesh grid of x and y values\n",
    "    x_vals,y_vals = np.meshgrid(np.arange(min_x, max_x, mesh_step_size), \n",
    "                                np.arange(min_y, max_y, mesh_step_size))\n",
    "    \n",
    "    # Run the classifier on the mesh grid\n",
    "    output = classifier.predict(np.c_[x_vals.ravel(), y_vals.ravel()])\n",
    "    \n",
    "    # Reshape the output array\n",
    "    output = output.reshape(x_vals.shape)\n",
    "    \n",
    "    # Create a plot\n",
    "    plt.figure()\n",
    "    \n",
    "    # Choose a color scheme for the plot\n",
    "    plt.pcolormesh(x_vals, y_vals, output, cmap=plt.cm.gray)\n",
    "    \n",
    "    # Overlay the training points on the plot\n",
    "    plt.scatter(x[:, 0], x[:, 1], c=y, s=75, edgecolors='black', \n",
    "                linewidth=1, cmap=plt.cm.Paired)\n",
    "\n",
    "    # Specify the boundaries of the plot\n",
    "    plt.xlim(x_vals.min(), x_vals.max())\n",
    "    plt.ylim(y_vals.min(), y_vals.max())\n",
    "    \n",
    "    # Specify the ticks on the X and Y axes\n",
    "    plt.xticks((np.arange(int(x[:, 0].min() - 1), \n",
    "                          int(x[:, 0].max() + 1), 1.0)))\n",
    "    plt.yticks((np.arange(int(x[:, 1].min() - 1), \n",
    "                          int(x[:, 1].max() + 1), 1.0)))\n",
    "    \n",
    "    #plt.show() # only don't call in jupyter \n",
    "    \n",
    "'''=============================Main=================================''' \n",
    "\n",
    "\n",
    "# Define sample input data\n",
    "x = np.array([[3.1, 7.2],\n",
    "              [4, 6.7],\n",
    "              [2.9, 8],\n",
    "              [5.1, 4.5],\n",
    "              [6, 5],\n",
    "              [5.6, 5],\n",
    "              [3.3, 0.4],\n",
    "              [3.9, 0.9],\n",
    "              [2.8, 1],\n",
    "              [0.5, 3.4],\n",
    "              [1, 4],\n",
    "              [0.6, 4.9]])\n",
    "\n",
    "y = np.array([0, 0, 0, 1, 1, 1, 2, 2, 2, 3, 3, 3])\n",
    "\n",
    "# Create the logistic regression classifier\n",
    "\n",
    "#classifier = linear_model.LogisticRegression(solver='liblinear', C=1)\n",
    "classifier = linear_model.LogisticRegression(solver='liblinear', C=100)\n",
    "\n",
    "# Train the classifier\n",
    "classifier.fit(x, y)\n",
    "\n",
    "# Visualize the performance of the classifier\n",
    "visualize_classifier(classifier, x, y)"
   ]
  },
  {
   "cell_type": "code",
   "execution_count": null,
   "metadata": {},
   "outputs": [],
   "source": []
  }
 ],
 "metadata": {
  "kernelspec": {
   "display_name": "Python 3",
   "language": "python",
   "name": "python3"
  },
  "language_info": {
   "codemirror_mode": {
    "name": "ipython",
    "version": 3
   },
   "file_extension": ".py",
   "mimetype": "text/x-python",
   "name": "python",
   "nbconvert_exporter": "python",
   "pygments_lexer": "ipython3",
   "version": "3.7.2"
  }
 },
 "nbformat": 4,
 "nbformat_minor": 2
}
