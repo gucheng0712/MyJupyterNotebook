{
 "cells": [
  {
   "cell_type": "markdown",
   "metadata": {},
   "source": [
    "# Utilities"
   ]
  },
  {
   "cell_type": "code",
   "execution_count": 3,
   "metadata": {},
   "outputs": [],
   "source": [
    "public void PrintSteps(int[] arr, int i)  \n",
    "{\n",
    "    Console.Write(string.Format(\"Step{0}: \", i));\n",
    "    foreach(var a in arr)\n",
    "        Console.Write(a+\" \");\n",
    "    Console.WriteLine();\n",
    "}\n",
    "\n",
    "public void Swap(ref int a, ref int b)\n",
    "{\n",
    "    int temp = a;\n",
    "    a = b;\n",
    "    b = temp;\n",
    "}\n"
   ]
  },
  {
   "cell_type": "markdown",
   "metadata": {},
   "source": [
    "# Insertion Sort\n",
    "\n",
    "**Insertion Sort** is a simple sorting algorithm. The principle is to scan the **unsorted** data from back to front in the **sorted** sequence, find the corresponding position and insert. In the process of backward scanning, the sorted elements need to be moved backward step by step repeatedly to provide insertion space for the latest elements.\n",
    "\n",
    "### **Steps:**\n",
    "\n",
    "1. Start from the **first element**, this element can be think as in a sorted list. \n",
    "\n",
    "2. Take out the next element as a temp element and start from this element searching backwards(which are the sorted elements).\n",
    "\n",
    "3. If it found the element is smaller than the **temp** element we took out, insert the **temp** element into the index after that found element. If we didn't find smaller element, insert **temp** into the first index. \n",
    "\n",
    "4. Repeat Step 2 and 3 until the array is sorted.\n",
    "\n",
    "#### **Time Complexity:**\n",
    "\n",
    "* Average: $O(n^2)$\n",
    "* Best: $O(n)$\n",
    "* Worst: $O(n^2)$\n",
    " \n",
    "#### **Pseudocode:**\n",
    "\n",
    "```python\n",
    "for i in range(1 to arr_length):\n",
    "    temp = arr[i]\n",
    "    j = i\n",
    "    while j>0 and arr[j-1]>temp:\n",
    "        arr[j] = arr[j-1]\n",
    "        j--\n",
    "    arr[j]=temp\n",
    "\n",
    "```"
   ]
  },
  {
   "cell_type": "code",
   "execution_count": 2,
   "metadata": {},
   "outputs": [
    {
     "data": {
      "text/plain": [
       "Step1: 6 8 4 5 2 7 1 \n",
       "Step2: 4 6 8 5 2 7 1 \n",
       "Step3: 4 5 6 8 2 7 1 \n",
       "Step4: 2 4 5 6 8 7 1 \n",
       "Step5: 2 4 5 6 7 8 1 \n",
       "Step6: 1 2 4 5 6 7 8 \n"
      ]
     },
     "metadata": {},
     "output_type": "display_data"
    }
   ],
   "source": [
    "public int[] InsertSort(int[] arr)\n",
    "{\n",
    "    for (int i = 1; i<arr.Length;i++)\n",
    "    {\n",
    "       \n",
    "        int temp = arr[i];\n",
    "        int j = i;\n",
    "        while(j>0 &&arr[j-1]>temp)\n",
    "        {\n",
    "            arr[j]=arr[j-1];\n",
    "            j--;\n",
    "        }\n",
    "        arr[j]=temp;\n",
    "        PrintSteps(arr,i);\n",
    "    }\n",
    "    return arr;\n",
    "}\n",
    "\n",
    "// Testing\n",
    "int[] arr = new int[] {8,6,4,5,2,7,1};\n",
    "\n",
    "InsertSort(arr);"
   ]
  },
  {
   "cell_type": "markdown",
   "metadata": {},
   "source": [
    "# Selection Sort\n",
    "\n",
    "**Selection Sort** algorithm sorts an array by repeatedly finding the minimum element from **unsorted** part and putting it at the begining.\n",
    "\n",
    "### **Steps:**\n",
    "\n",
    "1. Find the smallest element in the unsorted sequence, store it at the beginning of the sorted sequence.\n",
    "2. Continue to find the smallest element from the remaining unsorted elements, and put it at the end of the sorted sequence\n",
    "3. Repeat step 2 until all the elements are sorted.\n",
    "\n",
    "#### **Time Complexity:**\n",
    "\n",
    "* Average: $O(n^2)$\n",
    "* Best: $O(n^2)$\n",
    "* Worst: $O(n^2)$\n",
    " \n",
    "#### **Pseudocode:**\n",
    "\n",
    "```python\n",
    "for i in range(0 to arr_length):\n",
    "    min = i\n",
    "    for j in range(i+1 to arr_length):\n",
    "        if(arr[j]<arr[min]):\n",
    "            min = j\n",
    "    swap(arr[min] and arr[i])\n",
    "```"
   ]
  },
  {
   "cell_type": "code",
   "execution_count": 3,
   "metadata": {},
   "outputs": [
    {
     "data": {
      "text/plain": [
       "Step0: 1 6 4 5 2 7 8 \n",
       "Step1: 1 2 4 5 6 7 8 \n",
       "Step2: 1 2 4 5 6 7 8 \n",
       "Step3: 1 2 4 5 6 7 8 \n",
       "Step4: 1 2 4 5 6 7 8 \n",
       "Step5: 1 2 4 5 6 7 8 \n",
       "Step6: 1 2 4 5 6 7 8 \n"
      ]
     },
     "metadata": {},
     "output_type": "display_data"
    }
   ],
   "source": [
    "public int[] SelectionSort(int[] arr){\n",
    "    for(int i = 0; i<arr.Length;i++)\n",
    "    {\n",
    "        int minIndex = i; // smallest index\n",
    "        for(int j = i+1;j<arr.Length;j++)\n",
    "        {\n",
    "            if(arr[j]<arr[minIndex])\n",
    "                minIndex = j;\n",
    "        }\n",
    "        \n",
    "        // Only swap when minIndex changed\n",
    "        if(minIndex!=i)\n",
    "            Swap(ref arr[minIndex], ref arr[i]);\n",
    "            \n",
    "        PrintSteps(arr,i);\n",
    "        \n",
    "\n",
    "    }\n",
    "    return arr;\n",
    "}\n",
    "\n",
    "// Testing\n",
    "int[] arr = new int[] {8,6,4,5,2,7,1};\n",
    "SelectionSort(arr);\n"
   ]
  },
  {
   "cell_type": "markdown",
   "metadata": {},
   "source": [
    "# Bubble Sort\n",
    "\n",
    "**Bubble Sort** is a simple sorting algorithm that repeatedly steps through the list, compares adjacent pairs and swaps them if they are in the wrong order.\n",
    "\n",
    "### **Steps:**\n",
    "\n",
    "1. Loop through whole array\n",
    "2. Compare neighbours. If the first is larger (smaller) than the second, swap them. \n",
    "3. Repeat the 1 and 2 steps\n",
    "\n",
    "#### **Time Complexity:**\n",
    "\n",
    "* Average: $O(n^2)$\n",
    "* Best: $O(n)$\n",
    "* Worst: $O(n^2)$\n",
    " \n",
    "#### **Pseudocode:**\n",
    "\n",
    "```python\n",
    "while(hasSwap):\n",
    "    for i in range(0 to n - 2):\n",
    "        if arr[i] > arr[i+1]:\n",
    "            swap(arr[i] and arr[i+1])\n",
    "```"
   ]
  },
  {
   "cell_type": "code",
   "execution_count": 4,
   "metadata": {},
   "outputs": [
    {
     "data": {
      "text/plain": [
       "Step1: 6 4 5 2 7 1 8 \n",
       "Step2: 4 5 2 6 1 7 8 \n",
       "Step3: 4 2 5 1 6 7 8 \n",
       "Step4: 2 4 1 5 6 7 8 \n",
       "Step5: 2 1 4 5 6 7 8 \n",
       "Step6: 1 2 4 5 6 7 8 \n",
       "Step7: 1 2 4 5 6 7 8 \n"
      ]
     },
     "metadata": {},
     "output_type": "display_data"
    }
   ],
   "source": [
    "public int[] BubbleSort(int[] arr)\n",
    "{\n",
    "    int n = arr.Length-1;\n",
    "    bool swap = false;\n",
    "    do{\n",
    "        swap = false;\n",
    "        for(int i = 0;i< n;i++)\n",
    "        {\n",
    "            if(arr[i]>arr[i+1])\n",
    "            {\n",
    "                Swap(ref arr[i], ref arr[i+1]);\n",
    "                swap = true;\n",
    "            }\n",
    "        }\n",
    "        PrintSteps(arr,arr.Length-n);\n",
    "        n--;\n",
    "    }while(swap);\n",
    "    \n",
    "    return arr;\n",
    "}\n",
    "\n",
    "// Testing\n",
    "int[] arr = new int[] {8,6,4,5,2,7,1};\n",
    "BubbleSort(arr);"
   ]
  },
  {
   "cell_type": "markdown",
   "metadata": {},
   "source": [
    "# Merge Sort\n",
    "\n",
    "**Merge-Sort** is an effective sorting algorithm established on **merge** operations. This algorithm is a typical application of **Divide & Conquer**. The Principle of the Merge-Sort is to merge the ordered subsequences to get a completely ordered sequence. Firstly, make each sub-sequence orderly, and then make the sub-sequence segments orderly.\n",
    "\n",
    "### **Steps:**\n",
    "1. Divide the unsorted list into **n** sublists, each containing 1 element.\n",
    "2. Repeatedly **merge** sublists to produce new **sorted** sublists until there is only 1 sublist.\n",
    "\n",
    "#### **Time Complexity:**\n",
    "\n",
    "* Average: $O(nlog_n)$\n",
    "* Best: $O(nlog_n)$\n",
    "* Worst: $O(nlog_n)$\n",
    " \n",
    "#### **Pseudocode:**\n",
    "\n",
    "```python\n",
    "n = arr_length\n",
    "if n < 2\n",
    "    return arr\n",
    "else\n",
    "    sort left half of elements\n",
    "    sort right half of elements\n",
    "    merge two of them\n",
    "```\n",
    "\n",
    ">##### **Notice:**\n",
    "```\n",
    "    merge function has 3 scenarios:\n",
    "    1. right list count and left list count both > 0\n",
    "    2. only right list count > 0\n",
    "    3. only left list count > 0\n",
    "```"
   ]
  },
  {
   "cell_type": "code",
   "execution_count": 6,
   "metadata": {},
   "outputs": [
    {
     "data": {
      "text/html": [
       "4 "
      ],
      "text/plain": [
       "4 "
      ]
     },
     "metadata": {},
     "output_type": "display_data"
    },
    {
     "data": {
      "text/html": [
       "6 "
      ],
      "text/plain": [
       "6 "
      ]
     },
     "metadata": {},
     "output_type": "display_data"
    },
    {
     "data": {
      "text/html": [
       "4 "
      ],
      "text/plain": [
       "4 "
      ]
     },
     "metadata": {},
     "output_type": "display_data"
    },
    {
     "data": {
      "text/html": [
       "6 "
      ],
      "text/plain": [
       "6 "
      ]
     },
     "metadata": {},
     "output_type": "display_data"
    },
    {
     "data": {
      "text/html": [
       "8 "
      ],
      "text/plain": [
       "8 "
      ]
     },
     "metadata": {},
     "output_type": "display_data"
    },
    {
     "data": {
      "text/html": [
       "2 "
      ],
      "text/plain": [
       "2 "
      ]
     },
     "metadata": {},
     "output_type": "display_data"
    },
    {
     "data": {
      "text/html": [
       "5 "
      ],
      "text/plain": [
       "5 "
      ]
     },
     "metadata": {},
     "output_type": "display_data"
    },
    {
     "data": {
      "text/html": [
       "1 "
      ],
      "text/plain": [
       "1 "
      ]
     },
     "metadata": {},
     "output_type": "display_data"
    },
    {
     "data": {
      "text/html": [
       "7 "
      ],
      "text/plain": [
       "7 "
      ]
     },
     "metadata": {},
     "output_type": "display_data"
    },
    {
     "data": {
      "text/html": [
       "1 "
      ],
      "text/plain": [
       "1 "
      ]
     },
     "metadata": {},
     "output_type": "display_data"
    },
    {
     "data": {
      "text/html": [
       "2 "
      ],
      "text/plain": [
       "2 "
      ]
     },
     "metadata": {},
     "output_type": "display_data"
    },
    {
     "data": {
      "text/html": [
       "5 "
      ],
      "text/plain": [
       "5 "
      ]
     },
     "metadata": {},
     "output_type": "display_data"
    },
    {
     "data": {
      "text/html": [
       "7 "
      ],
      "text/plain": [
       "7 "
      ]
     },
     "metadata": {},
     "output_type": "display_data"
    },
    {
     "data": {
      "text/html": [
       "1 "
      ],
      "text/plain": [
       "1 "
      ]
     },
     "metadata": {},
     "output_type": "display_data"
    },
    {
     "data": {
      "text/html": [
       "2 "
      ],
      "text/plain": [
       "2 "
      ]
     },
     "metadata": {},
     "output_type": "display_data"
    },
    {
     "data": {
      "text/html": [
       "4 "
      ],
      "text/plain": [
       "4 "
      ]
     },
     "metadata": {},
     "output_type": "display_data"
    },
    {
     "data": {
      "text/html": [
       "5 "
      ],
      "text/plain": [
       "5 "
      ]
     },
     "metadata": {},
     "output_type": "display_data"
    },
    {
     "data": {
      "text/html": [
       "6 "
      ],
      "text/plain": [
       "6 "
      ]
     },
     "metadata": {},
     "output_type": "display_data"
    },
    {
     "data": {
      "text/html": [
       "7 "
      ],
      "text/plain": [
       "7 "
      ]
     },
     "metadata": {},
     "output_type": "display_data"
    },
    {
     "data": {
      "text/html": [
       "8 "
      ],
      "text/plain": [
       "8 "
      ]
     },
     "metadata": {},
     "output_type": "display_data"
    }
   ],
   "source": [
    "\n",
    "public List<int> MergeSort(List<int> arr)\n",
    "{\n",
    "    if(arr.Count<2) return arr;\n",
    "    List<int> left = new List<int>();\n",
    "    List<int> right = new List<int>();\n",
    "    \n",
    "    int mid = arr.Count/2;\n",
    "    \n",
    "    // Dividing the unsorted list\n",
    "    for (int i = 0; i < mid;i++) \n",
    "    {\n",
    "        left.Add(arr[i]);\n",
    "    }\n",
    "    for (int i = mid; i < arr.Count; i++)\n",
    "    {\n",
    "        right.Add(arr[i]);\n",
    "    }  \n",
    "    left = MergeSort(left);\n",
    "    right = MergeSort(right);\n",
    "    \n",
    "    return Merge(left, right);\n",
    "}\n",
    "\n",
    "public List<int> Merge(List<int> left, List<int> right)\n",
    "{\n",
    "    List<int> result = new List<int>();\n",
    "    \n",
    "    while(left.Count>0||right.Count>0)\n",
    "    {\n",
    "        // 1st Scenario\n",
    "        if (left.Count > 0 && right.Count > 0)\n",
    "        {\n",
    "            if(left[0]<=right[0])\n",
    "            {\n",
    "                result.Add(left[0]);\n",
    "                left.RemoveAt(0);\n",
    "            }\n",
    "            else\n",
    "            {\n",
    "                result.Add(right[0]);\n",
    "                right.RemoveAt(0);\n",
    "            }\n",
    "        }\n",
    "        else if(left.Count>0)// 2ed Scenario\n",
    "        {\n",
    "            result.Add(left[0]);\n",
    "            left.RemoveAt(0);\n",
    "        }\n",
    "        else if(right.Count>0)// 3ed Scenario\n",
    "        {\n",
    "            result.Add(right[0]);\n",
    "            right.RemoveAt(0);        \n",
    "        }            \n",
    "    }\n",
    "    foreach(var i in result)\n",
    "    {\n",
    "        Console.Write(i+\" \");\n",
    "    }\n",
    "    return result;\n",
    "}\n",
    "\n",
    "public int Pop(List<int> list, int index)\n",
    "{\n",
    "    int res = list[index];\n",
    "    list.RemoveAt(index);\n",
    "    return res;\n",
    "}\n",
    "\n",
    "\n",
    "// Testing\n",
    "List<int> arr = new List<int>(){8,6,4,5,2,7,1};\n",
    "List<int>list = MergeSort(arr);\n",
    "// foreach(var i in list)\n",
    "// {\n",
    "//     Console.Write(i+\" \");\n",
    "// }"
   ]
  },
  {
   "cell_type": "markdown",
   "metadata": {},
   "source": [
    "# Quick Sort\n",
    "\n",
    "Like Merge Sort, Quick Sort is a **Divide & Conquer** algorithm. it picks an element as **pivot** and **partitions** the given array around the pivot.\n",
    "\n",
    "### **Steps:**\n",
    "1. Select an Element as the \"pivot\" int the data set.\n",
    "2. All elements less than the \"pivot\" are moved to the left of the \"pivot\"; All elements larger than the \"pivot\" are moved to the right of the \"pivot\".(this is called **Partitions**).\n",
    "3. For the left and right subsets of \"pivot\", repeat step 1 and step 2 until only one element is left in all subsets.\n",
    "\n",
    "#### **Time Complexity:**\n",
    "\n",
    "* Average: $O(nlog_n)$\n",
    "* Best: $O(nlog_n)$\n",
    "* Worst: $O(n^2)$\n",
    " \n",
    "#### **Pseudocode:**\n",
    "\n",
    "```python\n",
    "if (low < high):\n",
    "    pi = partition(arr, low, high);\n",
    "    quickSort(arr, low, pi - 1);  # Before pi\n",
    "    quickSort(arr, pi + 1, high); # After pi\n",
    "```"
   ]
  },
  {
   "cell_type": "code",
   "execution_count": 2,
   "metadata": {},
   "outputs": [
    {
     "data": {
      "text/plain": [
       "1 2 4 5 6 7 8 "
      ]
     },
     "metadata": {},
     "output_type": "display_data"
    }
   ],
   "source": [
    "public int Partition(int[] arr, int low, int high){\n",
    "    \n",
    "    int first = low, last = high;\n",
    "\n",
    "    // 此时a[low]被保存到pivot，所以元素a[low]可以当作是一个空位，用于保存数据，\n",
    "    // 之后每赋值一次，也会有一个位置空出来，\n",
    "    // 直到last==first，此时arr[last]==arr[first]=pivot\n",
    "    int pivot = arr[low];\n",
    "    while (first < last)\n",
    "    {\n",
    "        while (first < last && arr[last] >= pivot)\n",
    "        {\n",
    "            last--;\n",
    "        }\n",
    "        arr[first] = arr[last];\n",
    "\n",
    "        while (first < last && arr[first] <= pivot)\n",
    "        {\n",
    "            first++;\n",
    "        }\n",
    "        arr[last] = arr[first];\n",
    "    }\n",
    "    arr[first] = pivot;\n",
    "    // 跳出循环后, 现在i==j了, 这样i就是中间位置的,所以把基准数放在i的位置\n",
    "    // 这样就分成了两个区间因为 i 的位置已经确定下来了是中间数\n",
    "    // 就是说在i左边的数虽然不是有序的但比i要小;\n",
    "    // 而在i右边的数虽然不是有序的但比i要大\n",
    "   return first;\n",
    "}\n",
    "\n",
    "public void QuickSort(int[] arr, int low, int high)\n",
    "{\n",
    "    if (low >= high) return;\n",
    "\n",
    "    int pi = Partition(arr,low,high);\n",
    "\n",
    "    //递归排序数组左边的元素\n",
    "    QuickSort(arr, low, pi - 1);\n",
    "    //递归排序右边的元素\n",
    "    QuickSort(arr, pi + 1, high);\n",
    "}\n",
    "\n",
    "int[] arr = new int[] {8,6,4,5,2,7,1};\n",
    "QuickSort(arr, 0, arr.Length-1);\n",
    "foreach(var i in arr)\n",
    "{\n",
    "    Console.Write(i+\" \");\n",
    "}"
   ]
  },
  {
   "cell_type": "markdown",
   "metadata": {},
   "source": [
    "# Heap Sort\n",
    "\n",
    "**Heap Sort** is a comparison based sorting technique based on **Binary Heap** data structure. It is similar to selection sort where we first find the **maximum** element and place the maximum element at the end. We repeat the same process for remaining element.\n",
    "\n",
    "### **Steps:**\n",
    "\n",
    "```\n",
    "(1) Input data: 4, 10, 3, 5, 1\n",
    "         4(0)\n",
    "        /   \\\n",
    "     10(1)   3(2)\n",
    "    /   \\\n",
    " 5(3)    1(4)\n",
    "\n",
    "The numbers in bracket represent the indices in the array representation of data.\n",
    "\n",
    "(2) Applying heapify procedure to index 1:\n",
    "         4(0)\n",
    "        /   \\\n",
    "    10(1)    3(2)\n",
    "    /   \\\n",
    "5(3)    1(4)\n",
    "\n",
    "(3) Applying heapify procedure to index 0:\n",
    "        10(0)\n",
    "        /  \\\n",
    "     5(1)  3(2)\n",
    "    /   \\\n",
    " 4(3)    1(4)\n",
    "The heapify procedure calls itself recursively to build heap in top down manner.\n",
    "```\n",
    "\n",
    "#### **Time Complexity:**\n",
    "\n",
    "* Average: $O(nlog_n)$\n",
    "* Best: $O(nlog_n)$\n",
    "* Worst: $O(nlog_2)$\n",
    " \n",
    "#### **Pseudocode:**\n",
    "\n",
    "```python\n",
    "Heapsort(A as array)\n",
    "    BuildHeap(A)\n",
    "    for i = n to 1\n",
    "        swap(A[1], A[i])\n",
    "        n = n - 1\n",
    "        Heapify(A, 1)\n",
    "\n",
    "BuildHeap(A as array)\n",
    "    n = A.Length\n",
    "    for i = n/2 to 1\n",
    "        Heapify(A,i,n)\n",
    "\n",
    "Heapify(A as array, i as int, n as int)\n",
    "    left = 2i\n",
    "    right = 2i+1\n",
    "\n",
    "    if (left <= n) and (A[left] > A[i])\n",
    "        max = left\n",
    "    else \n",
    "        max = i\n",
    "\n",
    "    if (right<=n) and (A[right] > A[max])\n",
    "        max = right\n",
    "\n",
    "    if (max != i)\n",
    "        swap(A[i], A[max])\n",
    "        Heapify(A, max)\n",
    "\n",
    "```"
   ]
  },
  {
   "cell_type": "code",
   "execution_count": null,
   "metadata": {},
   "outputs": [],
   "source": [
    "https://www.geeksforgeeks.org/heap-sort/\n"
   ]
  }
 ],
 "metadata": {
  "kernelspec": {
   "display_name": "C#",
   "language": "csharp",
   "name": "csharp"
  },
  "language": "csharp",
  "language_info": {
   "file_extension": ".cs",
   "mimetype": "text/x-csharp",
   "name": "C#",
   "pygments_lexer": "c#",
   "version": "4.0.30319"
  }
 },
 "nbformat": 4,
 "nbformat_minor": 2
}
