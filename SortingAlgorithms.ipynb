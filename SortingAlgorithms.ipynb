{
 "cells": [
  {
   "cell_type": "markdown",
   "metadata": {},
   "source": [
    "# Utilities"
   ]
  },
  {
   "cell_type": "code",
   "execution_count": null,
   "metadata": {},
   "outputs": [],
   "source": [
    "public void PrintSteps(int[] arr, int i)  \n",
    "{\n",
    "    Console.Write(string.Format(\"Step{0}: \", i));\n",
    "    foreach(var a in arr)\n",
    "        Console.Write(a+\" \");\n",
    "    Console.WriteLine();\n",
    "}\n",
    "\n",
    "public void Swap(ref int a, ref int b)\n",
    "{\n",
    "    int temp = a;\n",
    "    a = b;\n",
    "    b = temp;\n",
    "}\n",
    "\n",
    "\n",
    "int[] arr = new int[] {8,6,4,5,2,7,1};\n",
    "\n"
   ]
  },
  {
   "cell_type": "markdown",
   "metadata": {},
   "source": [
    "# InsertSort\n",
    "\n",
    "### **Definition:**\n",
    "\n",
    "Insert sort is a simple sorting algorithm. The principle is to scan the unsorted data from back to front in the sorted sequence, find the corresponding position and insert. In the process of backward scanning, the sorted elements need to be moved backward step by step repeatedly to provide insertion space for the latest elements.\n",
    "\n",
    "### **Steps:**\n",
    "\n",
    "1. Start from the **first element**, this element can be think as in a sorted list. \n",
    "\n",
    "2. Take out the next element as a temp element and start from this element searching backwards(which are the sorted elements).\n",
    "\n",
    "3. If it found the element is smaller than the **temp** element we took out, insert the **temp** element into the index after that found element. If we didn't find smaller element, insert **temp** into the first index. \n",
    "\n",
    "4. Repeat Step 2 and 3 until the array is sorted.\n",
    "\n",
    "#### **Time Complexity:**\n",
    "\n",
    "* Average: $O(n^2)$\n",
    "* Best: $O(n)$\n",
    "* Worst: $O(n^2)$\n",
    " \n",
    "#### **Pseudocode:**\n",
    "\n",
    "```python\n",
    "for i = 1 in range(arr_length):\n",
    "    temp = arr[i]\n",
    "    j = i\n",
    "    while j>0 and arr[j-1]>temp:\n",
    "        arr[j] = arr[j-1]\n",
    "        j--\n",
    "    arr[j]=temp\n",
    "\n",
    "```"
   ]
  },
  {
   "cell_type": "code",
   "execution_count": 102,
   "metadata": {},
   "outputs": [
    {
     "data": {
      "text/plain": [
       "Step1: 6 8 4 5 2 7 1 \n",
       "Step2: 4 6 8 5 2 7 1 \n",
       "Step3: 4 5 6 8 2 7 1 \n",
       "Step4: 2 4 5 6 8 7 1 \n",
       "Step5: 2 4 5 6 7 8 1 \n",
       "Step6: 1 2 4 5 6 7 8 \n"
      ]
     },
     "metadata": {},
     "output_type": "display_data"
    }
   ],
   "source": [
    "public int[] InsertSort(int[] arr)\n",
    "{\n",
    "    \n",
    "    for (int i = 1; i<arr.Length;i++)\n",
    "    {\n",
    "       \n",
    "        int temp = arr[i];\n",
    "        int j = i;\n",
    "        while(j>0 &&arr[j-1]>temp)\n",
    "        {\n",
    "            arr[j]=arr[j-1];\n",
    "            j--;\n",
    "        }\n",
    "        arr[j]=temp;\n",
    "        PrintSteps(arr,i);\n",
    "    }\n",
    "    return arr;\n",
    "}\n",
    "\n",
    "// Call the function\n",
    "InsertSort(arr);"
   ]
  },
  {
   "cell_type": "markdown",
   "metadata": {},
   "source": [
    "# Selection Sort\n",
    "\n",
    "### **Definition:**\n",
    "\n",
    "**Selection Sort** algorithm sorts an array by repeatedly finding the minimum element from unsorted part and putting it at the begining.\n",
    "\n",
    "### **Steps:**\n",
    "\n",
    "1. Find the smallest element in the unsorted sequence, store it at the beginning of the sorted sequence.\n",
    "2. Continue to find the smallest element from the remaining unsorted elements, and put it at the end of the sorted sequence\n",
    "3. Repeat step 2 until all the elements are sorted.\n",
    "\n",
    "#### **Time Complexity:**\n",
    "\n",
    "* Average: $O(n^2)$\n",
    "* Best: $O(n^2)$\n",
    "* Worst: $O(n^2)$\n",
    " \n",
    "#### **Pseudocode:**\n",
    "\n",
    "```python\n",
    "for i in range(arr_length):\n",
    "    min = i\n",
    "    for j in range(i+1 to arr_length):\n",
    "        if(arr[j]<arr[min]):\n",
    "            min = j\n",
    "    swap(arr[min] and arr[i])\n",
    "```"
   ]
  },
  {
   "cell_type": "code",
   "execution_count": 114,
   "metadata": {},
   "outputs": [
    {
     "data": {
      "text/plain": [
       "Step0: 1 2 4 5 6 7 8 \n",
       "Step1: 1 2 4 5 6 7 8 \n",
       "Step2: 1 2 4 5 6 7 8 \n",
       "Step3: 1 2 4 5 6 7 8 \n",
       "Step4: 1 2 4 5 6 7 8 \n",
       "Step5: 1 2 4 5 6 7 8 \n",
       "Step6: 1 2 4 5 6 7 8 \n"
      ]
     },
     "metadata": {},
     "output_type": "display_data"
    }
   ],
   "source": [
    "public int[] SelectionSort(int[] arr){\n",
    "    for(int i = 0; i<arr.Length;i++)\n",
    "    {\n",
    "        int minIndex = i; // smallest index\n",
    "        for(int j = i+1;j<arr.Length;j++)\n",
    "        {\n",
    "            if(arr[j]<arr[minIndex])\n",
    "                minIndex = j;\n",
    "        }\n",
    "        \n",
    "        // Only swap when minIndex changed\n",
    "        if(minIndex!=i)\n",
    "            Swap(ref arr[minIndex], ref arr[i]);\n",
    "            \n",
    "        PrintSteps(arr,i);\n",
    "        \n",
    "\n",
    "    }\n",
    "    return arr;\n",
    "}\n",
    "\n",
    "SelectionSort(arr);\n"
   ]
  },
  {
   "cell_type": "code",
   "execution_count": null,
   "metadata": {},
   "outputs": [],
   "source": []
  }
 ],
 "metadata": {
  "kernelspec": {
   "display_name": "C#",
   "language": "csharp",
   "name": "icsharpkernel"
  },
  "language": "csharp",
  "language_info": {
   "codemirror_mode": "",
   "file_extension": ".cs",
   "mimetype": "text/x-csharp",
   "name": "csharp",
   "nbconvert_exporter": "",
   "pygments_lexer": "",
   "version": "6.0.0.0"
  }
 },
 "nbformat": 4,
 "nbformat_minor": 2
}
