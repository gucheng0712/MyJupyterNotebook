{
 "cells": [
  {
   "cell_type": "markdown",
   "metadata": {},
   "source": [
    "# Rules of Derivative"
   ]
  },
  {
   "cell_type": "markdown",
   "metadata": {},
   "source": [
    "### Power Rule: $$\\frac{d}{dx}[x^n]=nx^{n-1}$$\n",
    "\n",
    "\n",
    "### Constant Rule: $$\\frac{d}{dx}[k] = 0$$\n",
    "\n",
    "\n",
    "### Sum Rule: $$\\frac{d}{dx}[b(x)+g(x))]=\\frac{d}{dx}[h(x)]+\\frac{d}{dx}[g(x)]$$\n",
    "\n",
    "### Difference Rule: $$\\frac{d}{dx}[h(x)-g(x))]=\\frac{d}{dx}[h(x)]-\\frac{d}{dx}[g(x)]$$\n",
    "\n",
    "### Product Rule: $$\\frac{d}{dx}[b(x)g(x)]=\\frac{d}{dx}[h(x)]g(x)+{h(x)}\\frac{d}{dx}[g(x)]$$"
   ]
  },
  {
   "cell_type": "markdown",
   "metadata": {},
   "source": [
    "### Quotient Rule: $$\\frac{d}{dx}[\\frac{h(x)}{g(x)}]=\\frac{h(x)\\frac{d}{dx}[g(x)]-\\frac{d}{dx}[h(x)]g(x)}{h(x)^2}$$"
   ]
  }
 ],
 "metadata": {
  "kernelspec": {
   "display_name": "Python 3",
   "language": "python",
   "name": "python3"
  },
  "language_info": {
   "codemirror_mode": {
    "name": "ipython",
    "version": 3
   },
   "file_extension": ".py",
   "mimetype": "text/x-python",
   "name": "python",
   "nbconvert_exporter": "python",
   "pygments_lexer": "ipython3",
   "version": "3.7.1"
  }
 },
 "nbformat": 4,
 "nbformat_minor": 2
}
